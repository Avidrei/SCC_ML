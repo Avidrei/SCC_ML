{
 "cells": [
  {
   "cell_type": "markdown",
   "id": "6e900c6d",
   "metadata": {},
   "source": [
    "# Code Description\n",
    "- This notebook tackles the codes about evaluation of the model for squamous cell carcinoma"
   ]
  },
  {
   "cell_type": "markdown",
   "id": "9a896ae3",
   "metadata": {},
   "source": [
    "## Part 0 : Code Imports"
   ]
  },
  {
   "cell_type": "markdown",
   "id": "4c8e2a1f",
   "metadata": {},
   "source": [
    "## Part 1 : Model Evaluation Standard Metrics"
   ]
  },
  {
   "cell_type": "markdown",
   "id": "7f6b5fa4",
   "metadata": {},
   "source": [
    "## Part 2 : Model Statistical Treatment"
   ]
  },
  {
   "cell_type": "markdown",
   "id": "59d22fd6",
   "metadata": {},
   "source": [
    "## Part 3 : Grad-CAM usage"
   ]
  }
 ],
 "metadata": {
  "language_info": {
   "name": "python"
  }
 },
 "nbformat": 4,
 "nbformat_minor": 5
}
