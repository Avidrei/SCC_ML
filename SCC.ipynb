{
 "cells": [
  {
   "cell_type": "markdown",
   "id": "868f8649",
   "metadata": {},
   "source": [
    "# Code Description \n",
    "## Exploratory Data Analysis Code \n",
    "- This notebook tackles all code related to loading and training the SCC models"
   ]
  },
  {
   "cell_type": "markdown",
   "id": "f3baeba2",
   "metadata": {},
   "source": [
    "## Part 0 : Code Imports"
   ]
  },
  {
   "cell_type": "code",
   "execution_count": 9,
   "id": "4043afa5",
   "metadata": {},
   "outputs": [],
   "source": [
    "import os\n",
    "import numpy as np\n",
    "import pandas as pd\n",
    "import matplotlib.pyplot as plt\n",
    "import seaborn as sns\n",
    "import time\n",
    "import torch\n",
    "from torch.utils.data import Dataset, DataLoader, Subset\n",
    "import torchvision.transforms as T\n",
    "from PIL import Image\n",
    "from sklearn.model_selection import StratifiedKFold\n",
    "from sklearn.metrics import precision_score, recall_score, f1_score, accuracy_score\n",
    "from thop import profile\n",
    "import torchvision.models as models\n",
    "from transformers import ViTForImageClassification\n",
    "from torchsummary import summary\n",
    "import timm\n",
    "from timm import create_model \n",
    "import torch.nn as nn\n",
    "import torch.optim as optim\n",
    "import gc\n",
    "from tqdm.auto import tqdm\n",
    "from ptflops import get_model_complexity_info\n",
    "from torch.cuda.amp import autocast, GradScaler"
   ]
  },
  {
   "cell_type": "markdown",
   "id": "e6607bc2",
   "metadata": {},
   "source": [
    "## Dataset Loading Methods"
   ]
  },
  {
   "cell_type": "code",
   "execution_count": 10,
   "id": "618b5834",
   "metadata": {},
   "outputs": [],
   "source": [
    "def load_image_paths(data_dir):\n",
    "    image_paths, labels = [], []\n",
    "    class_names = sorted([d for d in os.listdir(data_dir) if os.path.isdir(os.path.join(data_dir, d))])\n",
    "    label_map = {name: idx for idx, name in enumerate(class_names)}\n",
    "    valid_exts = ('.png', '.jpg', '.jpeg', '.bmp', '.tiff')\n",
    "\n",
    "    for class_name in class_names:\n",
    "        class_folder = os.path.join(data_dir, class_name)\n",
    "        for filename in os.listdir(class_folder):\n",
    "            if filename.lower().endswith(valid_exts):\n",
    "                file_path = os.path.join(class_folder, filename)\n",
    "                try:\n",
    "                    Image.open(file_path).verify()\n",
    "                    image_paths.append(file_path)\n",
    "                    labels.append(label_map[class_name])\n",
    "                except Exception:\n",
    "                    print(f\"⚠️ Skipping corrupted file: {file_path}\")\n",
    "\n",
    "    return np.array(image_paths), np.array(labels, dtype=np.int64), class_names\n",
    "\n",
    "class CustomImageDataset(Dataset):\n",
    "    def __init__(self, image_paths, labels, img_size=(224, 224), augment=False):\n",
    "        self.image_paths = image_paths\n",
    "        self.labels = labels\n",
    "        if augment:\n",
    "            self.transform = T.Compose([\n",
    "                T.Resize((256, 256)),\n",
    "                T.RandomCrop(img_size),\n",
    "                T.RandomHorizontalFlip(),\n",
    "                T.RandomVerticalFlip(),\n",
    "                T.ColorJitter(brightness=0.2, contrast=0.2, saturation=0.2, hue=0.1),\n",
    "                T.ToTensor(),\n",
    "                T.Normalize(mean=[0.5]*3, std=[0.5]*3)\n",
    "            ])\n",
    "        else:\n",
    "            self.transform = T.Compose([\n",
    "                T.Resize(img_size),\n",
    "                T.ToTensor(),\n",
    "                T.Normalize(mean=[0.5]*3, std=[0.5]*3)\n",
    "            ])\n",
    "\n",
    "    def __len__(self): return len(self.image_paths)\n",
    "\n",
    "    def __getitem__(self, idx):\n",
    "        img = Image.open(self.image_paths[idx]).convert(\"RGB\")\n",
    "        img = self.transform(img)\n",
    "        label = torch.tensor(self.labels[idx], dtype=torch.long)\n",
    "        return img, label\n",
    "\n",
    "\n",
    "def get_dataloader(image_paths, labels, batch_size=32, augment=False, img_size=(224, 224), shuffle=True):\n",
    "    ds = CustomImageDataset(image_paths, labels, img_size=img_size, augment=augment)\n",
    "    return DataLoader(ds, batch_size=batch_size, shuffle=shuffle, num_workers=0, pin_memory=True)"
   ]
  },
  {
   "cell_type": "markdown",
   "id": "07226195",
   "metadata": {},
   "source": [
    "## Model Builder"
   ]
  },
  {
   "cell_type": "code",
   "execution_count": 11,
   "id": "d41be1e3",
   "metadata": {},
   "outputs": [],
   "source": [
    "import torch.nn as nn\n",
    "from torchvision import models\n",
    "from timm import create_model  \n",
    "\n",
    "def build_model(model_name, num_classes=2, pretrained=False):\n",
    "    model_name = model_name.lower()\n",
    "    \n",
    "    if model_name == \"convnext_tiny\":\n",
    "        model = models.convnext_tiny(pretrained=pretrained)\n",
    "        in_features = model.classifier[2].in_features\n",
    "        model.classifier[2] = nn.Linear(in_features, num_classes)\n",
    "    \n",
    "    elif model_name == \"vit_base_patch16_224\":\n",
    "        model = models.vit_b_16(pretrained=pretrained)\n",
    "        in_features = model.heads.head.in_features\n",
    "        model.heads.head = nn.Linear(in_features, num_classes)\n",
    "    \n",
    "    elif model_name.startswith(\"coatnet\"):\n",
    "        model = create_model(model_name, pretrained=pretrained, num_classes=num_classes)\n",
    "    \n",
    "    else:\n",
    "        raise ValueError(f\"Unknown model name: {model_name}\")\n",
    "    \n",
    "    return model\n"
   ]
  },
  {
   "cell_type": "markdown",
   "id": "19d80eb3",
   "metadata": {},
   "source": [
    "## Model Measurements"
   ]
  },
  {
   "cell_type": "code",
   "execution_count": 12,
   "id": "a3094480",
   "metadata": {},
   "outputs": [],
   "source": [
    "def print_model_complexity(model, device, input_size=(3, 224, 224), print_layers=True):\n",
    "    model = model.to(device)\n",
    "    x = torch.randn(1, *input_size).to(device)\n",
    "    flops, params = profile(model, inputs=(x,), verbose=False)\n",
    "    print(f\"🧠 Parameters: {params/1e6:.2f} M\")\n",
    "    print(f\"🚀 FLOPs (1x{input_size[-1]}x{input_size[-1]}): {flops/1e9:.2f} GFLOPs\")\n",
    "    if print_layers:\n",
    "        try:\n",
    "            summary(model, input_size=input_size, device=str(device))\n",
    "        except Exception as e:\n",
    "            print(f\"(summary skipped: {e})\")\n",
    "\n",
    "\n",
    "def measure_latency_throughput(model, device, batch_size=32, input_size=(3,224,224), repeats=50):\n",
    "    model.eval()\n",
    "    dummy = torch.randn(batch_size, *input_size, device=device)\n",
    "\n",
    "    with torch.no_grad():\n",
    "        for _ in range(5): _ = model(dummy)\n",
    "    if device.type == \"cuda\": torch.cuda.synchronize()\n",
    "    start = time.time()\n",
    "    with torch.no_grad():\n",
    "        for _ in range(repeats): _ = model(dummy)\n",
    "    if device.type == \"cuda\": torch.cuda.synchronize()\n",
    "    total = time.time() - start\n",
    "    avg_latency_ms = (total / repeats) * 1000.0\n",
    "    throughput = (batch_size * repeats) / total\n",
    "    print(f\"⚡ Avg Latency: {avg_latency_ms:.2f} ms | 📈 Throughput: {throughput:.2f} img/s\")"
   ]
  },
  {
   "cell_type": "markdown",
   "id": "195577b8",
   "metadata": {},
   "source": [
    "## Model Training and Evaluation Utilities"
   ]
  },
  {
   "cell_type": "code",
   "execution_count": 13,
   "id": "3d6bcdc1",
   "metadata": {},
   "outputs": [],
   "source": [
    "def train_one_epoch(model, loader, criterion, optimizer, device):\n",
    "    model.train()\n",
    "    running_loss, correct, total = 0.0, 0, 0\n",
    "    for imgs, labels in loader:\n",
    "        imgs, labels = imgs.to(device), labels.to(device)\n",
    "        optimizer.zero_grad(set_to_none=True)\n",
    "        outputs = model(imgs)\n",
    "        loss = criterion(outputs, labels)\n",
    "        loss.backward()\n",
    "        optimizer.step()\n",
    "\n",
    "        running_loss += loss.item() * imgs.size(0)\n",
    "        preds = outputs.argmax(1)\n",
    "        correct += (preds == labels).sum().item()\n",
    "        total += labels.size(0)\n",
    "\n",
    "    return running_loss / total, correct / total\n",
    "\n",
    "\n",
    "@torch.no_grad()\n",
    "def evaluate(model, loader, criterion, device):\n",
    "    model.eval()\n",
    "    running_loss, total = 0.0, 0\n",
    "    all_preds, all_labels = [], []\n",
    "\n",
    "    for imgs, labels in loader:\n",
    "        imgs, labels = imgs.to(device), labels.to(device)\n",
    "        outputs = model(imgs)\n",
    "        loss = criterion(outputs, labels)\n",
    "        running_loss += loss.item() * imgs.size(0)\n",
    "        preds = outputs.argmax(1)\n",
    "\n",
    "        total += labels.size(0)\n",
    "        all_preds.extend(preds.cpu().numpy())\n",
    "        all_labels.extend(labels.cpu().numpy())\n",
    "\n",
    "    val_loss = running_loss / total\n",
    "    acc = accuracy_score(all_labels, all_preds)\n",
    "    prec = precision_score(all_labels, all_preds, average='macro', zero_division=0)\n",
    "    rec = recall_score(all_labels, all_preds, average='macro', zero_division=0)\n",
    "    f1 = f1_score(all_labels, all_preds, average='macro', zero_division=0)\n",
    "    return val_loss, acc, prec, rec, f1\n",
    "\n",
    "\n",
    "def plot_history(history, title, out_png):\n",
    "    plt.figure(figsize=(10,4))\n",
    "    plt.suptitle(title)\n",
    "    plt.subplot(1,2,1)\n",
    "    plt.plot(history['train_acc'], label='Train Acc')\n",
    "    plt.plot(history['val_acc'], label='Val Acc')\n",
    "    plt.xlabel('Epoch'); plt.ylabel('Accuracy'); plt.legend(); plt.grid(True); plt.title('Accuracy')\n",
    "\n",
    "    plt.subplot(1,2,2)\n",
    "    plt.plot(history['train_loss'], label='Train Loss')\n",
    "    plt.plot(history['val_loss'], label='Val Loss')\n",
    "    plt.xlabel('Epoch'); plt.ylabel('Loss'); plt.legend(); plt.grid(True); plt.title('Loss')\n",
    "\n",
    "    plt.tight_layout(rect=[0,0,1,0.95])\n",
    "    plt.savefig(out_png, dpi=140)\n",
    "    plt.show()"
   ]
  },
  {
   "cell_type": "markdown",
   "id": "8fab710e",
   "metadata": {},
   "source": [
    "## Training Codes"
   ]
  },
  {
   "cell_type": "code",
   "execution_count": 14,
   "id": "742225d4",
   "metadata": {},
   "outputs": [],
   "source": [
    "def run_phase(model, phase_name, train_loader, val_loader, device, epochs=10, lr=1e-4, weight_decay=1e-4, out_dir=\"models\", use_amp=True):\n",
    "    criterion = nn.CrossEntropyLoss()\n",
    "    optimizer = optim.AdamW(model.parameters(), lr=lr, weight_decay=weight_decay)\n",
    "    scaler = GradScaler() if use_amp else None\n",
    "    history = {'train_loss': [], 'train_acc': [], 'val_loss': [], 'val_acc': []}\n",
    "\n",
    "    os.makedirs(out_dir, exist_ok=True)\n",
    "    best_acc, best_state_path, best_full_path = 0.0, os.path.join(out_dir, f\"{phase_name}_best.pth\"), os.path.join(out_dir, f\"{phase_name}_best_full.pth\")\n",
    "\n",
    "    print(f\"\\n▶️ Phase: {phase_name} | epochs={epochs} | lr={lr} | weight_decay={weight_decay}\")\n",
    "    \n",
    "    for epoch in range(1, epochs+1):\n",
    "        print(f\"\\n--- Epoch {epoch}/{epochs} ---\")\n",
    "        model.train()\n",
    "        running_loss, running_correct, total = 0.0, 0, 0\n",
    "\n",
    "        for i, (inputs, targets) in enumerate(train_loader):\n",
    "            try:\n",
    "                inputs, targets = inputs.to(device), targets.to(device)\n",
    "                optimizer.zero_grad(set_to_none=True)\n",
    "\n",
    "                if use_amp:\n",
    "                    with autocast():\n",
    "                        outputs = model(inputs)\n",
    "                        loss = criterion(outputs, targets)\n",
    "                    scaler.scale(loss).backward()\n",
    "                    scaler.step(optimizer)\n",
    "                    scaler.update()\n",
    "                else:\n",
    "                    outputs = model(inputs)\n",
    "                    loss = criterion(outputs, targets)\n",
    "                    loss.backward()\n",
    "                    optimizer.step()\n",
    "\n",
    "                running_loss += loss.item() * inputs.size(0)\n",
    "                preds = outputs.argmax(1)\n",
    "                running_correct += (preds == targets).sum().item()\n",
    "                total += targets.size(0)\n",
    "\n",
    "                if i % 5 == 0:\n",
    "                    print(f\"Batch {i}/{len(train_loader)} | Loss: {running_loss/total:.4f} | Acc: {running_correct/total:.4f}\")\n",
    "\n",
    "            except Exception as e:\n",
    "                print(f\"⚠️ Skipping batch {i} due to error: {e}\")\n",
    "\n",
    "        tr_loss = running_loss / max(total, 1)\n",
    "        tr_acc = running_correct / max(total, 1)\n",
    "\n",
    "        # Validation\n",
    "        va_loss, va_acc, va_prec, va_rec, va_f1 = evaluate(model, val_loader, criterion, device)\n",
    "\n",
    "        history['train_loss'].append(tr_loss)\n",
    "        history['train_acc'].append(tr_acc)\n",
    "        history['val_loss'].append(va_loss)\n",
    "        history['val_acc'].append(va_acc)\n",
    "\n",
    "        print(f\"Epoch {epoch:02d} | Train Loss: {tr_loss:.4f}, Acc: {tr_acc:.4f} | \"\n",
    "              f\"Val Loss: {va_loss:.4f}, Acc: {va_acc:.4f}, P: {va_prec:.4f}, R: {va_rec:.4f}, F1: {va_f1:.4f}\")\n",
    "\n",
    "        # Save best model\n",
    "        if va_acc > best_acc:\n",
    "            best_acc = va_acc\n",
    "            # Save state dict\n",
    "            torch.save(model.state_dict(), best_state_path)\n",
    "            # Save full model\n",
    "            torch.save(model, best_full_path)\n",
    "\n",
    "    return history, best_acc, best_state_path, best_full_path\n",
    "\n",
    "\n",
    "def run_kfold_training(\n",
    "    model_name: str,\n",
    "    dataset_path: str,\n",
    "    k: int = 5,\n",
    "    epochs_frozen: int = 10,\n",
    "    epochs_ft: int = 20,\n",
    "    batch_size: int = 32,\n",
    "    img_size=(224,224),\n",
    "    base_lr: float = 1e-3,\n",
    "    ft_lr: float = 1e-4,\n",
    "    weight_decay: float = 1e-4,\n",
    "    pretrained=True\n",
    "):\n",
    "    device = torch.device(\"cuda\" if torch.cuda.is_available() else \"cpu\")\n",
    "    image_paths, labels, class_names = load_image_paths(dataset_path)\n",
    "    num_classes = len(class_names)\n",
    "\n",
    "    model_dir = os.path.join(\"models\", model_name)\n",
    "    os.makedirs(model_dir, exist_ok=True)\n",
    "\n",
    "    skf = StratifiedKFold(n_splits=k, shuffle=True, random_state=42)\n",
    "    all_results = []\n",
    "    fold_idx = 0\n",
    "\n",
    "    for train_idx, val_idx in skf.split(image_paths, labels):\n",
    "        fold_idx += 1\n",
    "        print(f\"\\n==================== Fold {fold_idx}/{k} — {model_name} ====================\")\n",
    "\n",
    "        fold_dir = os.path.join(model_dir, f\"fold{fold_idx}\")\n",
    "        os.makedirs(fold_dir, exist_ok=True)\n",
    "\n",
    "        train_loader = get_dataloader(image_paths[train_idx], labels[train_idx],\n",
    "                                      batch_size=batch_size, augment=True, img_size=img_size, shuffle=True)\n",
    "        val_loader = get_dataloader(image_paths[val_idx], labels[val_idx],\n",
    "                                    batch_size=batch_size, augment=False, img_size=img_size, shuffle=False)\n",
    "\n",
    "        model = build_model(model_name, num_classes=num_classes, pretrained=pretrained).to(device)\n",
    "\n",
    "        # Freeze backbone\n",
    "        for name, param in model.named_parameters():\n",
    "            param.requires_grad = False\n",
    "        for name, param in model.named_parameters():\n",
    "            if any(key in name for key in ['head', 'classifier', 'fc', 'bn', 'norm']):\n",
    "                param.requires_grad = True\n",
    "\n",
    "        # Phase 1: Frozen backbone\n",
    "        hist_frozen, best_acc_frozen, best_state_frozen, best_full_frozen = run_phase(\n",
    "            model, phase_name=f\"fold{fold_idx}_frozen\",\n",
    "            train_loader=train_loader, val_loader=val_loader,\n",
    "            device=device, epochs=epochs_frozen, lr=base_lr,\n",
    "            weight_decay=weight_decay, out_dir=fold_dir\n",
    "        )\n",
    "\n",
    "        model.load_state_dict(torch.load(best_state_frozen, map_location=device))\n",
    "\n",
    "        # Phase 2: Fine-tune all layers\n",
    "        for p in model.parameters(): p.requires_grad = True\n",
    "        hist_ft, best_acc_ft, best_state_ft, best_full_ft = run_phase(\n",
    "            model, phase_name=f\"fold{fold_idx}_finetune\",\n",
    "            train_loader=train_loader, val_loader=val_loader,\n",
    "            device=device, epochs=epochs_ft, lr=ft_lr,\n",
    "            weight_decay=weight_decay, out_dir=fold_dir\n",
    "        )\n",
    "\n",
    "        model.load_state_dict(torch.load(best_state_ft, map_location=device))\n",
    "        val_loss, val_acc, val_prec, val_rec, val_f1 = evaluate(model, val_loader, nn.CrossEntropyLoss(), device)\n",
    "\n",
    "        all_results.append({\n",
    "            \"fold\": fold_idx,\n",
    "            \"best_acc_frozen\": best_acc_frozen,\n",
    "            \"best_acc_finetune\": best_acc_ft,\n",
    "            \"final_val_acc\": val_acc,\n",
    "            \"final_val_precision\": val_prec,\n",
    "            \"final_val_recall\": val_rec,\n",
    "            \"final_val_f1\": val_f1,\n",
    "            \"best_ckpt_frozen_state\": best_state_frozen,\n",
    "            \"best_ckpt_frozen_full\": best_full_frozen,\n",
    "            \"best_ckpt_finetune_state\": best_state_ft,\n",
    "            \"best_ckpt_finetune_full\": best_full_ft\n",
    "        })\n",
    "\n",
    "        # Cleanup\n",
    "        del model, train_loader, val_loader\n",
    "        if device.type == \"cuda\": torch.cuda.empty_cache()\n",
    "        gc.collect()\n",
    "\n",
    "    # Save results\n",
    "    df = pd.DataFrame(all_results)\n",
    "    csv_name = os.path.join(model_dir, f\"{model_name}_kfold_results.csv\")\n",
    "    df.to_csv(csv_name, index=False)\n",
    "    print(f\"\\n📄 Saved results: {csv_name}\")\n",
    "\n",
    "    plt.figure(figsize=(6,4))\n",
    "    plt.plot(df[\"fold\"], df[\"final_val_acc\"], marker='o')\n",
    "    plt.xlabel(\"Fold\"); plt.ylabel(\"Final Val Accuracy\")\n",
    "    plt.title(f\"{model_name} — Accuracy Across Folds (Fine-tuned best)\")\n",
    "    plt.grid(True)\n",
    "    plt.savefig(os.path.join(model_dir, f\"{model_name}_kfold_final_acc.png\"), dpi=140)\n",
    "    plt.show()\n"
   ]
  },
  {
   "cell_type": "markdown",
   "id": "746aedca",
   "metadata": {},
   "source": [
    "## Usage"
   ]
  },
  {
   "cell_type": "code",
   "execution_count": 15,
   "id": "d4ed6769",
   "metadata": {},
   "outputs": [],
   "source": [
    "dataset_path = \"Dataset\" "
   ]
  },
  {
   "cell_type": "markdown",
   "id": "33bb2856",
   "metadata": {},
   "source": [
    "- ConVNexT Tiny"
   ]
  },
  {
   "cell_type": "code",
   "execution_count": 16,
   "id": "70a36eae",
   "metadata": {},
   "outputs": [
    {
     "name": "stdout",
     "output_type": "stream",
     "text": [
      "\n",
      "==================== Fold 1/5 — convnext_tiny ====================\n"
     ]
    },
    {
     "name": "stderr",
     "output_type": "stream",
     "text": [
      "c:\\Users\\cauba\\AppData\\Local\\Programs\\Python\\Python311\\Lib\\site-packages\\torchvision\\models\\_utils.py:208: UserWarning: The parameter 'pretrained' is deprecated since 0.13 and may be removed in the future, please use 'weights' instead.\n",
      "  warnings.warn(\n",
      "c:\\Users\\cauba\\AppData\\Local\\Programs\\Python\\Python311\\Lib\\site-packages\\torchvision\\models\\_utils.py:223: UserWarning: Arguments other than a weight enum or `None` for 'weights' are deprecated since 0.13 and may be removed in the future. The current behavior is equivalent to passing `weights=ConvNeXt_Tiny_Weights.IMAGENET1K_V1`. You can also use `weights=ConvNeXt_Tiny_Weights.DEFAULT` to get the most up-to-date weights.\n",
      "  warnings.warn(msg)\n",
      "C:\\Users\\cauba\\AppData\\Local\\Temp\\ipykernel_5988\\3359186712.py:4: FutureWarning: `torch.cuda.amp.GradScaler(args...)` is deprecated. Please use `torch.amp.GradScaler('cuda', args...)` instead.\n",
      "  scaler = GradScaler() if use_amp else None\n"
     ]
    },
    {
     "name": "stdout",
     "output_type": "stream",
     "text": [
      "\n",
      "▶️ Phase: fold1_frozen | epochs=10 | lr=0.001 | weight_decay=0.0001\n",
      "\n",
      "--- Epoch 1/10 ---\n"
     ]
    },
    {
     "name": "stderr",
     "output_type": "stream",
     "text": [
      "C:\\Users\\cauba\\AppData\\Local\\Temp\\ipykernel_5988\\3359186712.py:23: FutureWarning: `torch.cuda.amp.autocast(args...)` is deprecated. Please use `torch.amp.autocast('cuda', args...)` instead.\n",
      "  with autocast():\n"
     ]
    },
    {
     "name": "stdout",
     "output_type": "stream",
     "text": [
      "Batch 0/21 | Loss: 0.6867 | Acc: 0.5625\n",
      "Batch 5/21 | Loss: 0.6102 | Acc: 0.6875\n",
      "Batch 10/21 | Loss: 0.5730 | Acc: 0.6903\n",
      "Batch 15/21 | Loss: 0.5559 | Acc: 0.7031\n",
      "Batch 20/21 | Loss: 0.5473 | Acc: 0.7039\n",
      "Epoch 01 | Train Loss: 0.5473, Acc: 0.7039 | Val Loss: 0.4043, Acc: 0.8133, P: 0.8093, R: 0.8172, F1: 0.8108\n",
      "\n",
      "--- Epoch 2/10 ---\n"
     ]
    },
    {
     "name": "stderr",
     "output_type": "stream",
     "text": [
      "C:\\Users\\cauba\\AppData\\Local\\Temp\\ipykernel_5988\\3359186712.py:23: FutureWarning: `torch.cuda.amp.autocast(args...)` is deprecated. Please use `torch.amp.autocast('cuda', args...)` instead.\n",
      "  with autocast():\n"
     ]
    },
    {
     "name": "stdout",
     "output_type": "stream",
     "text": [
      "Batch 0/21 | Loss: 0.3567 | Acc: 0.8438\n",
      "Batch 5/21 | Loss: 0.4255 | Acc: 0.8333\n",
      "Batch 10/21 | Loss: 0.4101 | Acc: 0.8324\n",
      "Batch 15/21 | Loss: 0.4005 | Acc: 0.8340\n",
      "Batch 20/21 | Loss: 0.3857 | Acc: 0.8459\n",
      "Epoch 02 | Train Loss: 0.3857, Acc: 0.8459 | Val Loss: 0.2971, Acc: 0.8916, P: 0.8971, R: 0.8800, F1: 0.8862\n",
      "\n",
      "--- Epoch 3/10 ---\n"
     ]
    },
    {
     "name": "stderr",
     "output_type": "stream",
     "text": [
      "C:\\Users\\cauba\\AppData\\Local\\Temp\\ipykernel_5988\\3359186712.py:23: FutureWarning: `torch.cuda.amp.autocast(args...)` is deprecated. Please use `torch.amp.autocast('cuda', args...)` instead.\n",
      "  with autocast():\n"
     ]
    },
    {
     "name": "stdout",
     "output_type": "stream",
     "text": [
      "Batch 0/21 | Loss: 0.3927 | Acc: 0.8438\n",
      "Batch 5/21 | Loss: 0.3690 | Acc: 0.8385\n",
      "Batch 10/21 | Loss: 0.3610 | Acc: 0.8551\n",
      "Batch 15/21 | Loss: 0.3531 | Acc: 0.8633\n",
      "Batch 20/21 | Loss: 0.3471 | Acc: 0.8640\n",
      "Epoch 03 | Train Loss: 0.3471, Acc: 0.8640 | Val Loss: 0.2724, Acc: 0.9096, P: 0.9184, R: 0.8976, F1: 0.9049\n",
      "\n",
      "--- Epoch 4/10 ---\n"
     ]
    },
    {
     "name": "stderr",
     "output_type": "stream",
     "text": [
      "C:\\Users\\cauba\\AppData\\Local\\Temp\\ipykernel_5988\\3359186712.py:23: FutureWarning: `torch.cuda.amp.autocast(args...)` is deprecated. Please use `torch.amp.autocast('cuda', args...)` instead.\n",
      "  with autocast():\n"
     ]
    },
    {
     "name": "stdout",
     "output_type": "stream",
     "text": [
      "Batch 0/21 | Loss: 0.3437 | Acc: 0.8438\n",
      "Batch 5/21 | Loss: 0.3642 | Acc: 0.8281\n",
      "Batch 10/21 | Loss: 0.3314 | Acc: 0.8551\n",
      "Batch 15/21 | Loss: 0.3224 | Acc: 0.8613\n",
      "Batch 20/21 | Loss: 0.3171 | Acc: 0.8701\n",
      "Epoch 04 | Train Loss: 0.3171, Acc: 0.8701 | Val Loss: 0.2445, Acc: 0.9157, P: 0.9121, R: 0.9153, F1: 0.9135\n",
      "\n",
      "--- Epoch 5/10 ---\n"
     ]
    },
    {
     "name": "stderr",
     "output_type": "stream",
     "text": [
      "C:\\Users\\cauba\\AppData\\Local\\Temp\\ipykernel_5988\\3359186712.py:23: FutureWarning: `torch.cuda.amp.autocast(args...)` is deprecated. Please use `torch.amp.autocast('cuda', args...)` instead.\n",
      "  with autocast():\n"
     ]
    },
    {
     "name": "stdout",
     "output_type": "stream",
     "text": [
      "Batch 0/21 | Loss: 0.2672 | Acc: 0.8750\n",
      "Batch 5/21 | Loss: 0.2922 | Acc: 0.8646\n",
      "Batch 10/21 | Loss: 0.2936 | Acc: 0.8693\n",
      "Batch 15/21 | Loss: 0.2909 | Acc: 0.8711\n",
      "Batch 20/21 | Loss: 0.2890 | Acc: 0.8716\n",
      "Epoch 05 | Train Loss: 0.2890, Acc: 0.8716 | Val Loss: 0.2333, Acc: 0.9096, P: 0.9077, R: 0.9059, F1: 0.9068\n",
      "\n",
      "--- Epoch 6/10 ---\n"
     ]
    },
    {
     "name": "stderr",
     "output_type": "stream",
     "text": [
      "C:\\Users\\cauba\\AppData\\Local\\Temp\\ipykernel_5988\\3359186712.py:23: FutureWarning: `torch.cuda.amp.autocast(args...)` is deprecated. Please use `torch.amp.autocast('cuda', args...)` instead.\n",
      "  with autocast():\n"
     ]
    },
    {
     "name": "stdout",
     "output_type": "stream",
     "text": [
      "Batch 0/21 | Loss: 0.2427 | Acc: 0.9062\n",
      "Batch 5/21 | Loss: 0.2563 | Acc: 0.8906\n",
      "Batch 10/21 | Loss: 0.2719 | Acc: 0.8835\n",
      "Batch 15/21 | Loss: 0.2628 | Acc: 0.8926\n",
      "Batch 20/21 | Loss: 0.2709 | Acc: 0.8912\n",
      "Epoch 06 | Train Loss: 0.2709, Acc: 0.8912 | Val Loss: 0.2329, Acc: 0.8916, P: 0.8870, R: 0.8947, F1: 0.8896\n",
      "\n",
      "--- Epoch 7/10 ---\n"
     ]
    },
    {
     "name": "stderr",
     "output_type": "stream",
     "text": [
      "C:\\Users\\cauba\\AppData\\Local\\Temp\\ipykernel_5988\\3359186712.py:23: FutureWarning: `torch.cuda.amp.autocast(args...)` is deprecated. Please use `torch.amp.autocast('cuda', args...)` instead.\n",
      "  with autocast():\n"
     ]
    },
    {
     "name": "stdout",
     "output_type": "stream",
     "text": [
      "Batch 0/21 | Loss: 0.2793 | Acc: 0.8750\n",
      "Batch 5/21 | Loss: 0.2562 | Acc: 0.8958\n",
      "Batch 10/21 | Loss: 0.2380 | Acc: 0.9062\n",
      "Batch 15/21 | Loss: 0.2433 | Acc: 0.9043\n",
      "Batch 20/21 | Loss: 0.2564 | Acc: 0.8927\n",
      "Epoch 07 | Train Loss: 0.2564, Acc: 0.8927 | Val Loss: 0.2086, Acc: 0.9277, P: 0.9273, R: 0.9235, F1: 0.9253\n",
      "\n",
      "--- Epoch 8/10 ---\n"
     ]
    },
    {
     "name": "stderr",
     "output_type": "stream",
     "text": [
      "C:\\Users\\cauba\\AppData\\Local\\Temp\\ipykernel_5988\\3359186712.py:23: FutureWarning: `torch.cuda.amp.autocast(args...)` is deprecated. Please use `torch.amp.autocast('cuda', args...)` instead.\n",
      "  with autocast():\n"
     ]
    },
    {
     "name": "stdout",
     "output_type": "stream",
     "text": [
      "Batch 0/21 | Loss: 0.1545 | Acc: 0.9688\n",
      "Batch 5/21 | Loss: 0.2058 | Acc: 0.9375\n",
      "Batch 10/21 | Loss: 0.2131 | Acc: 0.9375\n",
      "Batch 15/21 | Loss: 0.2195 | Acc: 0.9219\n",
      "Batch 20/21 | Loss: 0.2510 | Acc: 0.8988\n",
      "Epoch 08 | Train Loss: 0.2510, Acc: 0.8988 | Val Loss: 0.2051, Acc: 0.9096, P: 0.9053, R: 0.9122, F1: 0.9079\n",
      "\n",
      "--- Epoch 9/10 ---\n"
     ]
    },
    {
     "name": "stderr",
     "output_type": "stream",
     "text": [
      "C:\\Users\\cauba\\AppData\\Local\\Temp\\ipykernel_5988\\3359186712.py:23: FutureWarning: `torch.cuda.amp.autocast(args...)` is deprecated. Please use `torch.amp.autocast('cuda', args...)` instead.\n",
      "  with autocast():\n"
     ]
    },
    {
     "name": "stdout",
     "output_type": "stream",
     "text": [
      "Batch 0/21 | Loss: 0.2982 | Acc: 0.8750\n",
      "Batch 5/21 | Loss: 0.2421 | Acc: 0.9115\n",
      "Batch 10/21 | Loss: 0.2377 | Acc: 0.9091\n",
      "Batch 15/21 | Loss: 0.2213 | Acc: 0.9199\n",
      "Batch 20/21 | Loss: 0.2404 | Acc: 0.9048\n",
      "Epoch 09 | Train Loss: 0.2404, Acc: 0.9048 | Val Loss: 0.1931, Acc: 0.9217, P: 0.9221, R: 0.9163, F1: 0.9189\n",
      "\n",
      "--- Epoch 10/10 ---\n"
     ]
    },
    {
     "name": "stderr",
     "output_type": "stream",
     "text": [
      "C:\\Users\\cauba\\AppData\\Local\\Temp\\ipykernel_5988\\3359186712.py:23: FutureWarning: `torch.cuda.amp.autocast(args...)` is deprecated. Please use `torch.amp.autocast('cuda', args...)` instead.\n",
      "  with autocast():\n"
     ]
    },
    {
     "name": "stdout",
     "output_type": "stream",
     "text": [
      "Batch 0/21 | Loss: 0.1576 | Acc: 0.9375\n",
      "Batch 5/21 | Loss: 0.2587 | Acc: 0.9010\n",
      "Batch 10/21 | Loss: 0.2444 | Acc: 0.9006\n",
      "Batch 15/21 | Loss: 0.2421 | Acc: 0.9062\n",
      "Batch 20/21 | Loss: 0.2452 | Acc: 0.9018\n",
      "Epoch 10 | Train Loss: 0.2452, Acc: 0.9018 | Val Loss: 0.1960, Acc: 0.9277, P: 0.9256, R: 0.9256, F1: 0.9256\n",
      "\n",
      "▶️ Phase: fold1_finetune | epochs=20 | lr=0.0001 | weight_decay=0.0001\n",
      "\n",
      "--- Epoch 1/20 ---\n"
     ]
    },
    {
     "name": "stderr",
     "output_type": "stream",
     "text": [
      "C:\\Users\\cauba\\AppData\\Local\\Temp\\ipykernel_5988\\3359186712.py:124: FutureWarning: You are using `torch.load` with `weights_only=False` (the current default value), which uses the default pickle module implicitly. It is possible to construct malicious pickle data which will execute arbitrary code during unpickling (See https://github.com/pytorch/pytorch/blob/main/SECURITY.md#untrusted-models for more details). In a future release, the default value for `weights_only` will be flipped to `True`. This limits the functions that could be executed during unpickling. Arbitrary objects will no longer be allowed to be loaded via this mode unless they are explicitly allowlisted by the user via `torch.serialization.add_safe_globals`. We recommend you start setting `weights_only=True` for any use case where you don't have full control of the loaded file. Please open an issue on GitHub for any issues related to this experimental feature.\n",
      "  model.load_state_dict(torch.load(best_state_frozen, map_location=device))\n",
      "C:\\Users\\cauba\\AppData\\Local\\Temp\\ipykernel_5988\\3359186712.py:4: FutureWarning: `torch.cuda.amp.GradScaler(args...)` is deprecated. Please use `torch.amp.GradScaler('cuda', args...)` instead.\n",
      "  scaler = GradScaler() if use_amp else None\n",
      "C:\\Users\\cauba\\AppData\\Local\\Temp\\ipykernel_5988\\3359186712.py:23: FutureWarning: `torch.cuda.amp.autocast(args...)` is deprecated. Please use `torch.amp.autocast('cuda', args...)` instead.\n",
      "  with autocast():\n"
     ]
    },
    {
     "name": "stdout",
     "output_type": "stream",
     "text": [
      "Batch 0/21 | Loss: 0.3407 | Acc: 0.8125\n",
      "Batch 5/21 | Loss: 0.3029 | Acc: 0.8490\n",
      "Batch 10/21 | Loss: 0.2660 | Acc: 0.8864\n",
      "Batch 15/21 | Loss: 0.3002 | Acc: 0.8750\n",
      "Batch 20/21 | Loss: 0.3050 | Acc: 0.8686\n",
      "Epoch 01 | Train Loss: 0.3050, Acc: 0.8686 | Val Loss: 0.2418, Acc: 0.8855, P: 0.8830, R: 0.8937, F1: 0.8843\n",
      "\n",
      "--- Epoch 2/20 ---\n"
     ]
    },
    {
     "name": "stderr",
     "output_type": "stream",
     "text": [
      "C:\\Users\\cauba\\AppData\\Local\\Temp\\ipykernel_5988\\3359186712.py:23: FutureWarning: `torch.cuda.amp.autocast(args...)` is deprecated. Please use `torch.amp.autocast('cuda', args...)` instead.\n",
      "  with autocast():\n"
     ]
    },
    {
     "name": "stdout",
     "output_type": "stream",
     "text": [
      "Batch 0/21 | Loss: 0.2636 | Acc: 0.9062\n",
      "Batch 5/21 | Loss: 0.2482 | Acc: 0.9062\n",
      "Batch 10/21 | Loss: 0.2421 | Acc: 0.9062\n",
      "Batch 15/21 | Loss: 0.2494 | Acc: 0.9004\n",
      "Batch 20/21 | Loss: 0.2477 | Acc: 0.8988\n",
      "Epoch 02 | Train Loss: 0.2477, Acc: 0.8988 | Val Loss: 0.1897, Acc: 0.9398, P: 0.9533, R: 0.9275, F1: 0.9364\n",
      "\n",
      "--- Epoch 3/20 ---\n"
     ]
    },
    {
     "name": "stderr",
     "output_type": "stream",
     "text": [
      "C:\\Users\\cauba\\AppData\\Local\\Temp\\ipykernel_5988\\3359186712.py:23: FutureWarning: `torch.cuda.amp.autocast(args...)` is deprecated. Please use `torch.amp.autocast('cuda', args...)` instead.\n",
      "  with autocast():\n"
     ]
    },
    {
     "name": "stdout",
     "output_type": "stream",
     "text": [
      "Batch 0/21 | Loss: 0.1426 | Acc: 0.8750\n",
      "Batch 5/21 | Loss: 0.1498 | Acc: 0.9271\n",
      "Batch 10/21 | Loss: 0.1726 | Acc: 0.9261\n",
      "Batch 15/21 | Loss: 0.1481 | Acc: 0.9395\n",
      "Batch 20/21 | Loss: 0.1456 | Acc: 0.9441\n",
      "Epoch 03 | Train Loss: 0.1456, Acc: 0.9441 | Val Loss: 0.1529, Acc: 0.9337, P: 0.9311, R: 0.9328, F1: 0.9319\n",
      "\n",
      "--- Epoch 4/20 ---\n"
     ]
    },
    {
     "name": "stderr",
     "output_type": "stream",
     "text": [
      "C:\\Users\\cauba\\AppData\\Local\\Temp\\ipykernel_5988\\3359186712.py:23: FutureWarning: `torch.cuda.amp.autocast(args...)` is deprecated. Please use `torch.amp.autocast('cuda', args...)` instead.\n",
      "  with autocast():\n"
     ]
    },
    {
     "name": "stdout",
     "output_type": "stream",
     "text": [
      "Batch 0/21 | Loss: 0.0721 | Acc: 0.9688\n",
      "Batch 5/21 | Loss: 0.0812 | Acc: 0.9531\n",
      "Batch 10/21 | Loss: 0.0795 | Acc: 0.9631\n",
      "Batch 15/21 | Loss: 0.0970 | Acc: 0.9629\n",
      "Batch 20/21 | Loss: 0.0995 | Acc: 0.9622\n",
      "Epoch 04 | Train Loss: 0.0995, Acc: 0.9622 | Val Loss: 0.1876, Acc: 0.9096, P: 0.9054, R: 0.9143, F1: 0.9082\n",
      "\n",
      "--- Epoch 5/20 ---\n"
     ]
    },
    {
     "name": "stderr",
     "output_type": "stream",
     "text": [
      "C:\\Users\\cauba\\AppData\\Local\\Temp\\ipykernel_5988\\3359186712.py:23: FutureWarning: `torch.cuda.amp.autocast(args...)` is deprecated. Please use `torch.amp.autocast('cuda', args...)` instead.\n",
      "  with autocast():\n"
     ]
    },
    {
     "name": "stdout",
     "output_type": "stream",
     "text": [
      "Batch 0/21 | Loss: 0.1128 | Acc: 0.9688\n",
      "Batch 5/21 | Loss: 0.1106 | Acc: 0.9583\n",
      "Batch 10/21 | Loss: 0.0999 | Acc: 0.9602\n",
      "Batch 15/21 | Loss: 0.0865 | Acc: 0.9648\n",
      "Batch 20/21 | Loss: 0.0819 | Acc: 0.9668\n",
      "Epoch 05 | Train Loss: 0.0819, Acc: 0.9668 | Val Loss: 0.1801, Acc: 0.9217, P: 0.9187, R: 0.9204, F1: 0.9196\n",
      "\n",
      "--- Epoch 6/20 ---\n"
     ]
    },
    {
     "name": "stderr",
     "output_type": "stream",
     "text": [
      "C:\\Users\\cauba\\AppData\\Local\\Temp\\ipykernel_5988\\3359186712.py:23: FutureWarning: `torch.cuda.amp.autocast(args...)` is deprecated. Please use `torch.amp.autocast('cuda', args...)` instead.\n",
      "  with autocast():\n"
     ]
    },
    {
     "name": "stdout",
     "output_type": "stream",
     "text": [
      "Batch 0/21 | Loss: 0.0490 | Acc: 0.9688\n",
      "Batch 5/21 | Loss: 0.0634 | Acc: 0.9688\n",
      "Batch 10/21 | Loss: 0.0567 | Acc: 0.9801\n",
      "Batch 15/21 | Loss: 0.0570 | Acc: 0.9785\n",
      "Batch 20/21 | Loss: 0.0546 | Acc: 0.9819\n",
      "Epoch 06 | Train Loss: 0.0546, Acc: 0.9819 | Val Loss: 0.1657, Acc: 0.9398, P: 0.9357, R: 0.9443, F1: 0.9387\n",
      "\n",
      "--- Epoch 7/20 ---\n"
     ]
    },
    {
     "name": "stderr",
     "output_type": "stream",
     "text": [
      "C:\\Users\\cauba\\AppData\\Local\\Temp\\ipykernel_5988\\3359186712.py:23: FutureWarning: `torch.cuda.amp.autocast(args...)` is deprecated. Please use `torch.amp.autocast('cuda', args...)` instead.\n",
      "  with autocast():\n"
     ]
    },
    {
     "name": "stdout",
     "output_type": "stream",
     "text": [
      "Batch 0/21 | Loss: 0.0328 | Acc: 1.0000\n",
      "Batch 5/21 | Loss: 0.0503 | Acc: 0.9896\n",
      "Batch 10/21 | Loss: 0.0571 | Acc: 0.9801\n",
      "Batch 15/21 | Loss: 0.0500 | Acc: 0.9824\n",
      "Batch 20/21 | Loss: 0.0531 | Acc: 0.9804\n",
      "Epoch 07 | Train Loss: 0.0531, Acc: 0.9804 | Val Loss: 0.2563, Acc: 0.9157, P: 0.9126, R: 0.9237, F1: 0.9147\n",
      "\n",
      "--- Epoch 8/20 ---\n"
     ]
    },
    {
     "name": "stderr",
     "output_type": "stream",
     "text": [
      "C:\\Users\\cauba\\AppData\\Local\\Temp\\ipykernel_5988\\3359186712.py:23: FutureWarning: `torch.cuda.amp.autocast(args...)` is deprecated. Please use `torch.amp.autocast('cuda', args...)` instead.\n",
      "  with autocast():\n"
     ]
    },
    {
     "name": "stdout",
     "output_type": "stream",
     "text": [
      "Batch 0/21 | Loss: 0.0791 | Acc: 0.9688\n",
      "Batch 5/21 | Loss: 0.0378 | Acc: 0.9896\n",
      "Batch 10/21 | Loss: 0.0409 | Acc: 0.9886\n",
      "Batch 15/21 | Loss: 0.0404 | Acc: 0.9902\n",
      "Batch 20/21 | Loss: 0.0376 | Acc: 0.9879\n",
      "Epoch 08 | Train Loss: 0.0376, Acc: 0.9879 | Val Loss: 0.1845, Acc: 0.9337, P: 0.9311, R: 0.9328, F1: 0.9319\n",
      "\n",
      "--- Epoch 9/20 ---\n"
     ]
    },
    {
     "name": "stderr",
     "output_type": "stream",
     "text": [
      "C:\\Users\\cauba\\AppData\\Local\\Temp\\ipykernel_5988\\3359186712.py:23: FutureWarning: `torch.cuda.amp.autocast(args...)` is deprecated. Please use `torch.amp.autocast('cuda', args...)` instead.\n",
      "  with autocast():\n"
     ]
    },
    {
     "name": "stdout",
     "output_type": "stream",
     "text": [
      "Batch 0/21 | Loss: 0.0143 | Acc: 1.0000\n",
      "Batch 5/21 | Loss: 0.0495 | Acc: 0.9792\n",
      "Batch 10/21 | Loss: 0.0372 | Acc: 0.9858\n",
      "Batch 15/21 | Loss: 0.0465 | Acc: 0.9805\n",
      "Batch 20/21 | Loss: 0.0496 | Acc: 0.9789\n",
      "Epoch 09 | Train Loss: 0.0496, Acc: 0.9789 | Val Loss: 0.1867, Acc: 0.9398, P: 0.9398, R: 0.9359, F1: 0.9377\n",
      "\n",
      "--- Epoch 10/20 ---\n"
     ]
    },
    {
     "name": "stderr",
     "output_type": "stream",
     "text": [
      "C:\\Users\\cauba\\AppData\\Local\\Temp\\ipykernel_5988\\3359186712.py:23: FutureWarning: `torch.cuda.amp.autocast(args...)` is deprecated. Please use `torch.amp.autocast('cuda', args...)` instead.\n",
      "  with autocast():\n"
     ]
    },
    {
     "name": "stdout",
     "output_type": "stream",
     "text": [
      "Batch 0/21 | Loss: 0.0135 | Acc: 1.0000\n",
      "Batch 5/21 | Loss: 0.0819 | Acc: 0.9740\n",
      "Batch 10/21 | Loss: 0.0574 | Acc: 0.9830\n",
      "Batch 15/21 | Loss: 0.0557 | Acc: 0.9844\n",
      "Batch 20/21 | Loss: 0.0488 | Acc: 0.9879\n",
      "Epoch 10 | Train Loss: 0.0488, Acc: 0.9879 | Val Loss: 0.1807, Acc: 0.9398, P: 0.9398, R: 0.9359, F1: 0.9377\n",
      "\n",
      "--- Epoch 11/20 ---\n"
     ]
    },
    {
     "name": "stderr",
     "output_type": "stream",
     "text": [
      "C:\\Users\\cauba\\AppData\\Local\\Temp\\ipykernel_5988\\3359186712.py:23: FutureWarning: `torch.cuda.amp.autocast(args...)` is deprecated. Please use `torch.amp.autocast('cuda', args...)` instead.\n",
      "  with autocast():\n"
     ]
    },
    {
     "name": "stdout",
     "output_type": "stream",
     "text": [
      "Batch 0/21 | Loss: 0.0056 | Acc: 1.0000\n",
      "Batch 5/21 | Loss: 0.0202 | Acc: 0.9948\n",
      "Batch 10/21 | Loss: 0.0159 | Acc: 0.9972\n",
      "Batch 15/21 | Loss: 0.0256 | Acc: 0.9961\n",
      "Batch 20/21 | Loss: 0.0220 | Acc: 0.9955\n",
      "Epoch 11 | Train Loss: 0.0220, Acc: 0.9955 | Val Loss: 0.2239, Acc: 0.9157, P: 0.9132, R: 0.9132, F1: 0.9132\n",
      "\n",
      "--- Epoch 12/20 ---\n"
     ]
    },
    {
     "name": "stderr",
     "output_type": "stream",
     "text": [
      "C:\\Users\\cauba\\AppData\\Local\\Temp\\ipykernel_5988\\3359186712.py:23: FutureWarning: `torch.cuda.amp.autocast(args...)` is deprecated. Please use `torch.amp.autocast('cuda', args...)` instead.\n",
      "  with autocast():\n"
     ]
    },
    {
     "name": "stdout",
     "output_type": "stream",
     "text": [
      "Batch 0/21 | Loss: 0.0028 | Acc: 1.0000\n",
      "Batch 5/21 | Loss: 0.0212 | Acc: 0.9948\n",
      "Batch 10/21 | Loss: 0.0209 | Acc: 0.9943\n",
      "Batch 15/21 | Loss: 0.0198 | Acc: 0.9941\n",
      "Batch 20/21 | Loss: 0.0213 | Acc: 0.9940\n",
      "Epoch 12 | Train Loss: 0.0213, Acc: 0.9940 | Val Loss: 0.1668, Acc: 0.9639, P: 0.9649, R: 0.9607, F1: 0.9626\n",
      "\n",
      "--- Epoch 13/20 ---\n"
     ]
    },
    {
     "name": "stderr",
     "output_type": "stream",
     "text": [
      "C:\\Users\\cauba\\AppData\\Local\\Temp\\ipykernel_5988\\3359186712.py:23: FutureWarning: `torch.cuda.amp.autocast(args...)` is deprecated. Please use `torch.amp.autocast('cuda', args...)` instead.\n",
      "  with autocast():\n"
     ]
    },
    {
     "name": "stdout",
     "output_type": "stream",
     "text": [
      "Batch 0/21 | Loss: 0.0020 | Acc: 1.0000\n",
      "Batch 5/21 | Loss: 0.0124 | Acc: 1.0000\n",
      "Batch 10/21 | Loss: 0.0161 | Acc: 0.9943\n",
      "Batch 15/21 | Loss: 0.0129 | Acc: 0.9961\n",
      "Batch 20/21 | Loss: 0.0188 | Acc: 0.9940\n",
      "Epoch 13 | Train Loss: 0.0188, Acc: 0.9940 | Val Loss: 0.2586, Acc: 0.9337, P: 0.9296, R: 0.9370, F1: 0.9324\n",
      "\n",
      "--- Epoch 14/20 ---\n"
     ]
    },
    {
     "name": "stderr",
     "output_type": "stream",
     "text": [
      "C:\\Users\\cauba\\AppData\\Local\\Temp\\ipykernel_5988\\3359186712.py:23: FutureWarning: `torch.cuda.amp.autocast(args...)` is deprecated. Please use `torch.amp.autocast('cuda', args...)` instead.\n",
      "  with autocast():\n"
     ]
    },
    {
     "name": "stdout",
     "output_type": "stream",
     "text": [
      "Batch 0/21 | Loss: 0.0154 | Acc: 1.0000\n",
      "Batch 5/21 | Loss: 0.0129 | Acc: 1.0000\n",
      "Batch 10/21 | Loss: 0.0189 | Acc: 0.9943\n",
      "Batch 15/21 | Loss: 0.0180 | Acc: 0.9922\n",
      "Batch 20/21 | Loss: 0.0161 | Acc: 0.9924\n",
      "Epoch 14 | Train Loss: 0.0161, Acc: 0.9924 | Val Loss: 0.2271, Acc: 0.9458, P: 0.9473, R: 0.9411, F1: 0.9438\n",
      "\n",
      "--- Epoch 15/20 ---\n"
     ]
    },
    {
     "name": "stderr",
     "output_type": "stream",
     "text": [
      "C:\\Users\\cauba\\AppData\\Local\\Temp\\ipykernel_5988\\3359186712.py:23: FutureWarning: `torch.cuda.amp.autocast(args...)` is deprecated. Please use `torch.amp.autocast('cuda', args...)` instead.\n",
      "  with autocast():\n"
     ]
    },
    {
     "name": "stdout",
     "output_type": "stream",
     "text": [
      "Batch 0/21 | Loss: 0.0030 | Acc: 1.0000\n",
      "Batch 5/21 | Loss: 0.0264 | Acc: 0.9948\n",
      "Batch 10/21 | Loss: 0.0221 | Acc: 0.9943\n",
      "Batch 15/21 | Loss: 0.0323 | Acc: 0.9902\n",
      "Batch 20/21 | Loss: 0.0383 | Acc: 0.9879\n",
      "Epoch 15 | Train Loss: 0.0383, Acc: 0.9879 | Val Loss: 0.3726, Acc: 0.8855, P: 0.8866, R: 0.8979, F1: 0.8848\n",
      "\n",
      "--- Epoch 16/20 ---\n"
     ]
    },
    {
     "name": "stderr",
     "output_type": "stream",
     "text": [
      "C:\\Users\\cauba\\AppData\\Local\\Temp\\ipykernel_5988\\3359186712.py:23: FutureWarning: `torch.cuda.amp.autocast(args...)` is deprecated. Please use `torch.amp.autocast('cuda', args...)` instead.\n",
      "  with autocast():\n"
     ]
    },
    {
     "name": "stdout",
     "output_type": "stream",
     "text": [
      "Batch 0/21 | Loss: 0.0581 | Acc: 0.9688\n",
      "Batch 5/21 | Loss: 0.0344 | Acc: 0.9844\n",
      "Batch 10/21 | Loss: 0.0284 | Acc: 0.9915\n",
      "Batch 15/21 | Loss: 0.0262 | Acc: 0.9922\n",
      "Batch 20/21 | Loss: 0.0396 | Acc: 0.9894\n",
      "Epoch 16 | Train Loss: 0.0396, Acc: 0.9894 | Val Loss: 0.2358, Acc: 0.9217, P: 0.9221, R: 0.9163, F1: 0.9189\n",
      "\n",
      "--- Epoch 17/20 ---\n"
     ]
    },
    {
     "name": "stderr",
     "output_type": "stream",
     "text": [
      "C:\\Users\\cauba\\AppData\\Local\\Temp\\ipykernel_5988\\3359186712.py:23: FutureWarning: `torch.cuda.amp.autocast(args...)` is deprecated. Please use `torch.amp.autocast('cuda', args...)` instead.\n",
      "  with autocast():\n"
     ]
    },
    {
     "name": "stdout",
     "output_type": "stream",
     "text": [
      "Batch 0/21 | Loss: 0.0609 | Acc: 0.9688\n",
      "Batch 5/21 | Loss: 0.0400 | Acc: 0.9844\n",
      "Batch 10/21 | Loss: 0.0315 | Acc: 0.9886\n",
      "Batch 15/21 | Loss: 0.0292 | Acc: 0.9883\n",
      "Batch 20/21 | Loss: 0.0249 | Acc: 0.9909\n",
      "Epoch 17 | Train Loss: 0.0249, Acc: 0.9909 | Val Loss: 0.2373, Acc: 0.9157, P: 0.9117, R: 0.9216, F1: 0.9144\n",
      "\n",
      "--- Epoch 18/20 ---\n"
     ]
    },
    {
     "name": "stderr",
     "output_type": "stream",
     "text": [
      "C:\\Users\\cauba\\AppData\\Local\\Temp\\ipykernel_5988\\3359186712.py:23: FutureWarning: `torch.cuda.amp.autocast(args...)` is deprecated. Please use `torch.amp.autocast('cuda', args...)` instead.\n",
      "  with autocast():\n"
     ]
    },
    {
     "name": "stdout",
     "output_type": "stream",
     "text": [
      "Batch 0/21 | Loss: 0.0217 | Acc: 1.0000\n",
      "Batch 5/21 | Loss: 0.0453 | Acc: 0.9844\n",
      "Batch 10/21 | Loss: 0.0377 | Acc: 0.9858\n",
      "Batch 15/21 | Loss: 0.0334 | Acc: 0.9863\n",
      "Batch 20/21 | Loss: 0.0319 | Acc: 0.9879\n",
      "Epoch 18 | Train Loss: 0.0319, Acc: 0.9879 | Val Loss: 0.5108, Acc: 0.8976, P: 0.9193, R: 0.8789, F1: 0.8902\n",
      "\n",
      "--- Epoch 19/20 ---\n"
     ]
    },
    {
     "name": "stderr",
     "output_type": "stream",
     "text": [
      "C:\\Users\\cauba\\AppData\\Local\\Temp\\ipykernel_5988\\3359186712.py:23: FutureWarning: `torch.cuda.amp.autocast(args...)` is deprecated. Please use `torch.amp.autocast('cuda', args...)` instead.\n",
      "  with autocast():\n"
     ]
    },
    {
     "name": "stdout",
     "output_type": "stream",
     "text": [
      "Batch 0/21 | Loss: 0.0054 | Acc: 1.0000\n",
      "Batch 5/21 | Loss: 0.0356 | Acc: 0.9792\n",
      "Batch 10/21 | Loss: 0.0452 | Acc: 0.9830\n",
      "Batch 15/21 | Loss: 0.0341 | Acc: 0.9883\n",
      "Batch 20/21 | Loss: 0.0332 | Acc: 0.9864\n",
      "Epoch 19 | Train Loss: 0.0332, Acc: 0.9864 | Val Loss: 0.2162, Acc: 0.9458, P: 0.9418, R: 0.9494, F1: 0.9447\n",
      "\n",
      "--- Epoch 20/20 ---\n"
     ]
    },
    {
     "name": "stderr",
     "output_type": "stream",
     "text": [
      "C:\\Users\\cauba\\AppData\\Local\\Temp\\ipykernel_5988\\3359186712.py:23: FutureWarning: `torch.cuda.amp.autocast(args...)` is deprecated. Please use `torch.amp.autocast('cuda', args...)` instead.\n",
      "  with autocast():\n"
     ]
    },
    {
     "name": "stdout",
     "output_type": "stream",
     "text": [
      "Batch 0/21 | Loss: 0.0080 | Acc: 1.0000\n",
      "Batch 5/21 | Loss: 0.0097 | Acc: 1.0000\n",
      "Batch 10/21 | Loss: 0.0128 | Acc: 0.9943\n",
      "Batch 15/21 | Loss: 0.0135 | Acc: 0.9941\n",
      "Batch 20/21 | Loss: 0.0177 | Acc: 0.9940\n",
      "Epoch 20 | Train Loss: 0.0177, Acc: 0.9940 | Val Loss: 0.2139, Acc: 0.9337, P: 0.9301, R: 0.9349, F1: 0.9322\n"
     ]
    },
    {
     "name": "stderr",
     "output_type": "stream",
     "text": [
      "C:\\Users\\cauba\\AppData\\Local\\Temp\\ipykernel_5988\\3359186712.py:135: FutureWarning: You are using `torch.load` with `weights_only=False` (the current default value), which uses the default pickle module implicitly. It is possible to construct malicious pickle data which will execute arbitrary code during unpickling (See https://github.com/pytorch/pytorch/blob/main/SECURITY.md#untrusted-models for more details). In a future release, the default value for `weights_only` will be flipped to `True`. This limits the functions that could be executed during unpickling. Arbitrary objects will no longer be allowed to be loaded via this mode unless they are explicitly allowlisted by the user via `torch.serialization.add_safe_globals`. We recommend you start setting `weights_only=True` for any use case where you don't have full control of the loaded file. Please open an issue on GitHub for any issues related to this experimental feature.\n",
      "  model.load_state_dict(torch.load(best_state_ft, map_location=device))\n"
     ]
    },
    {
     "name": "stdout",
     "output_type": "stream",
     "text": [
      "\n",
      "==================== Fold 2/5 — convnext_tiny ====================\n"
     ]
    },
    {
     "name": "stderr",
     "output_type": "stream",
     "text": [
      "c:\\Users\\cauba\\AppData\\Local\\Programs\\Python\\Python311\\Lib\\site-packages\\torchvision\\models\\_utils.py:208: UserWarning: The parameter 'pretrained' is deprecated since 0.13 and may be removed in the future, please use 'weights' instead.\n",
      "  warnings.warn(\n",
      "c:\\Users\\cauba\\AppData\\Local\\Programs\\Python\\Python311\\Lib\\site-packages\\torchvision\\models\\_utils.py:223: UserWarning: Arguments other than a weight enum or `None` for 'weights' are deprecated since 0.13 and may be removed in the future. The current behavior is equivalent to passing `weights=ConvNeXt_Tiny_Weights.IMAGENET1K_V1`. You can also use `weights=ConvNeXt_Tiny_Weights.DEFAULT` to get the most up-to-date weights.\n",
      "  warnings.warn(msg)\n",
      "C:\\Users\\cauba\\AppData\\Local\\Temp\\ipykernel_5988\\3359186712.py:4: FutureWarning: `torch.cuda.amp.GradScaler(args...)` is deprecated. Please use `torch.amp.GradScaler('cuda', args...)` instead.\n",
      "  scaler = GradScaler() if use_amp else None\n"
     ]
    },
    {
     "name": "stdout",
     "output_type": "stream",
     "text": [
      "\n",
      "▶️ Phase: fold2_frozen | epochs=10 | lr=0.001 | weight_decay=0.0001\n",
      "\n",
      "--- Epoch 1/10 ---\n"
     ]
    },
    {
     "name": "stderr",
     "output_type": "stream",
     "text": [
      "C:\\Users\\cauba\\AppData\\Local\\Temp\\ipykernel_5988\\3359186712.py:23: FutureWarning: `torch.cuda.amp.autocast(args...)` is deprecated. Please use `torch.amp.autocast('cuda', args...)` instead.\n",
      "  with autocast():\n"
     ]
    },
    {
     "name": "stdout",
     "output_type": "stream",
     "text": [
      "Batch 0/21 | Loss: 0.7048 | Acc: 0.5938\n",
      "Batch 5/21 | Loss: 0.6057 | Acc: 0.6562\n",
      "Batch 10/21 | Loss: 0.5648 | Acc: 0.7074\n",
      "Batch 15/21 | Loss: 0.5319 | Acc: 0.7363\n",
      "Batch 20/21 | Loss: 0.5070 | Acc: 0.7508\n",
      "Epoch 01 | Train Loss: 0.5070, Acc: 0.7508 | Val Loss: 0.3872, Acc: 0.7952, P: 0.8010, R: 0.7745, F1: 0.7812\n",
      "\n",
      "--- Epoch 2/10 ---\n"
     ]
    },
    {
     "name": "stderr",
     "output_type": "stream",
     "text": [
      "C:\\Users\\cauba\\AppData\\Local\\Temp\\ipykernel_5988\\3359186712.py:23: FutureWarning: `torch.cuda.amp.autocast(args...)` is deprecated. Please use `torch.amp.autocast('cuda', args...)` instead.\n",
      "  with autocast():\n"
     ]
    },
    {
     "name": "stdout",
     "output_type": "stream",
     "text": [
      "Batch 0/21 | Loss: 0.4793 | Acc: 0.7500\n",
      "Batch 5/21 | Loss: 0.4120 | Acc: 0.8281\n",
      "Batch 10/21 | Loss: 0.4019 | Acc: 0.8438\n",
      "Batch 15/21 | Loss: 0.3854 | Acc: 0.8457\n",
      "Batch 20/21 | Loss: 0.3759 | Acc: 0.8505\n",
      "Epoch 02 | Train Loss: 0.3759, Acc: 0.8505 | Val Loss: 0.3188, Acc: 0.8614, P: 0.8592, R: 0.8543, F1: 0.8564\n",
      "\n",
      "--- Epoch 3/10 ---\n"
     ]
    },
    {
     "name": "stderr",
     "output_type": "stream",
     "text": [
      "C:\\Users\\cauba\\AppData\\Local\\Temp\\ipykernel_5988\\3359186712.py:23: FutureWarning: `torch.cuda.amp.autocast(args...)` is deprecated. Please use `torch.amp.autocast('cuda', args...)` instead.\n",
      "  with autocast():\n"
     ]
    },
    {
     "name": "stdout",
     "output_type": "stream",
     "text": [
      "Batch 0/21 | Loss: 0.3522 | Acc: 0.8438\n",
      "Batch 5/21 | Loss: 0.3138 | Acc: 0.8750\n",
      "Batch 10/21 | Loss: 0.3049 | Acc: 0.8835\n",
      "Batch 15/21 | Loss: 0.3076 | Acc: 0.8809\n",
      "Batch 20/21 | Loss: 0.3110 | Acc: 0.8807\n",
      "Epoch 03 | Train Loss: 0.3110, Acc: 0.8807 | Val Loss: 0.2917, Acc: 0.8916, P: 0.8875, R: 0.8905, F1: 0.8888\n",
      "\n",
      "--- Epoch 4/10 ---\n"
     ]
    },
    {
     "name": "stderr",
     "output_type": "stream",
     "text": [
      "C:\\Users\\cauba\\AppData\\Local\\Temp\\ipykernel_5988\\3359186712.py:23: FutureWarning: `torch.cuda.amp.autocast(args...)` is deprecated. Please use `torch.amp.autocast('cuda', args...)` instead.\n",
      "  with autocast():\n"
     ]
    },
    {
     "name": "stdout",
     "output_type": "stream",
     "text": [
      "Batch 0/21 | Loss: 0.2557 | Acc: 0.9062\n",
      "Batch 5/21 | Loss: 0.3175 | Acc: 0.8698\n",
      "Batch 10/21 | Loss: 0.2839 | Acc: 0.8920\n",
      "Batch 15/21 | Loss: 0.3113 | Acc: 0.8711\n",
      "Batch 20/21 | Loss: 0.3082 | Acc: 0.8761\n",
      "Epoch 04 | Train Loss: 0.3082, Acc: 0.8761 | Val Loss: 0.2966, Acc: 0.8735, P: 0.8698, R: 0.8792, F1: 0.8718\n",
      "\n",
      "--- Epoch 5/10 ---\n"
     ]
    },
    {
     "name": "stderr",
     "output_type": "stream",
     "text": [
      "C:\\Users\\cauba\\AppData\\Local\\Temp\\ipykernel_5988\\3359186712.py:23: FutureWarning: `torch.cuda.amp.autocast(args...)` is deprecated. Please use `torch.amp.autocast('cuda', args...)` instead.\n",
      "  with autocast():\n"
     ]
    },
    {
     "name": "stdout",
     "output_type": "stream",
     "text": [
      "Batch 0/21 | Loss: 0.2563 | Acc: 0.8750\n",
      "Batch 5/21 | Loss: 0.2711 | Acc: 0.8854\n",
      "Batch 10/21 | Loss: 0.2538 | Acc: 0.8949\n",
      "Batch 15/21 | Loss: 0.2584 | Acc: 0.8945\n",
      "Batch 20/21 | Loss: 0.2777 | Acc: 0.8882\n",
      "Epoch 05 | Train Loss: 0.2777, Acc: 0.8882 | Val Loss: 0.2557, Acc: 0.8916, P: 0.8898, R: 0.8863, F1: 0.8879\n",
      "\n",
      "--- Epoch 6/10 ---\n"
     ]
    },
    {
     "name": "stderr",
     "output_type": "stream",
     "text": [
      "C:\\Users\\cauba\\AppData\\Local\\Temp\\ipykernel_5988\\3359186712.py:23: FutureWarning: `torch.cuda.amp.autocast(args...)` is deprecated. Please use `torch.amp.autocast('cuda', args...)` instead.\n",
      "  with autocast():\n"
     ]
    },
    {
     "name": "stdout",
     "output_type": "stream",
     "text": [
      "Batch 0/21 | Loss: 0.3303 | Acc: 0.8750\n",
      "Batch 5/21 | Loss: 0.2762 | Acc: 0.8698\n",
      "Batch 10/21 | Loss: 0.2727 | Acc: 0.8920\n",
      "Batch 15/21 | Loss: 0.2811 | Acc: 0.8789\n",
      "Batch 20/21 | Loss: 0.2655 | Acc: 0.8897\n",
      "Epoch 06 | Train Loss: 0.2655, Acc: 0.8897 | Val Loss: 0.2624, Acc: 0.8976, P: 0.9053, R: 0.8852, F1: 0.8922\n",
      "\n",
      "--- Epoch 7/10 ---\n"
     ]
    },
    {
     "name": "stderr",
     "output_type": "stream",
     "text": [
      "C:\\Users\\cauba\\AppData\\Local\\Temp\\ipykernel_5988\\3359186712.py:23: FutureWarning: `torch.cuda.amp.autocast(args...)` is deprecated. Please use `torch.amp.autocast('cuda', args...)` instead.\n",
      "  with autocast():\n"
     ]
    },
    {
     "name": "stdout",
     "output_type": "stream",
     "text": [
      "Batch 0/21 | Loss: 0.2754 | Acc: 0.8750\n",
      "Batch 5/21 | Loss: 0.2477 | Acc: 0.9010\n",
      "Batch 10/21 | Loss: 0.2662 | Acc: 0.8864\n",
      "Batch 15/21 | Loss: 0.2506 | Acc: 0.9023\n",
      "Batch 20/21 | Loss: 0.2490 | Acc: 0.9018\n",
      "Epoch 07 | Train Loss: 0.2490, Acc: 0.9018 | Val Loss: 0.2457, Acc: 0.8916, P: 0.8875, R: 0.8905, F1: 0.8888\n",
      "\n",
      "--- Epoch 8/10 ---\n"
     ]
    },
    {
     "name": "stderr",
     "output_type": "stream",
     "text": [
      "C:\\Users\\cauba\\AppData\\Local\\Temp\\ipykernel_5988\\3359186712.py:23: FutureWarning: `torch.cuda.amp.autocast(args...)` is deprecated. Please use `torch.amp.autocast('cuda', args...)` instead.\n",
      "  with autocast():\n"
     ]
    },
    {
     "name": "stdout",
     "output_type": "stream",
     "text": [
      "Batch 0/21 | Loss: 0.1958 | Acc: 0.9375\n",
      "Batch 5/21 | Loss: 0.2549 | Acc: 0.8906\n",
      "Batch 10/21 | Loss: 0.2347 | Acc: 0.9062\n",
      "Batch 15/21 | Loss: 0.2365 | Acc: 0.9062\n",
      "Batch 20/21 | Loss: 0.2497 | Acc: 0.8973\n",
      "Epoch 08 | Train Loss: 0.2497, Acc: 0.8973 | Val Loss: 0.2401, Acc: 0.8976, P: 0.8953, R: 0.8935, F1: 0.8944\n",
      "\n",
      "--- Epoch 9/10 ---\n"
     ]
    },
    {
     "name": "stderr",
     "output_type": "stream",
     "text": [
      "C:\\Users\\cauba\\AppData\\Local\\Temp\\ipykernel_5988\\3359186712.py:23: FutureWarning: `torch.cuda.amp.autocast(args...)` is deprecated. Please use `torch.amp.autocast('cuda', args...)` instead.\n",
      "  with autocast():\n"
     ]
    },
    {
     "name": "stdout",
     "output_type": "stream",
     "text": [
      "Batch 0/21 | Loss: 0.2477 | Acc: 0.8438\n",
      "Batch 5/21 | Loss: 0.2171 | Acc: 0.9219\n",
      "Batch 10/21 | Loss: 0.2443 | Acc: 0.9091\n",
      "Batch 15/21 | Loss: 0.2585 | Acc: 0.8965\n",
      "Batch 20/21 | Loss: 0.2502 | Acc: 0.9018\n",
      "Epoch 09 | Train Loss: 0.2502, Acc: 0.9018 | Val Loss: 0.2333, Acc: 0.9036, P: 0.9043, R: 0.8966, F1: 0.8999\n",
      "\n",
      "--- Epoch 10/10 ---\n"
     ]
    },
    {
     "name": "stderr",
     "output_type": "stream",
     "text": [
      "C:\\Users\\cauba\\AppData\\Local\\Temp\\ipykernel_5988\\3359186712.py:23: FutureWarning: `torch.cuda.amp.autocast(args...)` is deprecated. Please use `torch.amp.autocast('cuda', args...)` instead.\n",
      "  with autocast():\n"
     ]
    },
    {
     "name": "stdout",
     "output_type": "stream",
     "text": [
      "Batch 0/21 | Loss: 0.3629 | Acc: 0.8438\n",
      "Batch 5/21 | Loss: 0.2400 | Acc: 0.9115\n",
      "Batch 10/21 | Loss: 0.2346 | Acc: 0.9091\n",
      "Batch 15/21 | Loss: 0.2507 | Acc: 0.9023\n",
      "Batch 20/21 | Loss: 0.2430 | Acc: 0.9063\n",
      "Epoch 10 | Train Loss: 0.2430, Acc: 0.9063 | Val Loss: 0.2282, Acc: 0.9036, P: 0.9043, R: 0.8966, F1: 0.8999\n",
      "\n",
      "▶️ Phase: fold2_finetune | epochs=20 | lr=0.0001 | weight_decay=0.0001\n",
      "\n",
      "--- Epoch 1/20 ---\n"
     ]
    },
    {
     "name": "stderr",
     "output_type": "stream",
     "text": [
      "C:\\Users\\cauba\\AppData\\Local\\Temp\\ipykernel_5988\\3359186712.py:124: FutureWarning: You are using `torch.load` with `weights_only=False` (the current default value), which uses the default pickle module implicitly. It is possible to construct malicious pickle data which will execute arbitrary code during unpickling (See https://github.com/pytorch/pytorch/blob/main/SECURITY.md#untrusted-models for more details). In a future release, the default value for `weights_only` will be flipped to `True`. This limits the functions that could be executed during unpickling. Arbitrary objects will no longer be allowed to be loaded via this mode unless they are explicitly allowlisted by the user via `torch.serialization.add_safe_globals`. We recommend you start setting `weights_only=True` for any use case where you don't have full control of the loaded file. Please open an issue on GitHub for any issues related to this experimental feature.\n",
      "  model.load_state_dict(torch.load(best_state_frozen, map_location=device))\n",
      "C:\\Users\\cauba\\AppData\\Local\\Temp\\ipykernel_5988\\3359186712.py:4: FutureWarning: `torch.cuda.amp.GradScaler(args...)` is deprecated. Please use `torch.amp.GradScaler('cuda', args...)` instead.\n",
      "  scaler = GradScaler() if use_amp else None\n",
      "C:\\Users\\cauba\\AppData\\Local\\Temp\\ipykernel_5988\\3359186712.py:23: FutureWarning: `torch.cuda.amp.autocast(args...)` is deprecated. Please use `torch.amp.autocast('cuda', args...)` instead.\n",
      "  with autocast():\n"
     ]
    },
    {
     "name": "stdout",
     "output_type": "stream",
     "text": [
      "Batch 0/21 | Loss: 0.2651 | Acc: 0.9375\n",
      "Batch 5/21 | Loss: 0.3483 | Acc: 0.8281\n",
      "Batch 10/21 | Loss: 0.3341 | Acc: 0.8352\n",
      "Batch 15/21 | Loss: 0.2949 | Acc: 0.8594\n",
      "Batch 20/21 | Loss: 0.2834 | Acc: 0.8716\n",
      "Epoch 01 | Train Loss: 0.2834, Acc: 0.8716 | Val Loss: 0.2322, Acc: 0.9217, P: 0.9175, R: 0.9267, F1: 0.9204\n",
      "\n",
      "--- Epoch 2/20 ---\n"
     ]
    },
    {
     "name": "stderr",
     "output_type": "stream",
     "text": [
      "C:\\Users\\cauba\\AppData\\Local\\Temp\\ipykernel_5988\\3359186712.py:23: FutureWarning: `torch.cuda.amp.autocast(args...)` is deprecated. Please use `torch.amp.autocast('cuda', args...)` instead.\n",
      "  with autocast():\n"
     ]
    },
    {
     "name": "stdout",
     "output_type": "stream",
     "text": [
      "Batch 0/21 | Loss: 0.1024 | Acc: 0.9688\n",
      "Batch 5/21 | Loss: 0.2114 | Acc: 0.9219\n",
      "Batch 10/21 | Loss: 0.2353 | Acc: 0.9034\n",
      "Batch 15/21 | Loss: 0.2187 | Acc: 0.9102\n",
      "Batch 20/21 | Loss: 0.2020 | Acc: 0.9154\n",
      "Epoch 02 | Train Loss: 0.2020, Acc: 0.9154 | Val Loss: 0.2048, Acc: 0.9096, P: 0.9077, R: 0.9059, F1: 0.9068\n",
      "\n",
      "--- Epoch 3/20 ---\n"
     ]
    },
    {
     "name": "stderr",
     "output_type": "stream",
     "text": [
      "C:\\Users\\cauba\\AppData\\Local\\Temp\\ipykernel_5988\\3359186712.py:23: FutureWarning: `torch.cuda.amp.autocast(args...)` is deprecated. Please use `torch.amp.autocast('cuda', args...)` instead.\n",
      "  with autocast():\n"
     ]
    },
    {
     "name": "stdout",
     "output_type": "stream",
     "text": [
      "Batch 0/21 | Loss: 0.1135 | Acc: 0.9688\n",
      "Batch 5/21 | Loss: 0.1323 | Acc: 0.9479\n",
      "Batch 10/21 | Loss: 0.1269 | Acc: 0.9489\n",
      "Batch 15/21 | Loss: 0.1369 | Acc: 0.9473\n",
      "Batch 20/21 | Loss: 0.1405 | Acc: 0.9471\n",
      "Epoch 03 | Train Loss: 0.1405, Acc: 0.9471 | Val Loss: 0.2250, Acc: 0.9096, P: 0.9149, R: 0.8997, F1: 0.9054\n",
      "\n",
      "--- Epoch 4/20 ---\n"
     ]
    },
    {
     "name": "stderr",
     "output_type": "stream",
     "text": [
      "C:\\Users\\cauba\\AppData\\Local\\Temp\\ipykernel_5988\\3359186712.py:23: FutureWarning: `torch.cuda.amp.autocast(args...)` is deprecated. Please use `torch.amp.autocast('cuda', args...)` instead.\n",
      "  with autocast():\n"
     ]
    },
    {
     "name": "stdout",
     "output_type": "stream",
     "text": [
      "Batch 0/21 | Loss: 0.0534 | Acc: 1.0000\n",
      "Batch 5/21 | Loss: 0.0676 | Acc: 0.9844\n",
      "Batch 10/21 | Loss: 0.0856 | Acc: 0.9659\n",
      "Batch 15/21 | Loss: 0.0770 | Acc: 0.9648\n",
      "Batch 20/21 | Loss: 0.0778 | Acc: 0.9683\n",
      "Epoch 04 | Train Loss: 0.0778, Acc: 0.9683 | Val Loss: 0.3333, Acc: 0.9036, P: 0.9182, R: 0.8882, F1: 0.8977\n",
      "\n",
      "--- Epoch 5/20 ---\n"
     ]
    },
    {
     "name": "stderr",
     "output_type": "stream",
     "text": [
      "C:\\Users\\cauba\\AppData\\Local\\Temp\\ipykernel_5988\\3359186712.py:23: FutureWarning: `torch.cuda.amp.autocast(args...)` is deprecated. Please use `torch.amp.autocast('cuda', args...)` instead.\n",
      "  with autocast():\n"
     ]
    },
    {
     "name": "stdout",
     "output_type": "stream",
     "text": [
      "Batch 0/21 | Loss: 0.1615 | Acc: 0.9062\n",
      "Batch 5/21 | Loss: 0.1261 | Acc: 0.9531\n",
      "Batch 10/21 | Loss: 0.1107 | Acc: 0.9574\n",
      "Batch 15/21 | Loss: 0.1094 | Acc: 0.9590\n",
      "Batch 20/21 | Loss: 0.0923 | Acc: 0.9668\n",
      "Epoch 05 | Train Loss: 0.0923, Acc: 0.9668 | Val Loss: 0.2347, Acc: 0.9337, P: 0.9347, R: 0.9287, F1: 0.9313\n",
      "\n",
      "--- Epoch 6/20 ---\n"
     ]
    },
    {
     "name": "stderr",
     "output_type": "stream",
     "text": [
      "C:\\Users\\cauba\\AppData\\Local\\Temp\\ipykernel_5988\\3359186712.py:23: FutureWarning: `torch.cuda.amp.autocast(args...)` is deprecated. Please use `torch.amp.autocast('cuda', args...)` instead.\n",
      "  with autocast():\n"
     ]
    },
    {
     "name": "stdout",
     "output_type": "stream",
     "text": [
      "Batch 0/21 | Loss: 0.0236 | Acc: 1.0000\n",
      "Batch 5/21 | Loss: 0.0638 | Acc: 0.9844\n",
      "Batch 10/21 | Loss: 0.0564 | Acc: 0.9858\n",
      "Batch 15/21 | Loss: 0.0475 | Acc: 0.9883\n",
      "Batch 20/21 | Loss: 0.0557 | Acc: 0.9819\n",
      "Epoch 06 | Train Loss: 0.0557, Acc: 0.9819 | Val Loss: 0.3161, Acc: 0.9096, P: 0.9184, R: 0.8976, F1: 0.9049\n",
      "\n",
      "--- Epoch 7/20 ---\n"
     ]
    },
    {
     "name": "stderr",
     "output_type": "stream",
     "text": [
      "C:\\Users\\cauba\\AppData\\Local\\Temp\\ipykernel_5988\\3359186712.py:23: FutureWarning: `torch.cuda.amp.autocast(args...)` is deprecated. Please use `torch.amp.autocast('cuda', args...)` instead.\n",
      "  with autocast():\n"
     ]
    },
    {
     "name": "stdout",
     "output_type": "stream",
     "text": [
      "Batch 0/21 | Loss: 0.0731 | Acc: 1.0000\n",
      "Batch 5/21 | Loss: 0.0543 | Acc: 0.9948\n",
      "Batch 10/21 | Loss: 0.0472 | Acc: 0.9915\n",
      "Batch 15/21 | Loss: 0.0430 | Acc: 0.9902\n",
      "Batch 20/21 | Loss: 0.0409 | Acc: 0.9909\n",
      "Epoch 07 | Train Loss: 0.0409, Acc: 0.9909 | Val Loss: 0.2496, Acc: 0.8976, P: 0.8939, R: 0.9040, F1: 0.8962\n",
      "\n",
      "--- Epoch 8/20 ---\n"
     ]
    },
    {
     "name": "stderr",
     "output_type": "stream",
     "text": [
      "C:\\Users\\cauba\\AppData\\Local\\Temp\\ipykernel_5988\\3359186712.py:23: FutureWarning: `torch.cuda.amp.autocast(args...)` is deprecated. Please use `torch.amp.autocast('cuda', args...)` instead.\n",
      "  with autocast():\n"
     ]
    },
    {
     "name": "stdout",
     "output_type": "stream",
     "text": [
      "Batch 0/21 | Loss: 0.0297 | Acc: 1.0000\n",
      "Batch 5/21 | Loss: 0.0441 | Acc: 0.9792\n",
      "Batch 10/21 | Loss: 0.0384 | Acc: 0.9830\n",
      "Batch 15/21 | Loss: 0.0354 | Acc: 0.9844\n",
      "Batch 20/21 | Loss: 0.0341 | Acc: 0.9849\n",
      "Epoch 08 | Train Loss: 0.0341, Acc: 0.9849 | Val Loss: 0.2282, Acc: 0.9277, P: 0.9273, R: 0.9235, F1: 0.9253\n",
      "\n",
      "--- Epoch 9/20 ---\n"
     ]
    },
    {
     "name": "stderr",
     "output_type": "stream",
     "text": [
      "C:\\Users\\cauba\\AppData\\Local\\Temp\\ipykernel_5988\\3359186712.py:23: FutureWarning: `torch.cuda.amp.autocast(args...)` is deprecated. Please use `torch.amp.autocast('cuda', args...)` instead.\n",
      "  with autocast():\n"
     ]
    },
    {
     "name": "stdout",
     "output_type": "stream",
     "text": [
      "Batch 0/21 | Loss: 0.0243 | Acc: 1.0000\n",
      "Batch 5/21 | Loss: 0.0252 | Acc: 0.9896\n",
      "Batch 10/21 | Loss: 0.0399 | Acc: 0.9830\n",
      "Batch 15/21 | Loss: 0.0453 | Acc: 0.9766\n",
      "Batch 20/21 | Loss: 0.0464 | Acc: 0.9773\n",
      "Epoch 09 | Train Loss: 0.0464, Acc: 0.9773 | Val Loss: 0.3099, Acc: 0.9157, P: 0.9197, R: 0.9069, F1: 0.9120\n",
      "\n",
      "--- Epoch 10/20 ---\n"
     ]
    },
    {
     "name": "stderr",
     "output_type": "stream",
     "text": [
      "C:\\Users\\cauba\\AppData\\Local\\Temp\\ipykernel_5988\\3359186712.py:23: FutureWarning: `torch.cuda.amp.autocast(args...)` is deprecated. Please use `torch.amp.autocast('cuda', args...)` instead.\n",
      "  with autocast():\n"
     ]
    },
    {
     "name": "stdout",
     "output_type": "stream",
     "text": [
      "Batch 0/21 | Loss: 0.0200 | Acc: 1.0000\n",
      "Batch 5/21 | Loss: 0.0349 | Acc: 0.9896\n",
      "Batch 10/21 | Loss: 0.0253 | Acc: 0.9943\n",
      "Batch 15/21 | Loss: 0.0241 | Acc: 0.9961\n",
      "Batch 20/21 | Loss: 0.0292 | Acc: 0.9894\n",
      "Epoch 10 | Train Loss: 0.0292, Acc: 0.9894 | Val Loss: 0.3410, Acc: 0.9036, P: 0.9069, R: 0.8945, F1: 0.8994\n",
      "\n",
      "--- Epoch 11/20 ---\n"
     ]
    },
    {
     "name": "stderr",
     "output_type": "stream",
     "text": [
      "C:\\Users\\cauba\\AppData\\Local\\Temp\\ipykernel_5988\\3359186712.py:23: FutureWarning: `torch.cuda.amp.autocast(args...)` is deprecated. Please use `torch.amp.autocast('cuda', args...)` instead.\n",
      "  with autocast():\n"
     ]
    },
    {
     "name": "stdout",
     "output_type": "stream",
     "text": [
      "Batch 0/21 | Loss: 0.0431 | Acc: 0.9688\n",
      "Batch 5/21 | Loss: 0.0283 | Acc: 0.9896\n",
      "Batch 10/21 | Loss: 0.0286 | Acc: 0.9886\n",
      "Batch 15/21 | Loss: 0.0343 | Acc: 0.9902\n",
      "Batch 20/21 | Loss: 0.0289 | Acc: 0.9924\n",
      "Epoch 11 | Train Loss: 0.0289, Acc: 0.9924 | Val Loss: 0.2918, Acc: 0.9036, P: 0.9101, R: 0.8924, F1: 0.8989\n",
      "\n",
      "--- Epoch 12/20 ---\n"
     ]
    },
    {
     "name": "stderr",
     "output_type": "stream",
     "text": [
      "C:\\Users\\cauba\\AppData\\Local\\Temp\\ipykernel_5988\\3359186712.py:23: FutureWarning: `torch.cuda.amp.autocast(args...)` is deprecated. Please use `torch.amp.autocast('cuda', args...)` instead.\n",
      "  with autocast():\n"
     ]
    },
    {
     "name": "stdout",
     "output_type": "stream",
     "text": [
      "Batch 0/21 | Loss: 0.0034 | Acc: 1.0000\n",
      "Batch 5/21 | Loss: 0.0490 | Acc: 0.9844\n",
      "Batch 10/21 | Loss: 0.0416 | Acc: 0.9858\n",
      "Batch 15/21 | Loss: 0.0374 | Acc: 0.9863\n",
      "Batch 20/21 | Loss: 0.0342 | Acc: 0.9864\n",
      "Epoch 12 | Train Loss: 0.0342, Acc: 0.9864 | Val Loss: 0.2592, Acc: 0.9157, P: 0.9115, R: 0.9174, F1: 0.9139\n",
      "\n",
      "--- Epoch 13/20 ---\n"
     ]
    },
    {
     "name": "stderr",
     "output_type": "stream",
     "text": [
      "C:\\Users\\cauba\\AppData\\Local\\Temp\\ipykernel_5988\\3359186712.py:23: FutureWarning: `torch.cuda.amp.autocast(args...)` is deprecated. Please use `torch.amp.autocast('cuda', args...)` instead.\n",
      "  with autocast():\n"
     ]
    },
    {
     "name": "stdout",
     "output_type": "stream",
     "text": [
      "Batch 0/21 | Loss: 0.0077 | Acc: 1.0000\n",
      "Batch 5/21 | Loss: 0.0295 | Acc: 0.9896\n",
      "Batch 10/21 | Loss: 0.0244 | Acc: 0.9886\n",
      "Batch 15/21 | Loss: 0.0384 | Acc: 0.9863\n",
      "Batch 20/21 | Loss: 0.0413 | Acc: 0.9849\n",
      "Epoch 13 | Train Loss: 0.0413, Acc: 0.9849 | Val Loss: 0.4975, Acc: 0.8795, P: 0.9015, R: 0.8593, F1: 0.8704\n",
      "\n",
      "--- Epoch 14/20 ---\n"
     ]
    },
    {
     "name": "stderr",
     "output_type": "stream",
     "text": [
      "C:\\Users\\cauba\\AppData\\Local\\Temp\\ipykernel_5988\\3359186712.py:23: FutureWarning: `torch.cuda.amp.autocast(args...)` is deprecated. Please use `torch.amp.autocast('cuda', args...)` instead.\n",
      "  with autocast():\n"
     ]
    },
    {
     "name": "stdout",
     "output_type": "stream",
     "text": [
      "Batch 0/21 | Loss: 0.0143 | Acc: 1.0000\n",
      "Batch 5/21 | Loss: 0.0184 | Acc: 0.9896\n",
      "Batch 10/21 | Loss: 0.0329 | Acc: 0.9915\n",
      "Batch 15/21 | Loss: 0.0335 | Acc: 0.9902\n",
      "Batch 20/21 | Loss: 0.0340 | Acc: 0.9894\n",
      "Epoch 14 | Train Loss: 0.0340, Acc: 0.9894 | Val Loss: 0.3808, Acc: 0.9036, P: 0.9182, R: 0.8882, F1: 0.8977\n",
      "\n",
      "--- Epoch 15/20 ---\n"
     ]
    },
    {
     "name": "stderr",
     "output_type": "stream",
     "text": [
      "C:\\Users\\cauba\\AppData\\Local\\Temp\\ipykernel_5988\\3359186712.py:23: FutureWarning: `torch.cuda.amp.autocast(args...)` is deprecated. Please use `torch.amp.autocast('cuda', args...)` instead.\n",
      "  with autocast():\n"
     ]
    },
    {
     "name": "stdout",
     "output_type": "stream",
     "text": [
      "Batch 0/21 | Loss: 0.1400 | Acc: 0.9375\n",
      "Batch 5/21 | Loss: 0.0482 | Acc: 0.9740\n",
      "Batch 10/21 | Loss: 0.0461 | Acc: 0.9773\n",
      "Batch 15/21 | Loss: 0.0647 | Acc: 0.9766\n",
      "Batch 20/21 | Loss: 0.0567 | Acc: 0.9804\n",
      "Epoch 15 | Train Loss: 0.0567, Acc: 0.9804 | Val Loss: 0.2698, Acc: 0.9337, P: 0.9296, R: 0.9370, F1: 0.9324\n",
      "\n",
      "--- Epoch 16/20 ---\n"
     ]
    },
    {
     "name": "stderr",
     "output_type": "stream",
     "text": [
      "C:\\Users\\cauba\\AppData\\Local\\Temp\\ipykernel_5988\\3359186712.py:23: FutureWarning: `torch.cuda.amp.autocast(args...)` is deprecated. Please use `torch.amp.autocast('cuda', args...)` instead.\n",
      "  with autocast():\n"
     ]
    },
    {
     "name": "stdout",
     "output_type": "stream",
     "text": [
      "Batch 0/21 | Loss: 0.0492 | Acc: 0.9688\n",
      "Batch 5/21 | Loss: 0.0152 | Acc: 0.9948\n",
      "Batch 10/21 | Loss: 0.0162 | Acc: 0.9972\n",
      "Batch 15/21 | Loss: 0.0186 | Acc: 0.9961\n",
      "Batch 20/21 | Loss: 0.0280 | Acc: 0.9894\n",
      "Epoch 16 | Train Loss: 0.0280, Acc: 0.9894 | Val Loss: 0.4210, Acc: 0.9096, P: 0.9226, R: 0.8955, F1: 0.9044\n",
      "\n",
      "--- Epoch 17/20 ---\n"
     ]
    },
    {
     "name": "stderr",
     "output_type": "stream",
     "text": [
      "C:\\Users\\cauba\\AppData\\Local\\Temp\\ipykernel_5988\\3359186712.py:23: FutureWarning: `torch.cuda.amp.autocast(args...)` is deprecated. Please use `torch.amp.autocast('cuda', args...)` instead.\n",
      "  with autocast():\n"
     ]
    },
    {
     "name": "stdout",
     "output_type": "stream",
     "text": [
      "Batch 0/21 | Loss: 0.0018 | Acc: 1.0000\n",
      "Batch 5/21 | Loss: 0.0825 | Acc: 0.9740\n",
      "Batch 10/21 | Loss: 0.0564 | Acc: 0.9830\n",
      "Batch 15/21 | Loss: 0.0458 | Acc: 0.9863\n",
      "Batch 20/21 | Loss: 0.0387 | Acc: 0.9879\n",
      "Epoch 17 | Train Loss: 0.0387, Acc: 0.9879 | Val Loss: 0.3251, Acc: 0.8976, P: 0.9020, R: 0.8873, F1: 0.8928\n",
      "\n",
      "--- Epoch 18/20 ---\n"
     ]
    },
    {
     "name": "stderr",
     "output_type": "stream",
     "text": [
      "C:\\Users\\cauba\\AppData\\Local\\Temp\\ipykernel_5988\\3359186712.py:23: FutureWarning: `torch.cuda.amp.autocast(args...)` is deprecated. Please use `torch.amp.autocast('cuda', args...)` instead.\n",
      "  with autocast():\n"
     ]
    },
    {
     "name": "stdout",
     "output_type": "stream",
     "text": [
      "Batch 0/21 | Loss: 0.0062 | Acc: 1.0000\n",
      "Batch 5/21 | Loss: 0.0128 | Acc: 0.9948\n",
      "Batch 10/21 | Loss: 0.0125 | Acc: 0.9972\n",
      "Batch 15/21 | Loss: 0.0149 | Acc: 0.9961\n",
      "Batch 20/21 | Loss: 0.0125 | Acc: 0.9970\n",
      "Epoch 18 | Train Loss: 0.0125, Acc: 0.9970 | Val Loss: 0.2968, Acc: 0.9277, P: 0.9273, R: 0.9235, F1: 0.9253\n",
      "\n",
      "--- Epoch 19/20 ---\n"
     ]
    },
    {
     "name": "stderr",
     "output_type": "stream",
     "text": [
      "C:\\Users\\cauba\\AppData\\Local\\Temp\\ipykernel_5988\\3359186712.py:23: FutureWarning: `torch.cuda.amp.autocast(args...)` is deprecated. Please use `torch.amp.autocast('cuda', args...)` instead.\n",
      "  with autocast():\n"
     ]
    },
    {
     "name": "stdout",
     "output_type": "stream",
     "text": [
      "Batch 0/21 | Loss: 0.0680 | Acc: 0.9688\n",
      "Batch 5/21 | Loss: 0.0267 | Acc: 0.9844\n",
      "Batch 10/21 | Loss: 0.0155 | Acc: 0.9915\n",
      "Batch 15/21 | Loss: 0.0145 | Acc: 0.9922\n",
      "Batch 20/21 | Loss: 0.0135 | Acc: 0.9924\n",
      "Epoch 19 | Train Loss: 0.0135, Acc: 0.9924 | Val Loss: 0.2988, Acc: 0.9458, P: 0.9435, R: 0.9452, F1: 0.9443\n",
      "\n",
      "--- Epoch 20/20 ---\n"
     ]
    },
    {
     "name": "stderr",
     "output_type": "stream",
     "text": [
      "C:\\Users\\cauba\\AppData\\Local\\Temp\\ipykernel_5988\\3359186712.py:23: FutureWarning: `torch.cuda.amp.autocast(args...)` is deprecated. Please use `torch.amp.autocast('cuda', args...)` instead.\n",
      "  with autocast():\n"
     ]
    },
    {
     "name": "stdout",
     "output_type": "stream",
     "text": [
      "Batch 0/21 | Loss: 0.0010 | Acc: 1.0000\n",
      "Batch 5/21 | Loss: 0.0039 | Acc: 1.0000\n",
      "Batch 10/21 | Loss: 0.0056 | Acc: 0.9972\n",
      "Batch 15/21 | Loss: 0.0086 | Acc: 0.9961\n",
      "Batch 20/21 | Loss: 0.0074 | Acc: 0.9970\n",
      "Epoch 20 | Train Loss: 0.0074, Acc: 0.9970 | Val Loss: 0.2827, Acc: 0.9458, P: 0.9435, R: 0.9452, F1: 0.9443\n"
     ]
    },
    {
     "name": "stderr",
     "output_type": "stream",
     "text": [
      "C:\\Users\\cauba\\AppData\\Local\\Temp\\ipykernel_5988\\3359186712.py:135: FutureWarning: You are using `torch.load` with `weights_only=False` (the current default value), which uses the default pickle module implicitly. It is possible to construct malicious pickle data which will execute arbitrary code during unpickling (See https://github.com/pytorch/pytorch/blob/main/SECURITY.md#untrusted-models for more details). In a future release, the default value for `weights_only` will be flipped to `True`. This limits the functions that could be executed during unpickling. Arbitrary objects will no longer be allowed to be loaded via this mode unless they are explicitly allowlisted by the user via `torch.serialization.add_safe_globals`. We recommend you start setting `weights_only=True` for any use case where you don't have full control of the loaded file. Please open an issue on GitHub for any issues related to this experimental feature.\n",
      "  model.load_state_dict(torch.load(best_state_ft, map_location=device))\n"
     ]
    },
    {
     "name": "stdout",
     "output_type": "stream",
     "text": [
      "\n",
      "==================== Fold 3/5 — convnext_tiny ====================\n"
     ]
    },
    {
     "name": "stderr",
     "output_type": "stream",
     "text": [
      "c:\\Users\\cauba\\AppData\\Local\\Programs\\Python\\Python311\\Lib\\site-packages\\torchvision\\models\\_utils.py:208: UserWarning: The parameter 'pretrained' is deprecated since 0.13 and may be removed in the future, please use 'weights' instead.\n",
      "  warnings.warn(\n",
      "c:\\Users\\cauba\\AppData\\Local\\Programs\\Python\\Python311\\Lib\\site-packages\\torchvision\\models\\_utils.py:223: UserWarning: Arguments other than a weight enum or `None` for 'weights' are deprecated since 0.13 and may be removed in the future. The current behavior is equivalent to passing `weights=ConvNeXt_Tiny_Weights.IMAGENET1K_V1`. You can also use `weights=ConvNeXt_Tiny_Weights.DEFAULT` to get the most up-to-date weights.\n",
      "  warnings.warn(msg)\n",
      "C:\\Users\\cauba\\AppData\\Local\\Temp\\ipykernel_5988\\3359186712.py:4: FutureWarning: `torch.cuda.amp.GradScaler(args...)` is deprecated. Please use `torch.amp.GradScaler('cuda', args...)` instead.\n",
      "  scaler = GradScaler() if use_amp else None\n"
     ]
    },
    {
     "name": "stdout",
     "output_type": "stream",
     "text": [
      "\n",
      "▶️ Phase: fold3_frozen | epochs=10 | lr=0.001 | weight_decay=0.0001\n",
      "\n",
      "--- Epoch 1/10 ---\n"
     ]
    },
    {
     "name": "stderr",
     "output_type": "stream",
     "text": [
      "C:\\Users\\cauba\\AppData\\Local\\Temp\\ipykernel_5988\\3359186712.py:23: FutureWarning: `torch.cuda.amp.autocast(args...)` is deprecated. Please use `torch.amp.autocast('cuda', args...)` instead.\n",
      "  with autocast():\n"
     ]
    },
    {
     "name": "stdout",
     "output_type": "stream",
     "text": [
      "Batch 0/21 | Loss: 0.7025 | Acc: 0.5625\n",
      "Batch 5/21 | Loss: 0.6713 | Acc: 0.5990\n",
      "Batch 10/21 | Loss: 0.6231 | Acc: 0.6477\n",
      "Batch 15/21 | Loss: 0.5773 | Acc: 0.7012\n",
      "Batch 20/21 | Loss: 0.5477 | Acc: 0.7341\n",
      "Epoch 01 | Train Loss: 0.5477, Acc: 0.7341 | Val Loss: 0.3984, Acc: 0.8494, P: 0.8454, R: 0.8439, F1: 0.8447\n",
      "\n",
      "--- Epoch 2/10 ---\n"
     ]
    },
    {
     "name": "stderr",
     "output_type": "stream",
     "text": [
      "C:\\Users\\cauba\\AppData\\Local\\Temp\\ipykernel_5988\\3359186712.py:23: FutureWarning: `torch.cuda.amp.autocast(args...)` is deprecated. Please use `torch.amp.autocast('cuda', args...)` instead.\n",
      "  with autocast():\n"
     ]
    },
    {
     "name": "stdout",
     "output_type": "stream",
     "text": [
      "Batch 0/21 | Loss: 0.3267 | Acc: 0.9062\n",
      "Batch 5/21 | Loss: 0.3972 | Acc: 0.8385\n",
      "Batch 10/21 | Loss: 0.3877 | Acc: 0.8466\n",
      "Batch 15/21 | Loss: 0.3822 | Acc: 0.8496\n",
      "Batch 20/21 | Loss: 0.3810 | Acc: 0.8520\n",
      "Epoch 02 | Train Loss: 0.3810, Acc: 0.8520 | Val Loss: 0.3430, Acc: 0.8494, P: 0.8443, R: 0.8481, F1: 0.8459\n",
      "\n",
      "--- Epoch 3/10 ---\n"
     ]
    },
    {
     "name": "stderr",
     "output_type": "stream",
     "text": [
      "C:\\Users\\cauba\\AppData\\Local\\Temp\\ipykernel_5988\\3359186712.py:23: FutureWarning: `torch.cuda.amp.autocast(args...)` is deprecated. Please use `torch.amp.autocast('cuda', args...)` instead.\n",
      "  with autocast():\n"
     ]
    },
    {
     "name": "stdout",
     "output_type": "stream",
     "text": [
      "Batch 0/21 | Loss: 0.3146 | Acc: 0.8750\n",
      "Batch 5/21 | Loss: 0.3439 | Acc: 0.8854\n",
      "Batch 10/21 | Loss: 0.3431 | Acc: 0.8778\n",
      "Batch 15/21 | Loss: 0.3309 | Acc: 0.8828\n",
      "Batch 20/21 | Loss: 0.3276 | Acc: 0.8776\n",
      "Epoch 03 | Train Loss: 0.3276, Acc: 0.8776 | Val Loss: 0.3217, Acc: 0.8675, P: 0.8685, R: 0.8573, F1: 0.8617\n",
      "\n",
      "--- Epoch 4/10 ---\n"
     ]
    },
    {
     "name": "stderr",
     "output_type": "stream",
     "text": [
      "C:\\Users\\cauba\\AppData\\Local\\Temp\\ipykernel_5988\\3359186712.py:23: FutureWarning: `torch.cuda.amp.autocast(args...)` is deprecated. Please use `torch.amp.autocast('cuda', args...)` instead.\n",
      "  with autocast():\n"
     ]
    },
    {
     "name": "stdout",
     "output_type": "stream",
     "text": [
      "Batch 0/21 | Loss: 0.4022 | Acc: 0.8750\n",
      "Batch 5/21 | Loss: 0.3128 | Acc: 0.8854\n",
      "Batch 10/21 | Loss: 0.2889 | Acc: 0.8977\n",
      "Batch 15/21 | Loss: 0.2839 | Acc: 0.9023\n",
      "Batch 20/21 | Loss: 0.2817 | Acc: 0.9018\n",
      "Epoch 04 | Train Loss: 0.2817, Acc: 0.9018 | Val Loss: 0.3064, Acc: 0.8614, P: 0.8634, R: 0.8501, F1: 0.8550\n",
      "\n",
      "--- Epoch 5/10 ---\n"
     ]
    },
    {
     "name": "stderr",
     "output_type": "stream",
     "text": [
      "C:\\Users\\cauba\\AppData\\Local\\Temp\\ipykernel_5988\\3359186712.py:23: FutureWarning: `torch.cuda.amp.autocast(args...)` is deprecated. Please use `torch.amp.autocast('cuda', args...)` instead.\n",
      "  with autocast():\n"
     ]
    },
    {
     "name": "stdout",
     "output_type": "stream",
     "text": [
      "Batch 0/21 | Loss: 0.4110 | Acc: 0.8438\n",
      "Batch 5/21 | Loss: 0.2991 | Acc: 0.8646\n",
      "Batch 10/21 | Loss: 0.2763 | Acc: 0.8778\n",
      "Batch 15/21 | Loss: 0.2893 | Acc: 0.8730\n",
      "Batch 20/21 | Loss: 0.2831 | Acc: 0.8807\n",
      "Epoch 05 | Train Loss: 0.2831, Acc: 0.8807 | Val Loss: 0.3003, Acc: 0.8735, P: 0.8738, R: 0.8646, F1: 0.8683\n",
      "\n",
      "--- Epoch 6/10 ---\n"
     ]
    },
    {
     "name": "stderr",
     "output_type": "stream",
     "text": [
      "C:\\Users\\cauba\\AppData\\Local\\Temp\\ipykernel_5988\\3359186712.py:23: FutureWarning: `torch.cuda.amp.autocast(args...)` is deprecated. Please use `torch.amp.autocast('cuda', args...)` instead.\n",
      "  with autocast():\n"
     ]
    },
    {
     "name": "stdout",
     "output_type": "stream",
     "text": [
      "Batch 0/21 | Loss: 0.3713 | Acc: 0.8750\n",
      "Batch 5/21 | Loss: 0.2658 | Acc: 0.9010\n",
      "Batch 10/21 | Loss: 0.2542 | Acc: 0.9034\n",
      "Batch 15/21 | Loss: 0.2530 | Acc: 0.9082\n",
      "Batch 20/21 | Loss: 0.2672 | Acc: 0.8973\n",
      "Epoch 06 | Train Loss: 0.2672, Acc: 0.8973 | Val Loss: 0.2928, Acc: 0.8735, P: 0.8718, R: 0.8667, F1: 0.8689\n",
      "\n",
      "--- Epoch 7/10 ---\n"
     ]
    },
    {
     "name": "stderr",
     "output_type": "stream",
     "text": [
      "C:\\Users\\cauba\\AppData\\Local\\Temp\\ipykernel_5988\\3359186712.py:23: FutureWarning: `torch.cuda.amp.autocast(args...)` is deprecated. Please use `torch.amp.autocast('cuda', args...)` instead.\n",
      "  with autocast():\n"
     ]
    },
    {
     "name": "stdout",
     "output_type": "stream",
     "text": [
      "Batch 0/21 | Loss: 0.2830 | Acc: 0.8438\n",
      "Batch 5/21 | Loss: 0.3072 | Acc: 0.8646\n",
      "Batch 10/21 | Loss: 0.2792 | Acc: 0.8920\n",
      "Batch 15/21 | Loss: 0.2712 | Acc: 0.8984\n",
      "Batch 20/21 | Loss: 0.2649 | Acc: 0.9033\n",
      "Epoch 07 | Train Loss: 0.2649, Acc: 0.9033 | Val Loss: 0.2987, Acc: 0.8795, P: 0.8791, R: 0.8718, F1: 0.8749\n",
      "\n",
      "--- Epoch 8/10 ---\n"
     ]
    },
    {
     "name": "stderr",
     "output_type": "stream",
     "text": [
      "C:\\Users\\cauba\\AppData\\Local\\Temp\\ipykernel_5988\\3359186712.py:23: FutureWarning: `torch.cuda.amp.autocast(args...)` is deprecated. Please use `torch.amp.autocast('cuda', args...)` instead.\n",
      "  with autocast():\n"
     ]
    },
    {
     "name": "stdout",
     "output_type": "stream",
     "text": [
      "Batch 0/21 | Loss: 0.4000 | Acc: 0.8125\n",
      "Batch 5/21 | Loss: 0.2643 | Acc: 0.8906\n",
      "Batch 10/21 | Loss: 0.2487 | Acc: 0.9062\n",
      "Batch 15/21 | Loss: 0.2491 | Acc: 0.9062\n",
      "Batch 20/21 | Loss: 0.2414 | Acc: 0.9079\n",
      "Epoch 08 | Train Loss: 0.2414, Acc: 0.9079 | Val Loss: 0.2935, Acc: 0.8795, P: 0.8791, R: 0.8718, F1: 0.8749\n",
      "\n",
      "--- Epoch 9/10 ---\n"
     ]
    },
    {
     "name": "stderr",
     "output_type": "stream",
     "text": [
      "C:\\Users\\cauba\\AppData\\Local\\Temp\\ipykernel_5988\\3359186712.py:23: FutureWarning: `torch.cuda.amp.autocast(args...)` is deprecated. Please use `torch.amp.autocast('cuda', args...)` instead.\n",
      "  with autocast():\n"
     ]
    },
    {
     "name": "stdout",
     "output_type": "stream",
     "text": [
      "Batch 0/21 | Loss: 0.1624 | Acc: 0.9062\n",
      "Batch 5/21 | Loss: 0.2517 | Acc: 0.9115\n",
      "Batch 10/21 | Loss: 0.2113 | Acc: 0.9347\n",
      "Batch 15/21 | Loss: 0.2199 | Acc: 0.9297\n",
      "Batch 20/21 | Loss: 0.2329 | Acc: 0.9199\n",
      "Epoch 09 | Train Loss: 0.2329, Acc: 0.9199 | Val Loss: 0.2946, Acc: 0.8855, P: 0.8817, R: 0.8832, F1: 0.8824\n",
      "\n",
      "--- Epoch 10/10 ---\n"
     ]
    },
    {
     "name": "stderr",
     "output_type": "stream",
     "text": [
      "C:\\Users\\cauba\\AppData\\Local\\Temp\\ipykernel_5988\\3359186712.py:23: FutureWarning: `torch.cuda.amp.autocast(args...)` is deprecated. Please use `torch.amp.autocast('cuda', args...)` instead.\n",
      "  with autocast():\n"
     ]
    },
    {
     "name": "stdout",
     "output_type": "stream",
     "text": [
      "Batch 0/21 | Loss: 0.2231 | Acc: 0.9375\n",
      "Batch 5/21 | Loss: 0.2096 | Acc: 0.9062\n",
      "Batch 10/21 | Loss: 0.2365 | Acc: 0.9006\n",
      "Batch 15/21 | Loss: 0.2330 | Acc: 0.9023\n",
      "Batch 20/21 | Loss: 0.2308 | Acc: 0.9048\n",
      "Epoch 10 | Train Loss: 0.2308, Acc: 0.9048 | Val Loss: 0.2843, Acc: 0.8976, P: 0.8940, R: 0.8956, F1: 0.8948\n"
     ]
    },
    {
     "name": "stderr",
     "output_type": "stream",
     "text": [
      "C:\\Users\\cauba\\AppData\\Local\\Temp\\ipykernel_5988\\3359186712.py:124: FutureWarning: You are using `torch.load` with `weights_only=False` (the current default value), which uses the default pickle module implicitly. It is possible to construct malicious pickle data which will execute arbitrary code during unpickling (See https://github.com/pytorch/pytorch/blob/main/SECURITY.md#untrusted-models for more details). In a future release, the default value for `weights_only` will be flipped to `True`. This limits the functions that could be executed during unpickling. Arbitrary objects will no longer be allowed to be loaded via this mode unless they are explicitly allowlisted by the user via `torch.serialization.add_safe_globals`. We recommend you start setting `weights_only=True` for any use case where you don't have full control of the loaded file. Please open an issue on GitHub for any issues related to this experimental feature.\n",
      "  model.load_state_dict(torch.load(best_state_frozen, map_location=device))\n",
      "C:\\Users\\cauba\\AppData\\Local\\Temp\\ipykernel_5988\\3359186712.py:4: FutureWarning: `torch.cuda.amp.GradScaler(args...)` is deprecated. Please use `torch.amp.GradScaler('cuda', args...)` instead.\n",
      "  scaler = GradScaler() if use_amp else None\n"
     ]
    },
    {
     "name": "stdout",
     "output_type": "stream",
     "text": [
      "\n",
      "▶️ Phase: fold3_finetune | epochs=20 | lr=0.0001 | weight_decay=0.0001\n",
      "\n",
      "--- Epoch 1/20 ---\n"
     ]
    },
    {
     "name": "stderr",
     "output_type": "stream",
     "text": [
      "C:\\Users\\cauba\\AppData\\Local\\Temp\\ipykernel_5988\\3359186712.py:23: FutureWarning: `torch.cuda.amp.autocast(args...)` is deprecated. Please use `torch.amp.autocast('cuda', args...)` instead.\n",
      "  with autocast():\n"
     ]
    },
    {
     "name": "stdout",
     "output_type": "stream",
     "text": [
      "Batch 0/21 | Loss: 0.1901 | Acc: 0.9375\n",
      "Batch 5/21 | Loss: 0.6239 | Acc: 0.7760\n",
      "Batch 10/21 | Loss: 0.6636 | Acc: 0.7699\n",
      "Batch 15/21 | Loss: 0.5758 | Acc: 0.8008\n",
      "Batch 20/21 | Loss: 0.5287 | Acc: 0.8082\n",
      "Epoch 01 | Train Loss: 0.5287, Acc: 0.8082 | Val Loss: 0.3148, Acc: 0.8735, P: 0.8738, R: 0.8646, F1: 0.8683\n",
      "\n",
      "--- Epoch 2/20 ---\n"
     ]
    },
    {
     "name": "stderr",
     "output_type": "stream",
     "text": [
      "C:\\Users\\cauba\\AppData\\Local\\Temp\\ipykernel_5988\\3359186712.py:23: FutureWarning: `torch.cuda.amp.autocast(args...)` is deprecated. Please use `torch.amp.autocast('cuda', args...)` instead.\n",
      "  with autocast():\n"
     ]
    },
    {
     "name": "stdout",
     "output_type": "stream",
     "text": [
      "Batch 0/21 | Loss: 0.2510 | Acc: 0.9375\n",
      "Batch 5/21 | Loss: 0.2672 | Acc: 0.8854\n",
      "Batch 10/21 | Loss: 0.2180 | Acc: 0.9148\n",
      "Batch 15/21 | Loss: 0.2422 | Acc: 0.9004\n",
      "Batch 20/21 | Loss: 0.2160 | Acc: 0.9094\n",
      "Epoch 02 | Train Loss: 0.2160, Acc: 0.9094 | Val Loss: 0.3314, Acc: 0.8675, P: 0.8643, R: 0.8740, F1: 0.8659\n",
      "\n",
      "--- Epoch 3/20 ---\n"
     ]
    },
    {
     "name": "stderr",
     "output_type": "stream",
     "text": [
      "C:\\Users\\cauba\\AppData\\Local\\Temp\\ipykernel_5988\\3359186712.py:23: FutureWarning: `torch.cuda.amp.autocast(args...)` is deprecated. Please use `torch.amp.autocast('cuda', args...)` instead.\n",
      "  with autocast():\n"
     ]
    },
    {
     "name": "stdout",
     "output_type": "stream",
     "text": [
      "Batch 0/21 | Loss: 0.0562 | Acc: 1.0000\n",
      "Batch 5/21 | Loss: 0.1790 | Acc: 0.9271\n",
      "Batch 10/21 | Loss: 0.1684 | Acc: 0.9318\n",
      "Batch 15/21 | Loss: 0.1614 | Acc: 0.9414\n",
      "Batch 20/21 | Loss: 0.1679 | Acc: 0.9396\n",
      "Epoch 03 | Train Loss: 0.1679, Acc: 0.9396 | Val Loss: 0.2488, Acc: 0.9217, P: 0.9221, R: 0.9163, F1: 0.9189\n",
      "\n",
      "--- Epoch 4/20 ---\n"
     ]
    },
    {
     "name": "stderr",
     "output_type": "stream",
     "text": [
      "C:\\Users\\cauba\\AppData\\Local\\Temp\\ipykernel_5988\\3359186712.py:23: FutureWarning: `torch.cuda.amp.autocast(args...)` is deprecated. Please use `torch.amp.autocast('cuda', args...)` instead.\n",
      "  with autocast():\n"
     ]
    },
    {
     "name": "stdout",
     "output_type": "stream",
     "text": [
      "Batch 0/21 | Loss: 0.1282 | Acc: 0.9375\n",
      "Batch 5/21 | Loss: 0.1223 | Acc: 0.9479\n",
      "Batch 10/21 | Loss: 0.1067 | Acc: 0.9545\n",
      "Batch 15/21 | Loss: 0.1024 | Acc: 0.9590\n",
      "Batch 20/21 | Loss: 0.1062 | Acc: 0.9577\n",
      "Epoch 04 | Train Loss: 0.1062, Acc: 0.9577 | Val Loss: 0.2922, Acc: 0.9217, P: 0.9187, R: 0.9204, F1: 0.9196\n",
      "\n",
      "--- Epoch 5/20 ---\n"
     ]
    },
    {
     "name": "stderr",
     "output_type": "stream",
     "text": [
      "C:\\Users\\cauba\\AppData\\Local\\Temp\\ipykernel_5988\\3359186712.py:23: FutureWarning: `torch.cuda.amp.autocast(args...)` is deprecated. Please use `torch.amp.autocast('cuda', args...)` instead.\n",
      "  with autocast():\n"
     ]
    },
    {
     "name": "stdout",
     "output_type": "stream",
     "text": [
      "Batch 0/21 | Loss: 0.0455 | Acc: 1.0000\n",
      "Batch 5/21 | Loss: 0.0587 | Acc: 0.9948\n",
      "Batch 10/21 | Loss: 0.0805 | Acc: 0.9773\n",
      "Batch 15/21 | Loss: 0.0827 | Acc: 0.9746\n",
      "Batch 20/21 | Loss: 0.0885 | Acc: 0.9713\n",
      "Epoch 05 | Train Loss: 0.0885, Acc: 0.9713 | Val Loss: 0.3230, Acc: 0.9036, P: 0.8998, R: 0.9029, F1: 0.9012\n",
      "\n",
      "--- Epoch 6/20 ---\n"
     ]
    },
    {
     "name": "stderr",
     "output_type": "stream",
     "text": [
      "C:\\Users\\cauba\\AppData\\Local\\Temp\\ipykernel_5988\\3359186712.py:23: FutureWarning: `torch.cuda.amp.autocast(args...)` is deprecated. Please use `torch.amp.autocast('cuda', args...)` instead.\n",
      "  with autocast():\n"
     ]
    },
    {
     "name": "stdout",
     "output_type": "stream",
     "text": [
      "Batch 0/21 | Loss: 0.0550 | Acc: 1.0000\n",
      "Batch 5/21 | Loss: 0.0608 | Acc: 0.9844\n",
      "Batch 10/21 | Loss: 0.0800 | Acc: 0.9773\n",
      "Batch 15/21 | Loss: 0.0678 | Acc: 0.9805\n",
      "Batch 20/21 | Loss: 0.0789 | Acc: 0.9743\n",
      "Epoch 06 | Train Loss: 0.0789, Acc: 0.9743 | Val Loss: 0.3456, Acc: 0.8855, P: 0.9005, R: 0.8686, F1: 0.8781\n",
      "\n",
      "--- Epoch 7/20 ---\n"
     ]
    },
    {
     "name": "stderr",
     "output_type": "stream",
     "text": [
      "C:\\Users\\cauba\\AppData\\Local\\Temp\\ipykernel_5988\\3359186712.py:23: FutureWarning: `torch.cuda.amp.autocast(args...)` is deprecated. Please use `torch.amp.autocast('cuda', args...)` instead.\n",
      "  with autocast():\n"
     ]
    },
    {
     "name": "stdout",
     "output_type": "stream",
     "text": [
      "Batch 0/21 | Loss: 0.0816 | Acc: 0.9688\n",
      "Batch 5/21 | Loss: 0.0616 | Acc: 0.9844\n",
      "Batch 10/21 | Loss: 0.0480 | Acc: 0.9886\n",
      "Batch 15/21 | Loss: 0.0396 | Acc: 0.9922\n",
      "Batch 20/21 | Loss: 0.0351 | Acc: 0.9940\n",
      "Epoch 07 | Train Loss: 0.0351, Acc: 0.9940 | Val Loss: 0.2992, Acc: 0.9157, P: 0.9115, R: 0.9174, F1: 0.9139\n",
      "\n",
      "--- Epoch 8/20 ---\n"
     ]
    },
    {
     "name": "stderr",
     "output_type": "stream",
     "text": [
      "C:\\Users\\cauba\\AppData\\Local\\Temp\\ipykernel_5988\\3359186712.py:23: FutureWarning: `torch.cuda.amp.autocast(args...)` is deprecated. Please use `torch.amp.autocast('cuda', args...)` instead.\n",
      "  with autocast():\n"
     ]
    },
    {
     "name": "stdout",
     "output_type": "stream",
     "text": [
      "Batch 0/21 | Loss: 0.0148 | Acc: 1.0000\n",
      "Batch 5/21 | Loss: 0.0193 | Acc: 0.9948\n",
      "Batch 10/21 | Loss: 0.0197 | Acc: 0.9972\n",
      "Batch 15/21 | Loss: 0.0275 | Acc: 0.9941\n",
      "Batch 20/21 | Loss: 0.0282 | Acc: 0.9924\n",
      "Epoch 08 | Train Loss: 0.0282, Acc: 0.9924 | Val Loss: 0.2871, Acc: 0.8976, P: 0.8931, R: 0.8998, F1: 0.8956\n",
      "\n",
      "--- Epoch 9/20 ---\n"
     ]
    },
    {
     "name": "stderr",
     "output_type": "stream",
     "text": [
      "C:\\Users\\cauba\\AppData\\Local\\Temp\\ipykernel_5988\\3359186712.py:23: FutureWarning: `torch.cuda.amp.autocast(args...)` is deprecated. Please use `torch.amp.autocast('cuda', args...)` instead.\n",
      "  with autocast():\n"
     ]
    },
    {
     "name": "stdout",
     "output_type": "stream",
     "text": [
      "Batch 0/21 | Loss: 0.0708 | Acc: 0.9688\n",
      "Batch 5/21 | Loss: 0.0228 | Acc: 0.9948\n",
      "Batch 10/21 | Loss: 0.0343 | Acc: 0.9858\n",
      "Batch 15/21 | Loss: 0.0298 | Acc: 0.9883\n",
      "Batch 20/21 | Loss: 0.0277 | Acc: 0.9909\n",
      "Epoch 09 | Train Loss: 0.0277, Acc: 0.9909 | Val Loss: 0.3113, Acc: 0.9096, P: 0.9077, R: 0.9059, F1: 0.9068\n",
      "\n",
      "--- Epoch 10/20 ---\n"
     ]
    },
    {
     "name": "stderr",
     "output_type": "stream",
     "text": [
      "C:\\Users\\cauba\\AppData\\Local\\Temp\\ipykernel_5988\\3359186712.py:23: FutureWarning: `torch.cuda.amp.autocast(args...)` is deprecated. Please use `torch.amp.autocast('cuda', args...)` instead.\n",
      "  with autocast():\n"
     ]
    },
    {
     "name": "stdout",
     "output_type": "stream",
     "text": [
      "Batch 0/21 | Loss: 0.0165 | Acc: 1.0000\n",
      "Batch 5/21 | Loss: 0.0355 | Acc: 0.9792\n",
      "Batch 10/21 | Loss: 0.0260 | Acc: 0.9858\n",
      "Batch 15/21 | Loss: 0.0211 | Acc: 0.9902\n",
      "Batch 20/21 | Loss: 0.0310 | Acc: 0.9879\n",
      "Epoch 10 | Train Loss: 0.0310, Acc: 0.9879 | Val Loss: 0.4284, Acc: 0.8976, P: 0.8939, R: 0.9040, F1: 0.8962\n",
      "\n",
      "--- Epoch 11/20 ---\n"
     ]
    },
    {
     "name": "stderr",
     "output_type": "stream",
     "text": [
      "C:\\Users\\cauba\\AppData\\Local\\Temp\\ipykernel_5988\\3359186712.py:23: FutureWarning: `torch.cuda.amp.autocast(args...)` is deprecated. Please use `torch.amp.autocast('cuda', args...)` instead.\n",
      "  with autocast():\n"
     ]
    },
    {
     "name": "stdout",
     "output_type": "stream",
     "text": [
      "Batch 0/21 | Loss: 0.0977 | Acc: 0.9688\n",
      "Batch 5/21 | Loss: 0.0450 | Acc: 0.9844\n",
      "Batch 10/21 | Loss: 0.0555 | Acc: 0.9801\n",
      "Batch 15/21 | Loss: 0.0522 | Acc: 0.9785\n",
      "Batch 20/21 | Loss: 0.0530 | Acc: 0.9819\n",
      "Epoch 11 | Train Loss: 0.0530, Acc: 0.9819 | Val Loss: 0.2591, Acc: 0.9217, P: 0.9221, R: 0.9163, F1: 0.9189\n",
      "\n",
      "--- Epoch 12/20 ---\n"
     ]
    },
    {
     "name": "stderr",
     "output_type": "stream",
     "text": [
      "C:\\Users\\cauba\\AppData\\Local\\Temp\\ipykernel_5988\\3359186712.py:23: FutureWarning: `torch.cuda.amp.autocast(args...)` is deprecated. Please use `torch.amp.autocast('cuda', args...)` instead.\n",
      "  with autocast():\n"
     ]
    },
    {
     "name": "stdout",
     "output_type": "stream",
     "text": [
      "Batch 0/21 | Loss: 0.0051 | Acc: 1.0000\n",
      "Batch 5/21 | Loss: 0.0482 | Acc: 0.9792\n",
      "Batch 10/21 | Loss: 0.0365 | Acc: 0.9858\n",
      "Batch 15/21 | Loss: 0.0356 | Acc: 0.9883\n",
      "Batch 20/21 | Loss: 0.0339 | Acc: 0.9894\n",
      "Epoch 12 | Train Loss: 0.0339, Acc: 0.9894 | Val Loss: 0.3774, Acc: 0.9096, P: 0.9054, R: 0.9143, F1: 0.9082\n",
      "\n",
      "--- Epoch 13/20 ---\n"
     ]
    },
    {
     "name": "stderr",
     "output_type": "stream",
     "text": [
      "C:\\Users\\cauba\\AppData\\Local\\Temp\\ipykernel_5988\\3359186712.py:23: FutureWarning: `torch.cuda.amp.autocast(args...)` is deprecated. Please use `torch.amp.autocast('cuda', args...)` instead.\n",
      "  with autocast():\n"
     ]
    },
    {
     "name": "stdout",
     "output_type": "stream",
     "text": [
      "Batch 0/21 | Loss: 0.0117 | Acc: 1.0000\n",
      "Batch 5/21 | Loss: 0.0208 | Acc: 0.9948\n",
      "Batch 10/21 | Loss: 0.0214 | Acc: 0.9915\n",
      "Batch 15/21 | Loss: 0.0287 | Acc: 0.9883\n",
      "Batch 20/21 | Loss: 0.0275 | Acc: 0.9879\n",
      "Epoch 13 | Train Loss: 0.0275, Acc: 0.9879 | Val Loss: 0.3412, Acc: 0.9217, P: 0.9178, R: 0.9225, F1: 0.9199\n",
      "\n",
      "--- Epoch 14/20 ---\n"
     ]
    },
    {
     "name": "stderr",
     "output_type": "stream",
     "text": [
      "C:\\Users\\cauba\\AppData\\Local\\Temp\\ipykernel_5988\\3359186712.py:23: FutureWarning: `torch.cuda.amp.autocast(args...)` is deprecated. Please use `torch.amp.autocast('cuda', args...)` instead.\n",
      "  with autocast():\n"
     ]
    },
    {
     "name": "stdout",
     "output_type": "stream",
     "text": [
      "Batch 0/21 | Loss: 0.0093 | Acc: 1.0000\n",
      "Batch 5/21 | Loss: 0.0196 | Acc: 1.0000\n",
      "Batch 10/21 | Loss: 0.0214 | Acc: 0.9972\n",
      "Batch 15/21 | Loss: 0.0235 | Acc: 0.9941\n",
      "Batch 20/21 | Loss: 0.0231 | Acc: 0.9924\n",
      "Epoch 14 | Train Loss: 0.0231, Acc: 0.9924 | Val Loss: 0.3937, Acc: 0.9096, P: 0.9149, R: 0.8997, F1: 0.9054\n",
      "\n",
      "--- Epoch 15/20 ---\n"
     ]
    },
    {
     "name": "stderr",
     "output_type": "stream",
     "text": [
      "C:\\Users\\cauba\\AppData\\Local\\Temp\\ipykernel_5988\\3359186712.py:23: FutureWarning: `torch.cuda.amp.autocast(args...)` is deprecated. Please use `torch.amp.autocast('cuda', args...)` instead.\n",
      "  with autocast():\n"
     ]
    },
    {
     "name": "stdout",
     "output_type": "stream",
     "text": [
      "Batch 0/21 | Loss: 0.0030 | Acc: 1.0000\n",
      "Batch 5/21 | Loss: 0.0058 | Acc: 1.0000\n",
      "Batch 10/21 | Loss: 0.0107 | Acc: 0.9972\n",
      "Batch 15/21 | Loss: 0.0107 | Acc: 0.9980\n",
      "Batch 20/21 | Loss: 0.0108 | Acc: 0.9985\n",
      "Epoch 15 | Train Loss: 0.0108, Acc: 0.9985 | Val Loss: 0.3465, Acc: 0.9157, P: 0.9132, R: 0.9132, F1: 0.9132\n",
      "\n",
      "--- Epoch 16/20 ---\n"
     ]
    },
    {
     "name": "stderr",
     "output_type": "stream",
     "text": [
      "C:\\Users\\cauba\\AppData\\Local\\Temp\\ipykernel_5988\\3359186712.py:23: FutureWarning: `torch.cuda.amp.autocast(args...)` is deprecated. Please use `torch.amp.autocast('cuda', args...)` instead.\n",
      "  with autocast():\n"
     ]
    },
    {
     "name": "stdout",
     "output_type": "stream",
     "text": [
      "Batch 0/21 | Loss: 0.0017 | Acc: 1.0000\n",
      "Batch 5/21 | Loss: 0.0118 | Acc: 0.9948\n",
      "Batch 10/21 | Loss: 0.0128 | Acc: 0.9943\n",
      "Batch 15/21 | Loss: 0.0232 | Acc: 0.9902\n",
      "Batch 20/21 | Loss: 0.0269 | Acc: 0.9879\n",
      "Epoch 16 | Train Loss: 0.0269, Acc: 0.9879 | Val Loss: 0.3042, Acc: 0.9277, P: 0.9256, R: 0.9256, F1: 0.9256\n",
      "\n",
      "--- Epoch 17/20 ---\n"
     ]
    },
    {
     "name": "stderr",
     "output_type": "stream",
     "text": [
      "C:\\Users\\cauba\\AppData\\Local\\Temp\\ipykernel_5988\\3359186712.py:23: FutureWarning: `torch.cuda.amp.autocast(args...)` is deprecated. Please use `torch.amp.autocast('cuda', args...)` instead.\n",
      "  with autocast():\n"
     ]
    },
    {
     "name": "stdout",
     "output_type": "stream",
     "text": [
      "Batch 0/21 | Loss: 0.0018 | Acc: 1.0000\n",
      "Batch 5/21 | Loss: 0.0123 | Acc: 1.0000\n",
      "Batch 10/21 | Loss: 0.0133 | Acc: 1.0000\n",
      "Batch 15/21 | Loss: 0.0256 | Acc: 0.9902\n",
      "Batch 20/21 | Loss: 0.0306 | Acc: 0.9879\n",
      "Epoch 17 | Train Loss: 0.0306, Acc: 0.9879 | Val Loss: 0.3499, Acc: 0.9157, P: 0.9148, R: 0.9111, F1: 0.9128\n",
      "\n",
      "--- Epoch 18/20 ---\n"
     ]
    },
    {
     "name": "stderr",
     "output_type": "stream",
     "text": [
      "C:\\Users\\cauba\\AppData\\Local\\Temp\\ipykernel_5988\\3359186712.py:23: FutureWarning: `torch.cuda.amp.autocast(args...)` is deprecated. Please use `torch.amp.autocast('cuda', args...)` instead.\n",
      "  with autocast():\n"
     ]
    },
    {
     "name": "stdout",
     "output_type": "stream",
     "text": [
      "Batch 0/21 | Loss: 0.0014 | Acc: 1.0000\n",
      "Batch 5/21 | Loss: 0.0114 | Acc: 0.9948\n",
      "Batch 10/21 | Loss: 0.0433 | Acc: 0.9801\n",
      "Batch 15/21 | Loss: 0.0421 | Acc: 0.9824\n",
      "Batch 20/21 | Loss: 0.0402 | Acc: 0.9819\n",
      "Epoch 18 | Train Loss: 0.0402, Acc: 0.9819 | Val Loss: 0.4297, Acc: 0.8976, P: 0.8933, R: 0.9019, F1: 0.8959\n",
      "\n",
      "--- Epoch 19/20 ---\n"
     ]
    },
    {
     "name": "stderr",
     "output_type": "stream",
     "text": [
      "C:\\Users\\cauba\\AppData\\Local\\Temp\\ipykernel_5988\\3359186712.py:23: FutureWarning: `torch.cuda.amp.autocast(args...)` is deprecated. Please use `torch.amp.autocast('cuda', args...)` instead.\n",
      "  with autocast():\n"
     ]
    },
    {
     "name": "stdout",
     "output_type": "stream",
     "text": [
      "Batch 0/21 | Loss: 0.0196 | Acc: 1.0000\n",
      "Batch 5/21 | Loss: 0.0164 | Acc: 0.9948\n",
      "Batch 10/21 | Loss: 0.0225 | Acc: 0.9915\n",
      "Batch 15/21 | Loss: 0.0199 | Acc: 0.9922\n",
      "Batch 20/21 | Loss: 0.0215 | Acc: 0.9909\n",
      "Epoch 19 | Train Loss: 0.0215, Acc: 0.9909 | Val Loss: 0.3077, Acc: 0.9217, P: 0.9246, R: 0.9142, F1: 0.9185\n",
      "\n",
      "--- Epoch 20/20 ---\n"
     ]
    },
    {
     "name": "stderr",
     "output_type": "stream",
     "text": [
      "C:\\Users\\cauba\\AppData\\Local\\Temp\\ipykernel_5988\\3359186712.py:23: FutureWarning: `torch.cuda.amp.autocast(args...)` is deprecated. Please use `torch.amp.autocast('cuda', args...)` instead.\n",
      "  with autocast():\n"
     ]
    },
    {
     "name": "stdout",
     "output_type": "stream",
     "text": [
      "Batch 0/21 | Loss: 0.0156 | Acc: 1.0000\n",
      "Batch 5/21 | Loss: 0.0135 | Acc: 0.9948\n",
      "Batch 10/21 | Loss: 0.0138 | Acc: 0.9943\n",
      "Batch 15/21 | Loss: 0.0165 | Acc: 0.9941\n",
      "Batch 20/21 | Loss: 0.0194 | Acc: 0.9909\n",
      "Epoch 20 | Train Loss: 0.0194, Acc: 0.9909 | Val Loss: 0.2731, Acc: 0.9217, P: 0.9175, R: 0.9267, F1: 0.9204\n"
     ]
    },
    {
     "name": "stderr",
     "output_type": "stream",
     "text": [
      "C:\\Users\\cauba\\AppData\\Local\\Temp\\ipykernel_5988\\3359186712.py:135: FutureWarning: You are using `torch.load` with `weights_only=False` (the current default value), which uses the default pickle module implicitly. It is possible to construct malicious pickle data which will execute arbitrary code during unpickling (See https://github.com/pytorch/pytorch/blob/main/SECURITY.md#untrusted-models for more details). In a future release, the default value for `weights_only` will be flipped to `True`. This limits the functions that could be executed during unpickling. Arbitrary objects will no longer be allowed to be loaded via this mode unless they are explicitly allowlisted by the user via `torch.serialization.add_safe_globals`. We recommend you start setting `weights_only=True` for any use case where you don't have full control of the loaded file. Please open an issue on GitHub for any issues related to this experimental feature.\n",
      "  model.load_state_dict(torch.load(best_state_ft, map_location=device))\n"
     ]
    },
    {
     "name": "stdout",
     "output_type": "stream",
     "text": [
      "\n",
      "==================== Fold 4/5 — convnext_tiny ====================\n"
     ]
    },
    {
     "name": "stderr",
     "output_type": "stream",
     "text": [
      "c:\\Users\\cauba\\AppData\\Local\\Programs\\Python\\Python311\\Lib\\site-packages\\torchvision\\models\\_utils.py:208: UserWarning: The parameter 'pretrained' is deprecated since 0.13 and may be removed in the future, please use 'weights' instead.\n",
      "  warnings.warn(\n",
      "c:\\Users\\cauba\\AppData\\Local\\Programs\\Python\\Python311\\Lib\\site-packages\\torchvision\\models\\_utils.py:223: UserWarning: Arguments other than a weight enum or `None` for 'weights' are deprecated since 0.13 and may be removed in the future. The current behavior is equivalent to passing `weights=ConvNeXt_Tiny_Weights.IMAGENET1K_V1`. You can also use `weights=ConvNeXt_Tiny_Weights.DEFAULT` to get the most up-to-date weights.\n",
      "  warnings.warn(msg)\n",
      "C:\\Users\\cauba\\AppData\\Local\\Temp\\ipykernel_5988\\3359186712.py:4: FutureWarning: `torch.cuda.amp.GradScaler(args...)` is deprecated. Please use `torch.amp.GradScaler('cuda', args...)` instead.\n",
      "  scaler = GradScaler() if use_amp else None\n"
     ]
    },
    {
     "name": "stdout",
     "output_type": "stream",
     "text": [
      "\n",
      "▶️ Phase: fold4_frozen | epochs=10 | lr=0.001 | weight_decay=0.0001\n",
      "\n",
      "--- Epoch 1/10 ---\n"
     ]
    },
    {
     "name": "stderr",
     "output_type": "stream",
     "text": [
      "C:\\Users\\cauba\\AppData\\Local\\Temp\\ipykernel_5988\\3359186712.py:23: FutureWarning: `torch.cuda.amp.autocast(args...)` is deprecated. Please use `torch.amp.autocast('cuda', args...)` instead.\n",
      "  with autocast():\n"
     ]
    },
    {
     "name": "stdout",
     "output_type": "stream",
     "text": [
      "Batch 0/21 | Loss: 0.8370 | Acc: 0.2812\n",
      "Batch 5/21 | Loss: 0.6882 | Acc: 0.5000\n",
      "Batch 10/21 | Loss: 0.6274 | Acc: 0.5966\n",
      "Batch 15/21 | Loss: 0.5900 | Acc: 0.6426\n",
      "Batch 20/21 | Loss: 0.5641 | Acc: 0.6712\n",
      "Epoch 01 | Train Loss: 0.5641, Acc: 0.6712 | Val Loss: 0.4117, Acc: 0.8364, P: 0.8368, R: 0.8247, F1: 0.8291\n",
      "\n",
      "--- Epoch 2/10 ---\n"
     ]
    },
    {
     "name": "stderr",
     "output_type": "stream",
     "text": [
      "C:\\Users\\cauba\\AppData\\Local\\Temp\\ipykernel_5988\\3359186712.py:23: FutureWarning: `torch.cuda.amp.autocast(args...)` is deprecated. Please use `torch.amp.autocast('cuda', args...)` instead.\n",
      "  with autocast():\n"
     ]
    },
    {
     "name": "stdout",
     "output_type": "stream",
     "text": [
      "Batch 0/21 | Loss: 0.4409 | Acc: 0.7812\n",
      "Batch 5/21 | Loss: 0.4449 | Acc: 0.7969\n",
      "Batch 10/21 | Loss: 0.4338 | Acc: 0.8068\n",
      "Batch 15/21 | Loss: 0.4118 | Acc: 0.8262\n",
      "Batch 20/21 | Loss: 0.4005 | Acc: 0.8341\n",
      "Epoch 02 | Train Loss: 0.4005, Acc: 0.8341 | Val Loss: 0.3440, Acc: 0.8970, P: 0.9014, R: 0.8870, F1: 0.8924\n",
      "\n",
      "--- Epoch 3/10 ---\n"
     ]
    },
    {
     "name": "stderr",
     "output_type": "stream",
     "text": [
      "C:\\Users\\cauba\\AppData\\Local\\Temp\\ipykernel_5988\\3359186712.py:23: FutureWarning: `torch.cuda.amp.autocast(args...)` is deprecated. Please use `torch.amp.autocast('cuda', args...)` instead.\n",
      "  with autocast():\n"
     ]
    },
    {
     "name": "stdout",
     "output_type": "stream",
     "text": [
      "Batch 0/21 | Loss: 0.3155 | Acc: 0.9375\n",
      "Batch 5/21 | Loss: 0.3342 | Acc: 0.8750\n",
      "Batch 10/21 | Loss: 0.3603 | Acc: 0.8523\n",
      "Batch 15/21 | Loss: 0.3513 | Acc: 0.8535\n",
      "Batch 20/21 | Loss: 0.3437 | Acc: 0.8567\n",
      "Epoch 03 | Train Loss: 0.3437, Acc: 0.8567 | Val Loss: 0.3115, Acc: 0.8848, P: 0.8859, R: 0.8766, F1: 0.8803\n",
      "\n",
      "--- Epoch 4/10 ---\n"
     ]
    },
    {
     "name": "stderr",
     "output_type": "stream",
     "text": [
      "C:\\Users\\cauba\\AppData\\Local\\Temp\\ipykernel_5988\\3359186712.py:23: FutureWarning: `torch.cuda.amp.autocast(args...)` is deprecated. Please use `torch.amp.autocast('cuda', args...)` instead.\n",
      "  with autocast():\n"
     ]
    },
    {
     "name": "stdout",
     "output_type": "stream",
     "text": [
      "Batch 0/21 | Loss: 0.3565 | Acc: 0.9062\n",
      "Batch 5/21 | Loss: 0.3163 | Acc: 0.8906\n",
      "Batch 10/21 | Loss: 0.2917 | Acc: 0.8949\n",
      "Batch 15/21 | Loss: 0.3055 | Acc: 0.8809\n",
      "Batch 20/21 | Loss: 0.2997 | Acc: 0.8914\n",
      "Epoch 04 | Train Loss: 0.2997, Acc: 0.8914 | Val Loss: 0.2911, Acc: 0.9152, P: 0.9128, R: 0.9128, F1: 0.9128\n",
      "\n",
      "--- Epoch 5/10 ---\n"
     ]
    },
    {
     "name": "stderr",
     "output_type": "stream",
     "text": [
      "C:\\Users\\cauba\\AppData\\Local\\Temp\\ipykernel_5988\\3359186712.py:23: FutureWarning: `torch.cuda.amp.autocast(args...)` is deprecated. Please use `torch.amp.autocast('cuda', args...)` instead.\n",
      "  with autocast():\n"
     ]
    },
    {
     "name": "stdout",
     "output_type": "stream",
     "text": [
      "Batch 0/21 | Loss: 0.2492 | Acc: 0.9062\n",
      "Batch 5/21 | Loss: 0.3097 | Acc: 0.8750\n",
      "Batch 10/21 | Loss: 0.2726 | Acc: 0.8977\n",
      "Batch 15/21 | Loss: 0.2881 | Acc: 0.8848\n",
      "Batch 20/21 | Loss: 0.3009 | Acc: 0.8793\n",
      "Epoch 05 | Train Loss: 0.3009, Acc: 0.8793 | Val Loss: 0.2795, Acc: 0.8848, P: 0.8917, R: 0.8725, F1: 0.8791\n",
      "\n",
      "--- Epoch 6/10 ---\n"
     ]
    },
    {
     "name": "stderr",
     "output_type": "stream",
     "text": [
      "C:\\Users\\cauba\\AppData\\Local\\Temp\\ipykernel_5988\\3359186712.py:23: FutureWarning: `torch.cuda.amp.autocast(args...)` is deprecated. Please use `torch.amp.autocast('cuda', args...)` instead.\n",
      "  with autocast():\n"
     ]
    },
    {
     "name": "stdout",
     "output_type": "stream",
     "text": [
      "Batch 0/21 | Loss: 0.2737 | Acc: 0.8438\n",
      "Batch 5/21 | Loss: 0.2525 | Acc: 0.8854\n",
      "Batch 10/21 | Loss: 0.2751 | Acc: 0.8722\n",
      "Batch 15/21 | Loss: 0.2724 | Acc: 0.8828\n",
      "Batch 20/21 | Loss: 0.2776 | Acc: 0.8778\n",
      "Epoch 06 | Train Loss: 0.2776, Acc: 0.8778 | Val Loss: 0.2564, Acc: 0.8970, P: 0.8965, R: 0.8911, F1: 0.8934\n",
      "\n",
      "--- Epoch 7/10 ---\n"
     ]
    },
    {
     "name": "stderr",
     "output_type": "stream",
     "text": [
      "C:\\Users\\cauba\\AppData\\Local\\Temp\\ipykernel_5988\\3359186712.py:23: FutureWarning: `torch.cuda.amp.autocast(args...)` is deprecated. Please use `torch.amp.autocast('cuda', args...)` instead.\n",
      "  with autocast():\n"
     ]
    },
    {
     "name": "stdout",
     "output_type": "stream",
     "text": [
      "Batch 0/21 | Loss: 0.4037 | Acc: 0.8438\n",
      "Batch 5/21 | Loss: 0.2519 | Acc: 0.9271\n",
      "Batch 10/21 | Loss: 0.2535 | Acc: 0.9176\n",
      "Batch 15/21 | Loss: 0.2690 | Acc: 0.9062\n",
      "Batch 20/21 | Loss: 0.2768 | Acc: 0.8974\n",
      "Epoch 07 | Train Loss: 0.2768, Acc: 0.8974 | Val Loss: 0.2525, Acc: 0.8848, P: 0.8917, R: 0.8725, F1: 0.8791\n",
      "\n",
      "--- Epoch 8/10 ---\n"
     ]
    },
    {
     "name": "stderr",
     "output_type": "stream",
     "text": [
      "C:\\Users\\cauba\\AppData\\Local\\Temp\\ipykernel_5988\\3359186712.py:23: FutureWarning: `torch.cuda.amp.autocast(args...)` is deprecated. Please use `torch.amp.autocast('cuda', args...)` instead.\n",
      "  with autocast():\n"
     ]
    },
    {
     "name": "stdout",
     "output_type": "stream",
     "text": [
      "Batch 0/21 | Loss: 0.3647 | Acc: 0.9062\n",
      "Batch 5/21 | Loss: 0.2519 | Acc: 0.9062\n",
      "Batch 10/21 | Loss: 0.2435 | Acc: 0.9091\n",
      "Batch 15/21 | Loss: 0.2577 | Acc: 0.8984\n",
      "Batch 20/21 | Loss: 0.2533 | Acc: 0.8989\n",
      "Epoch 08 | Train Loss: 0.2533, Acc: 0.8989 | Val Loss: 0.2427, Acc: 0.8970, P: 0.8987, R: 0.8890, F1: 0.8929\n",
      "\n",
      "--- Epoch 9/10 ---\n"
     ]
    },
    {
     "name": "stderr",
     "output_type": "stream",
     "text": [
      "C:\\Users\\cauba\\AppData\\Local\\Temp\\ipykernel_5988\\3359186712.py:23: FutureWarning: `torch.cuda.amp.autocast(args...)` is deprecated. Please use `torch.amp.autocast('cuda', args...)` instead.\n",
      "  with autocast():\n"
     ]
    },
    {
     "name": "stdout",
     "output_type": "stream",
     "text": [
      "Batch 0/21 | Loss: 0.1636 | Acc: 0.9688\n",
      "Batch 5/21 | Loss: 0.2434 | Acc: 0.9167\n",
      "Batch 10/21 | Loss: 0.2227 | Acc: 0.9261\n",
      "Batch 15/21 | Loss: 0.2415 | Acc: 0.9160\n",
      "Batch 20/21 | Loss: 0.2433 | Acc: 0.9125\n",
      "Epoch 09 | Train Loss: 0.2433, Acc: 0.9125 | Val Loss: 0.2525, Acc: 0.8788, P: 0.8835, R: 0.8673, F1: 0.8731\n",
      "\n",
      "--- Epoch 10/10 ---\n"
     ]
    },
    {
     "name": "stderr",
     "output_type": "stream",
     "text": [
      "C:\\Users\\cauba\\AppData\\Local\\Temp\\ipykernel_5988\\3359186712.py:23: FutureWarning: `torch.cuda.amp.autocast(args...)` is deprecated. Please use `torch.amp.autocast('cuda', args...)` instead.\n",
      "  with autocast():\n"
     ]
    },
    {
     "name": "stdout",
     "output_type": "stream",
     "text": [
      "Batch 0/21 | Loss: 0.1856 | Acc: 0.9688\n",
      "Batch 5/21 | Loss: 0.2092 | Acc: 0.9427\n",
      "Batch 10/21 | Loss: 0.2274 | Acc: 0.9176\n",
      "Batch 15/21 | Loss: 0.2497 | Acc: 0.9004\n",
      "Batch 20/21 | Loss: 0.2466 | Acc: 0.8989\n",
      "Epoch 10 | Train Loss: 0.2466, Acc: 0.8989 | Val Loss: 0.2472, Acc: 0.8788, P: 0.8835, R: 0.8673, F1: 0.8731\n",
      "\n",
      "▶️ Phase: fold4_finetune | epochs=20 | lr=0.0001 | weight_decay=0.0001\n",
      "\n",
      "--- Epoch 1/20 ---\n"
     ]
    },
    {
     "name": "stderr",
     "output_type": "stream",
     "text": [
      "C:\\Users\\cauba\\AppData\\Local\\Temp\\ipykernel_5988\\3359186712.py:124: FutureWarning: You are using `torch.load` with `weights_only=False` (the current default value), which uses the default pickle module implicitly. It is possible to construct malicious pickle data which will execute arbitrary code during unpickling (See https://github.com/pytorch/pytorch/blob/main/SECURITY.md#untrusted-models for more details). In a future release, the default value for `weights_only` will be flipped to `True`. This limits the functions that could be executed during unpickling. Arbitrary objects will no longer be allowed to be loaded via this mode unless they are explicitly allowlisted by the user via `torch.serialization.add_safe_globals`. We recommend you start setting `weights_only=True` for any use case where you don't have full control of the loaded file. Please open an issue on GitHub for any issues related to this experimental feature.\n",
      "  model.load_state_dict(torch.load(best_state_frozen, map_location=device))\n",
      "C:\\Users\\cauba\\AppData\\Local\\Temp\\ipykernel_5988\\3359186712.py:4: FutureWarning: `torch.cuda.amp.GradScaler(args...)` is deprecated. Please use `torch.amp.GradScaler('cuda', args...)` instead.\n",
      "  scaler = GradScaler() if use_amp else None\n",
      "C:\\Users\\cauba\\AppData\\Local\\Temp\\ipykernel_5988\\3359186712.py:23: FutureWarning: `torch.cuda.amp.autocast(args...)` is deprecated. Please use `torch.amp.autocast('cuda', args...)` instead.\n",
      "  with autocast():\n"
     ]
    },
    {
     "name": "stdout",
     "output_type": "stream",
     "text": [
      "Batch 0/21 | Loss: 0.3459 | Acc: 0.8125\n",
      "Batch 5/21 | Loss: 0.3168 | Acc: 0.8698\n",
      "Batch 10/21 | Loss: 0.3252 | Acc: 0.8693\n",
      "Batch 15/21 | Loss: 0.3058 | Acc: 0.8809\n",
      "Batch 20/21 | Loss: 0.3031 | Acc: 0.8793\n",
      "Epoch 01 | Train Loss: 0.3031, Acc: 0.8793 | Val Loss: 0.3685, Acc: 0.8364, P: 0.8732, R: 0.8084, F1: 0.8198\n",
      "\n",
      "--- Epoch 2/20 ---\n"
     ]
    },
    {
     "name": "stderr",
     "output_type": "stream",
     "text": [
      "C:\\Users\\cauba\\AppData\\Local\\Temp\\ipykernel_5988\\3359186712.py:23: FutureWarning: `torch.cuda.amp.autocast(args...)` is deprecated. Please use `torch.amp.autocast('cuda', args...)` instead.\n",
      "  with autocast():\n"
     ]
    },
    {
     "name": "stdout",
     "output_type": "stream",
     "text": [
      "Batch 0/21 | Loss: 0.2396 | Acc: 0.9062\n",
      "Batch 5/21 | Loss: 0.2246 | Acc: 0.8854\n",
      "Batch 10/21 | Loss: 0.2100 | Acc: 0.9091\n",
      "Batch 15/21 | Loss: 0.2057 | Acc: 0.9082\n",
      "Batch 20/21 | Loss: 0.1969 | Acc: 0.9186\n",
      "Epoch 02 | Train Loss: 0.1969, Acc: 0.9186 | Val Loss: 0.1983, Acc: 0.9212, P: 0.9184, R: 0.9201, F1: 0.9192\n",
      "\n",
      "--- Epoch 3/20 ---\n"
     ]
    },
    {
     "name": "stderr",
     "output_type": "stream",
     "text": [
      "C:\\Users\\cauba\\AppData\\Local\\Temp\\ipykernel_5988\\3359186712.py:23: FutureWarning: `torch.cuda.amp.autocast(args...)` is deprecated. Please use `torch.amp.autocast('cuda', args...)` instead.\n",
      "  with autocast():\n"
     ]
    },
    {
     "name": "stdout",
     "output_type": "stream",
     "text": [
      "Batch 0/21 | Loss: 0.0749 | Acc: 1.0000\n",
      "Batch 5/21 | Loss: 0.1580 | Acc: 0.9479\n",
      "Batch 10/21 | Loss: 0.1391 | Acc: 0.9489\n",
      "Batch 15/21 | Loss: 0.1287 | Acc: 0.9570\n",
      "Batch 20/21 | Loss: 0.1318 | Acc: 0.9502\n",
      "Epoch 03 | Train Loss: 0.1318, Acc: 0.9502 | Val Loss: 0.2034, Acc: 0.9333, P: 0.9295, R: 0.9366, F1: 0.9321\n",
      "\n",
      "--- Epoch 4/20 ---\n"
     ]
    },
    {
     "name": "stderr",
     "output_type": "stream",
     "text": [
      "C:\\Users\\cauba\\AppData\\Local\\Temp\\ipykernel_5988\\3359186712.py:23: FutureWarning: `torch.cuda.amp.autocast(args...)` is deprecated. Please use `torch.amp.autocast('cuda', args...)` instead.\n",
      "  with autocast():\n"
     ]
    },
    {
     "name": "stdout",
     "output_type": "stream",
     "text": [
      "Batch 0/21 | Loss: 0.1801 | Acc: 0.9375\n",
      "Batch 5/21 | Loss: 0.1368 | Acc: 0.9583\n",
      "Batch 10/21 | Loss: 0.1405 | Acc: 0.9460\n",
      "Batch 15/21 | Loss: 0.1190 | Acc: 0.9531\n",
      "Batch 20/21 | Loss: 0.1135 | Acc: 0.9578\n",
      "Epoch 04 | Train Loss: 0.1135, Acc: 0.9578 | Val Loss: 0.2917, Acc: 0.9030, P: 0.9176, R: 0.8881, F1: 0.8973\n",
      "\n",
      "--- Epoch 5/20 ---\n"
     ]
    },
    {
     "name": "stderr",
     "output_type": "stream",
     "text": [
      "C:\\Users\\cauba\\AppData\\Local\\Temp\\ipykernel_5988\\3359186712.py:23: FutureWarning: `torch.cuda.amp.autocast(args...)` is deprecated. Please use `torch.amp.autocast('cuda', args...)` instead.\n",
      "  with autocast():\n"
     ]
    },
    {
     "name": "stdout",
     "output_type": "stream",
     "text": [
      "Batch 0/21 | Loss: 0.1790 | Acc: 0.9375\n",
      "Batch 5/21 | Loss: 0.0960 | Acc: 0.9635\n",
      "Batch 10/21 | Loss: 0.0862 | Acc: 0.9688\n",
      "Batch 15/21 | Loss: 0.0844 | Acc: 0.9688\n",
      "Batch 20/21 | Loss: 0.0987 | Acc: 0.9638\n",
      "Epoch 05 | Train Loss: 0.0987, Acc: 0.9638 | Val Loss: 0.2314, Acc: 0.9152, P: 0.9128, R: 0.9128, F1: 0.9128\n",
      "\n",
      "--- Epoch 6/20 ---\n"
     ]
    },
    {
     "name": "stderr",
     "output_type": "stream",
     "text": [
      "C:\\Users\\cauba\\AppData\\Local\\Temp\\ipykernel_5988\\3359186712.py:23: FutureWarning: `torch.cuda.amp.autocast(args...)` is deprecated. Please use `torch.amp.autocast('cuda', args...)` instead.\n",
      "  with autocast():\n"
     ]
    },
    {
     "name": "stdout",
     "output_type": "stream",
     "text": [
      "Batch 0/21 | Loss: 0.1383 | Acc: 0.9375\n",
      "Batch 5/21 | Loss: 0.0815 | Acc: 0.9740\n",
      "Batch 10/21 | Loss: 0.0636 | Acc: 0.9830\n",
      "Batch 15/21 | Loss: 0.0588 | Acc: 0.9824\n",
      "Batch 20/21 | Loss: 0.0528 | Acc: 0.9849\n",
      "Epoch 06 | Train Loss: 0.0528, Acc: 0.9849 | Val Loss: 0.2316, Acc: 0.9152, P: 0.9128, R: 0.9128, F1: 0.9128\n",
      "\n",
      "--- Epoch 7/20 ---\n"
     ]
    },
    {
     "name": "stderr",
     "output_type": "stream",
     "text": [
      "C:\\Users\\cauba\\AppData\\Local\\Temp\\ipykernel_5988\\3359186712.py:23: FutureWarning: `torch.cuda.amp.autocast(args...)` is deprecated. Please use `torch.amp.autocast('cuda', args...)` instead.\n",
      "  with autocast():\n"
     ]
    },
    {
     "name": "stdout",
     "output_type": "stream",
     "text": [
      "Batch 0/21 | Loss: 0.0262 | Acc: 1.0000\n",
      "Batch 5/21 | Loss: 0.0628 | Acc: 0.9740\n",
      "Batch 10/21 | Loss: 0.0560 | Acc: 0.9744\n",
      "Batch 15/21 | Loss: 0.0578 | Acc: 0.9746\n",
      "Batch 20/21 | Loss: 0.0568 | Acc: 0.9759\n",
      "Epoch 07 | Train Loss: 0.0568, Acc: 0.9759 | Val Loss: 0.2591, Acc: 0.8909, P: 0.8879, R: 0.8879, F1: 0.8879\n",
      "\n",
      "--- Epoch 8/20 ---\n"
     ]
    },
    {
     "name": "stderr",
     "output_type": "stream",
     "text": [
      "C:\\Users\\cauba\\AppData\\Local\\Temp\\ipykernel_5988\\3359186712.py:23: FutureWarning: `torch.cuda.amp.autocast(args...)` is deprecated. Please use `torch.amp.autocast('cuda', args...)` instead.\n",
      "  with autocast():\n"
     ]
    },
    {
     "name": "stdout",
     "output_type": "stream",
     "text": [
      "Batch 0/21 | Loss: 0.0761 | Acc: 0.9688\n",
      "Batch 5/21 | Loss: 0.0450 | Acc: 0.9844\n",
      "Batch 10/21 | Loss: 0.0294 | Acc: 0.9915\n",
      "Batch 15/21 | Loss: 0.0319 | Acc: 0.9922\n",
      "Batch 20/21 | Loss: 0.0468 | Acc: 0.9849\n",
      "Epoch 08 | Train Loss: 0.0468, Acc: 0.9849 | Val Loss: 0.2423, Acc: 0.9394, P: 0.9365, R: 0.9398, F1: 0.9380\n",
      "\n",
      "--- Epoch 9/20 ---\n"
     ]
    },
    {
     "name": "stderr",
     "output_type": "stream",
     "text": [
      "C:\\Users\\cauba\\AppData\\Local\\Temp\\ipykernel_5988\\3359186712.py:23: FutureWarning: `torch.cuda.amp.autocast(args...)` is deprecated. Please use `torch.amp.autocast('cuda', args...)` instead.\n",
      "  with autocast():\n"
     ]
    },
    {
     "name": "stdout",
     "output_type": "stream",
     "text": [
      "Batch 0/21 | Loss: 0.0181 | Acc: 1.0000\n",
      "Batch 5/21 | Loss: 0.0291 | Acc: 0.9948\n",
      "Batch 10/21 | Loss: 0.0497 | Acc: 0.9830\n",
      "Batch 15/21 | Loss: 0.0458 | Acc: 0.9824\n",
      "Batch 20/21 | Loss: 0.0653 | Acc: 0.9729\n",
      "Epoch 09 | Train Loss: 0.0653, Acc: 0.9729 | Val Loss: 0.2884, Acc: 0.9152, P: 0.9124, R: 0.9230, F1: 0.9142\n",
      "\n",
      "--- Epoch 10/20 ---\n"
     ]
    },
    {
     "name": "stderr",
     "output_type": "stream",
     "text": [
      "C:\\Users\\cauba\\AppData\\Local\\Temp\\ipykernel_5988\\3359186712.py:23: FutureWarning: `torch.cuda.amp.autocast(args...)` is deprecated. Please use `torch.amp.autocast('cuda', args...)` instead.\n",
      "  with autocast():\n"
     ]
    },
    {
     "name": "stdout",
     "output_type": "stream",
     "text": [
      "Batch 0/21 | Loss: 0.0378 | Acc: 1.0000\n",
      "Batch 5/21 | Loss: 0.0294 | Acc: 1.0000\n",
      "Batch 10/21 | Loss: 0.0347 | Acc: 0.9915\n",
      "Batch 15/21 | Loss: 0.0428 | Acc: 0.9824\n",
      "Batch 20/21 | Loss: 0.0393 | Acc: 0.9849\n",
      "Epoch 10 | Train Loss: 0.0393, Acc: 0.9849 | Val Loss: 0.3179, Acc: 0.9152, P: 0.9192, R: 0.9067, F1: 0.9116\n",
      "\n",
      "--- Epoch 11/20 ---\n"
     ]
    },
    {
     "name": "stderr",
     "output_type": "stream",
     "text": [
      "C:\\Users\\cauba\\AppData\\Local\\Temp\\ipykernel_5988\\3359186712.py:23: FutureWarning: `torch.cuda.amp.autocast(args...)` is deprecated. Please use `torch.amp.autocast('cuda', args...)` instead.\n",
      "  with autocast():\n"
     ]
    },
    {
     "name": "stdout",
     "output_type": "stream",
     "text": [
      "Batch 0/21 | Loss: 0.0235 | Acc: 1.0000\n",
      "Batch 5/21 | Loss: 0.0168 | Acc: 1.0000\n",
      "Batch 10/21 | Loss: 0.0161 | Acc: 0.9972\n",
      "Batch 15/21 | Loss: 0.0174 | Acc: 0.9961\n",
      "Batch 20/21 | Loss: 0.0261 | Acc: 0.9910\n",
      "Epoch 11 | Train Loss: 0.0261, Acc: 0.9910 | Val Loss: 0.2224, Acc: 0.9394, P: 0.9365, R: 0.9398, F1: 0.9380\n",
      "\n",
      "--- Epoch 12/20 ---\n"
     ]
    },
    {
     "name": "stderr",
     "output_type": "stream",
     "text": [
      "C:\\Users\\cauba\\AppData\\Local\\Temp\\ipykernel_5988\\3359186712.py:23: FutureWarning: `torch.cuda.amp.autocast(args...)` is deprecated. Please use `torch.amp.autocast('cuda', args...)` instead.\n",
      "  with autocast():\n"
     ]
    },
    {
     "name": "stdout",
     "output_type": "stream",
     "text": [
      "Batch 0/21 | Loss: 0.0064 | Acc: 1.0000\n",
      "Batch 5/21 | Loss: 0.0169 | Acc: 0.9896\n",
      "Batch 10/21 | Loss: 0.0214 | Acc: 0.9886\n",
      "Batch 15/21 | Loss: 0.0194 | Acc: 0.9922\n",
      "Batch 20/21 | Loss: 0.0176 | Acc: 0.9940\n",
      "Epoch 12 | Train Loss: 0.0176, Acc: 0.9940 | Val Loss: 0.3690, Acc: 0.9152, P: 0.9225, R: 0.9047, F1: 0.9112\n",
      "\n",
      "--- Epoch 13/20 ---\n"
     ]
    },
    {
     "name": "stderr",
     "output_type": "stream",
     "text": [
      "C:\\Users\\cauba\\AppData\\Local\\Temp\\ipykernel_5988\\3359186712.py:23: FutureWarning: `torch.cuda.amp.autocast(args...)` is deprecated. Please use `torch.amp.autocast('cuda', args...)` instead.\n",
      "  with autocast():\n"
     ]
    },
    {
     "name": "stdout",
     "output_type": "stream",
     "text": [
      "Batch 0/21 | Loss: 0.0064 | Acc: 1.0000\n",
      "Batch 5/21 | Loss: 0.0404 | Acc: 0.9844\n",
      "Batch 10/21 | Loss: 0.0314 | Acc: 0.9886\n",
      "Batch 15/21 | Loss: 0.0280 | Acc: 0.9902\n",
      "Batch 20/21 | Loss: 0.0328 | Acc: 0.9864\n",
      "Epoch 13 | Train Loss: 0.0328, Acc: 0.9864 | Val Loss: 0.2156, Acc: 0.9394, P: 0.9365, R: 0.9398, F1: 0.9380\n",
      "\n",
      "--- Epoch 14/20 ---\n"
     ]
    },
    {
     "name": "stderr",
     "output_type": "stream",
     "text": [
      "C:\\Users\\cauba\\AppData\\Local\\Temp\\ipykernel_5988\\3359186712.py:23: FutureWarning: `torch.cuda.amp.autocast(args...)` is deprecated. Please use `torch.amp.autocast('cuda', args...)` instead.\n",
      "  with autocast():\n"
     ]
    },
    {
     "name": "stdout",
     "output_type": "stream",
     "text": [
      "Batch 0/21 | Loss: 0.0039 | Acc: 1.0000\n",
      "Batch 5/21 | Loss: 0.0150 | Acc: 1.0000\n",
      "Batch 10/21 | Loss: 0.0131 | Acc: 0.9972\n",
      "Batch 15/21 | Loss: 0.0164 | Acc: 0.9961\n",
      "Batch 20/21 | Loss: 0.0170 | Acc: 0.9955\n",
      "Epoch 14 | Train Loss: 0.0170, Acc: 0.9955 | Val Loss: 0.2415, Acc: 0.9394, P: 0.9358, R: 0.9418, F1: 0.9382\n",
      "\n",
      "--- Epoch 15/20 ---\n"
     ]
    },
    {
     "name": "stderr",
     "output_type": "stream",
     "text": [
      "C:\\Users\\cauba\\AppData\\Local\\Temp\\ipykernel_5988\\3359186712.py:23: FutureWarning: `torch.cuda.amp.autocast(args...)` is deprecated. Please use `torch.amp.autocast('cuda', args...)` instead.\n",
      "  with autocast():\n"
     ]
    },
    {
     "name": "stdout",
     "output_type": "stream",
     "text": [
      "Batch 0/21 | Loss: 0.0147 | Acc: 1.0000\n",
      "Batch 5/21 | Loss: 0.0185 | Acc: 0.9896\n",
      "Batch 10/21 | Loss: 0.0285 | Acc: 0.9886\n",
      "Batch 15/21 | Loss: 0.0402 | Acc: 0.9902\n",
      "Batch 20/21 | Loss: 0.0333 | Acc: 0.9925\n",
      "Epoch 15 | Train Loss: 0.0333, Acc: 0.9925 | Val Loss: 0.2597, Acc: 0.9394, P: 0.9377, R: 0.9377, F1: 0.9377\n",
      "\n",
      "--- Epoch 16/20 ---\n"
     ]
    },
    {
     "name": "stderr",
     "output_type": "stream",
     "text": [
      "C:\\Users\\cauba\\AppData\\Local\\Temp\\ipykernel_5988\\3359186712.py:23: FutureWarning: `torch.cuda.amp.autocast(args...)` is deprecated. Please use `torch.amp.autocast('cuda', args...)` instead.\n",
      "  with autocast():\n"
     ]
    },
    {
     "name": "stdout",
     "output_type": "stream",
     "text": [
      "Batch 0/21 | Loss: 0.0030 | Acc: 1.0000\n",
      "Batch 5/21 | Loss: 0.0200 | Acc: 0.9948\n",
      "Batch 10/21 | Loss: 0.0177 | Acc: 0.9915\n",
      "Batch 15/21 | Loss: 0.0158 | Acc: 0.9922\n",
      "Batch 20/21 | Loss: 0.0157 | Acc: 0.9925\n",
      "Epoch 16 | Train Loss: 0.0157, Acc: 0.9925 | Val Loss: 0.2840, Acc: 0.9455, P: 0.9422, R: 0.9470, F1: 0.9443\n",
      "\n",
      "--- Epoch 17/20 ---\n"
     ]
    },
    {
     "name": "stderr",
     "output_type": "stream",
     "text": [
      "C:\\Users\\cauba\\AppData\\Local\\Temp\\ipykernel_5988\\3359186712.py:23: FutureWarning: `torch.cuda.amp.autocast(args...)` is deprecated. Please use `torch.amp.autocast('cuda', args...)` instead.\n",
      "  with autocast():\n"
     ]
    },
    {
     "name": "stdout",
     "output_type": "stream",
     "text": [
      "Batch 0/21 | Loss: 0.0023 | Acc: 1.0000\n",
      "Batch 5/21 | Loss: 0.0052 | Acc: 1.0000\n",
      "Batch 10/21 | Loss: 0.0065 | Acc: 1.0000\n",
      "Batch 15/21 | Loss: 0.0104 | Acc: 0.9980\n",
      "Batch 20/21 | Loss: 0.0104 | Acc: 0.9985\n",
      "Epoch 17 | Train Loss: 0.0104, Acc: 0.9985 | Val Loss: 0.2927, Acc: 0.9394, P: 0.9395, R: 0.9357, F1: 0.9375\n",
      "\n",
      "--- Epoch 18/20 ---\n"
     ]
    },
    {
     "name": "stderr",
     "output_type": "stream",
     "text": [
      "C:\\Users\\cauba\\AppData\\Local\\Temp\\ipykernel_5988\\3359186712.py:23: FutureWarning: `torch.cuda.amp.autocast(args...)` is deprecated. Please use `torch.amp.autocast('cuda', args...)` instead.\n",
      "  with autocast():\n"
     ]
    },
    {
     "name": "stdout",
     "output_type": "stream",
     "text": [
      "Batch 0/21 | Loss: 0.0032 | Acc: 1.0000\n",
      "Batch 5/21 | Loss: 0.0071 | Acc: 1.0000\n",
      "Batch 10/21 | Loss: 0.0113 | Acc: 0.9972\n",
      "Batch 15/21 | Loss: 0.0087 | Acc: 0.9980\n",
      "Batch 20/21 | Loss: 0.0080 | Acc: 0.9985\n",
      "Epoch 18 | Train Loss: 0.0080, Acc: 0.9985 | Val Loss: 0.2926, Acc: 0.9394, P: 0.9365, R: 0.9398, F1: 0.9380\n",
      "\n",
      "--- Epoch 19/20 ---\n"
     ]
    },
    {
     "name": "stderr",
     "output_type": "stream",
     "text": [
      "C:\\Users\\cauba\\AppData\\Local\\Temp\\ipykernel_5988\\3359186712.py:23: FutureWarning: `torch.cuda.amp.autocast(args...)` is deprecated. Please use `torch.amp.autocast('cuda', args...)` instead.\n",
      "  with autocast():\n"
     ]
    },
    {
     "name": "stdout",
     "output_type": "stream",
     "text": [
      "Batch 0/21 | Loss: 0.0079 | Acc: 1.0000\n",
      "Batch 5/21 | Loss: 0.0049 | Acc: 1.0000\n",
      "Batch 10/21 | Loss: 0.0068 | Acc: 1.0000\n",
      "Batch 15/21 | Loss: 0.0135 | Acc: 0.9980\n",
      "Batch 20/21 | Loss: 0.0153 | Acc: 0.9970\n",
      "Epoch 19 | Train Loss: 0.0153, Acc: 0.9970 | Val Loss: 0.2839, Acc: 0.9273, P: 0.9235, R: 0.9293, F1: 0.9258\n",
      "\n",
      "--- Epoch 20/20 ---\n"
     ]
    },
    {
     "name": "stderr",
     "output_type": "stream",
     "text": [
      "C:\\Users\\cauba\\AppData\\Local\\Temp\\ipykernel_5988\\3359186712.py:23: FutureWarning: `torch.cuda.amp.autocast(args...)` is deprecated. Please use `torch.amp.autocast('cuda', args...)` instead.\n",
      "  with autocast():\n"
     ]
    },
    {
     "name": "stdout",
     "output_type": "stream",
     "text": [
      "Batch 0/21 | Loss: 0.0093 | Acc: 1.0000\n",
      "Batch 5/21 | Loss: 0.0444 | Acc: 0.9896\n",
      "Batch 10/21 | Loss: 0.0263 | Acc: 0.9943\n",
      "Batch 15/21 | Loss: 0.0247 | Acc: 0.9922\n",
      "Batch 20/21 | Loss: 0.0201 | Acc: 0.9940\n",
      "Epoch 20 | Train Loss: 0.0201, Acc: 0.9940 | Val Loss: 0.3056, Acc: 0.9394, P: 0.9395, R: 0.9357, F1: 0.9375\n"
     ]
    },
    {
     "name": "stderr",
     "output_type": "stream",
     "text": [
      "C:\\Users\\cauba\\AppData\\Local\\Temp\\ipykernel_5988\\3359186712.py:135: FutureWarning: You are using `torch.load` with `weights_only=False` (the current default value), which uses the default pickle module implicitly. It is possible to construct malicious pickle data which will execute arbitrary code during unpickling (See https://github.com/pytorch/pytorch/blob/main/SECURITY.md#untrusted-models for more details). In a future release, the default value for `weights_only` will be flipped to `True`. This limits the functions that could be executed during unpickling. Arbitrary objects will no longer be allowed to be loaded via this mode unless they are explicitly allowlisted by the user via `torch.serialization.add_safe_globals`. We recommend you start setting `weights_only=True` for any use case where you don't have full control of the loaded file. Please open an issue on GitHub for any issues related to this experimental feature.\n",
      "  model.load_state_dict(torch.load(best_state_ft, map_location=device))\n"
     ]
    },
    {
     "name": "stdout",
     "output_type": "stream",
     "text": [
      "\n",
      "==================== Fold 5/5 — convnext_tiny ====================\n"
     ]
    },
    {
     "name": "stderr",
     "output_type": "stream",
     "text": [
      "c:\\Users\\cauba\\AppData\\Local\\Programs\\Python\\Python311\\Lib\\site-packages\\torchvision\\models\\_utils.py:208: UserWarning: The parameter 'pretrained' is deprecated since 0.13 and may be removed in the future, please use 'weights' instead.\n",
      "  warnings.warn(\n",
      "c:\\Users\\cauba\\AppData\\Local\\Programs\\Python\\Python311\\Lib\\site-packages\\torchvision\\models\\_utils.py:223: UserWarning: Arguments other than a weight enum or `None` for 'weights' are deprecated since 0.13 and may be removed in the future. The current behavior is equivalent to passing `weights=ConvNeXt_Tiny_Weights.IMAGENET1K_V1`. You can also use `weights=ConvNeXt_Tiny_Weights.DEFAULT` to get the most up-to-date weights.\n",
      "  warnings.warn(msg)\n",
      "C:\\Users\\cauba\\AppData\\Local\\Temp\\ipykernel_5988\\3359186712.py:4: FutureWarning: `torch.cuda.amp.GradScaler(args...)` is deprecated. Please use `torch.amp.GradScaler('cuda', args...)` instead.\n",
      "  scaler = GradScaler() if use_amp else None\n"
     ]
    },
    {
     "name": "stdout",
     "output_type": "stream",
     "text": [
      "\n",
      "▶️ Phase: fold5_frozen | epochs=10 | lr=0.001 | weight_decay=0.0001\n",
      "\n",
      "--- Epoch 1/10 ---\n"
     ]
    },
    {
     "name": "stderr",
     "output_type": "stream",
     "text": [
      "C:\\Users\\cauba\\AppData\\Local\\Temp\\ipykernel_5988\\3359186712.py:23: FutureWarning: `torch.cuda.amp.autocast(args...)` is deprecated. Please use `torch.amp.autocast('cuda', args...)` instead.\n",
      "  with autocast():\n"
     ]
    },
    {
     "name": "stdout",
     "output_type": "stream",
     "text": [
      "Batch 0/21 | Loss: 0.8953 | Acc: 0.3750\n",
      "Batch 5/21 | Loss: 0.7393 | Acc: 0.5000\n",
      "Batch 10/21 | Loss: 0.6707 | Acc: 0.5795\n",
      "Batch 15/21 | Loss: 0.6306 | Acc: 0.6230\n",
      "Batch 20/21 | Loss: 0.5992 | Acc: 0.6546\n",
      "Epoch 01 | Train Loss: 0.5992, Acc: 0.6546 | Val Loss: 0.4360, Acc: 0.8121, P: 0.8223, R: 0.7917, F1: 0.7991\n",
      "\n",
      "--- Epoch 2/10 ---\n"
     ]
    },
    {
     "name": "stderr",
     "output_type": "stream",
     "text": [
      "C:\\Users\\cauba\\AppData\\Local\\Temp\\ipykernel_5988\\3359186712.py:23: FutureWarning: `torch.cuda.amp.autocast(args...)` is deprecated. Please use `torch.amp.autocast('cuda', args...)` instead.\n",
      "  with autocast():\n"
     ]
    },
    {
     "name": "stdout",
     "output_type": "stream",
     "text": [
      "Batch 0/21 | Loss: 0.4852 | Acc: 0.8125\n",
      "Batch 5/21 | Loss: 0.4266 | Acc: 0.8229\n",
      "Batch 10/21 | Loss: 0.4231 | Acc: 0.8153\n",
      "Batch 15/21 | Loss: 0.4284 | Acc: 0.8125\n",
      "Batch 20/21 | Loss: 0.4084 | Acc: 0.8281\n",
      "Epoch 02 | Train Loss: 0.4084, Acc: 0.8281 | Val Loss: 0.3552, Acc: 0.8545, P: 0.8531, R: 0.8465, F1: 0.8492\n",
      "\n",
      "--- Epoch 3/10 ---\n"
     ]
    },
    {
     "name": "stderr",
     "output_type": "stream",
     "text": [
      "C:\\Users\\cauba\\AppData\\Local\\Temp\\ipykernel_5988\\3359186712.py:23: FutureWarning: `torch.cuda.amp.autocast(args...)` is deprecated. Please use `torch.amp.autocast('cuda', args...)` instead.\n",
      "  with autocast():\n"
     ]
    },
    {
     "name": "stdout",
     "output_type": "stream",
     "text": [
      "Batch 0/21 | Loss: 0.3450 | Acc: 0.8125\n",
      "Batch 5/21 | Loss: 0.3888 | Acc: 0.8177\n",
      "Batch 10/21 | Loss: 0.3856 | Acc: 0.8182\n",
      "Batch 15/21 | Loss: 0.3528 | Acc: 0.8418\n",
      "Batch 20/21 | Loss: 0.3645 | Acc: 0.8371\n",
      "Epoch 03 | Train Loss: 0.3645, Acc: 0.8371 | Val Loss: 0.3234, Acc: 0.8727, P: 0.8756, R: 0.8621, F1: 0.8671\n",
      "\n",
      "--- Epoch 4/10 ---\n"
     ]
    },
    {
     "name": "stderr",
     "output_type": "stream",
     "text": [
      "C:\\Users\\cauba\\AppData\\Local\\Temp\\ipykernel_5988\\3359186712.py:23: FutureWarning: `torch.cuda.amp.autocast(args...)` is deprecated. Please use `torch.amp.autocast('cuda', args...)` instead.\n",
      "  with autocast():\n"
     ]
    },
    {
     "name": "stdout",
     "output_type": "stream",
     "text": [
      "Batch 0/21 | Loss: 0.2347 | Acc: 0.9375\n",
      "Batch 5/21 | Loss: 0.3028 | Acc: 0.9010\n",
      "Batch 10/21 | Loss: 0.3057 | Acc: 0.8722\n",
      "Batch 15/21 | Loss: 0.2922 | Acc: 0.8828\n",
      "Batch 20/21 | Loss: 0.3103 | Acc: 0.8718\n",
      "Epoch 04 | Train Loss: 0.3103, Acc: 0.8718 | Val Loss: 0.3036, Acc: 0.8909, P: 0.8893, R: 0.8859, F1: 0.8874\n",
      "\n",
      "--- Epoch 5/10 ---\n"
     ]
    },
    {
     "name": "stderr",
     "output_type": "stream",
     "text": [
      "C:\\Users\\cauba\\AppData\\Local\\Temp\\ipykernel_5988\\3359186712.py:23: FutureWarning: `torch.cuda.amp.autocast(args...)` is deprecated. Please use `torch.amp.autocast('cuda', args...)` instead.\n",
      "  with autocast():\n"
     ]
    },
    {
     "name": "stdout",
     "output_type": "stream",
     "text": [
      "Batch 0/21 | Loss: 0.1591 | Acc: 0.9688\n",
      "Batch 5/21 | Loss: 0.2913 | Acc: 0.8906\n",
      "Batch 10/21 | Loss: 0.2803 | Acc: 0.8778\n",
      "Batch 15/21 | Loss: 0.2808 | Acc: 0.8789\n",
      "Batch 20/21 | Loss: 0.2876 | Acc: 0.8763\n",
      "Epoch 05 | Train Loss: 0.2876, Acc: 0.8763 | Val Loss: 0.2912, Acc: 0.8848, P: 0.8838, R: 0.8786, F1: 0.8809\n",
      "\n",
      "--- Epoch 6/10 ---\n"
     ]
    },
    {
     "name": "stderr",
     "output_type": "stream",
     "text": [
      "C:\\Users\\cauba\\AppData\\Local\\Temp\\ipykernel_5988\\3359186712.py:23: FutureWarning: `torch.cuda.amp.autocast(args...)` is deprecated. Please use `torch.amp.autocast('cuda', args...)` instead.\n",
      "  with autocast():\n"
     ]
    },
    {
     "name": "stdout",
     "output_type": "stream",
     "text": [
      "Batch 0/21 | Loss: 0.2915 | Acc: 0.8750\n",
      "Batch 5/21 | Loss: 0.3105 | Acc: 0.8646\n",
      "Batch 10/21 | Loss: 0.3065 | Acc: 0.8693\n",
      "Batch 15/21 | Loss: 0.2967 | Acc: 0.8750\n",
      "Batch 20/21 | Loss: 0.2837 | Acc: 0.8854\n",
      "Epoch 06 | Train Loss: 0.2837, Acc: 0.8854 | Val Loss: 0.2941, Acc: 0.8909, P: 0.9001, R: 0.8777, F1: 0.8851\n",
      "\n",
      "--- Epoch 7/10 ---\n"
     ]
    },
    {
     "name": "stderr",
     "output_type": "stream",
     "text": [
      "C:\\Users\\cauba\\AppData\\Local\\Temp\\ipykernel_5988\\3359186712.py:23: FutureWarning: `torch.cuda.amp.autocast(args...)` is deprecated. Please use `torch.amp.autocast('cuda', args...)` instead.\n",
      "  with autocast():\n"
     ]
    },
    {
     "name": "stdout",
     "output_type": "stream",
     "text": [
      "Batch 0/21 | Loss: 0.2392 | Acc: 0.8750\n",
      "Batch 5/21 | Loss: 0.3039 | Acc: 0.8594\n",
      "Batch 10/21 | Loss: 0.2882 | Acc: 0.8778\n",
      "Batch 15/21 | Loss: 0.2784 | Acc: 0.8848\n",
      "Batch 20/21 | Loss: 0.2762 | Acc: 0.8839\n",
      "Epoch 07 | Train Loss: 0.2762, Acc: 0.8839 | Val Loss: 0.2799, Acc: 0.9030, P: 0.9064, R: 0.8942, F1: 0.8990\n",
      "\n",
      "--- Epoch 8/10 ---\n"
     ]
    },
    {
     "name": "stderr",
     "output_type": "stream",
     "text": [
      "C:\\Users\\cauba\\AppData\\Local\\Temp\\ipykernel_5988\\3359186712.py:23: FutureWarning: `torch.cuda.amp.autocast(args...)` is deprecated. Please use `torch.amp.autocast('cuda', args...)` instead.\n",
      "  with autocast():\n"
     ]
    },
    {
     "name": "stdout",
     "output_type": "stream",
     "text": [
      "Batch 0/21 | Loss: 0.2734 | Acc: 0.8750\n",
      "Batch 5/21 | Loss: 0.3043 | Acc: 0.8750\n",
      "Batch 10/21 | Loss: 0.2855 | Acc: 0.8949\n",
      "Batch 15/21 | Loss: 0.2741 | Acc: 0.8906\n",
      "Batch 20/21 | Loss: 0.2688 | Acc: 0.8884\n",
      "Epoch 08 | Train Loss: 0.2688, Acc: 0.8884 | Val Loss: 0.2715, Acc: 0.9030, P: 0.9018, R: 0.8983, F1: 0.8999\n",
      "\n",
      "--- Epoch 9/10 ---\n"
     ]
    },
    {
     "name": "stderr",
     "output_type": "stream",
     "text": [
      "C:\\Users\\cauba\\AppData\\Local\\Temp\\ipykernel_5988\\3359186712.py:23: FutureWarning: `torch.cuda.amp.autocast(args...)` is deprecated. Please use `torch.amp.autocast('cuda', args...)` instead.\n",
      "  with autocast():\n"
     ]
    },
    {
     "name": "stdout",
     "output_type": "stream",
     "text": [
      "Batch 0/21 | Loss: 0.2115 | Acc: 0.9688\n",
      "Batch 5/21 | Loss: 0.2393 | Acc: 0.8958\n",
      "Batch 10/21 | Loss: 0.2589 | Acc: 0.8750\n",
      "Batch 15/21 | Loss: 0.2493 | Acc: 0.8867\n",
      "Batch 20/21 | Loss: 0.2361 | Acc: 0.9005\n",
      "Epoch 09 | Train Loss: 0.2361, Acc: 0.9005 | Val Loss: 0.2673, Acc: 0.9091, P: 0.9091, R: 0.9035, F1: 0.9060\n",
      "\n",
      "--- Epoch 10/10 ---\n"
     ]
    },
    {
     "name": "stderr",
     "output_type": "stream",
     "text": [
      "C:\\Users\\cauba\\AppData\\Local\\Temp\\ipykernel_5988\\3359186712.py:23: FutureWarning: `torch.cuda.amp.autocast(args...)` is deprecated. Please use `torch.amp.autocast('cuda', args...)` instead.\n",
      "  with autocast():\n"
     ]
    },
    {
     "name": "stdout",
     "output_type": "stream",
     "text": [
      "Batch 0/21 | Loss: 0.1909 | Acc: 0.9688\n",
      "Batch 5/21 | Loss: 0.2436 | Acc: 0.9219\n",
      "Batch 10/21 | Loss: 0.2186 | Acc: 0.9205\n",
      "Batch 15/21 | Loss: 0.2193 | Acc: 0.9258\n",
      "Batch 20/21 | Loss: 0.2242 | Acc: 0.9246\n",
      "Epoch 10 | Train Loss: 0.2242, Acc: 0.9246 | Val Loss: 0.2635, Acc: 0.9152, P: 0.9144, R: 0.9108, F1: 0.9124\n"
     ]
    },
    {
     "name": "stderr",
     "output_type": "stream",
     "text": [
      "C:\\Users\\cauba\\AppData\\Local\\Temp\\ipykernel_5988\\3359186712.py:124: FutureWarning: You are using `torch.load` with `weights_only=False` (the current default value), which uses the default pickle module implicitly. It is possible to construct malicious pickle data which will execute arbitrary code during unpickling (See https://github.com/pytorch/pytorch/blob/main/SECURITY.md#untrusted-models for more details). In a future release, the default value for `weights_only` will be flipped to `True`. This limits the functions that could be executed during unpickling. Arbitrary objects will no longer be allowed to be loaded via this mode unless they are explicitly allowlisted by the user via `torch.serialization.add_safe_globals`. We recommend you start setting `weights_only=True` for any use case where you don't have full control of the loaded file. Please open an issue on GitHub for any issues related to this experimental feature.\n",
      "  model.load_state_dict(torch.load(best_state_frozen, map_location=device))\n",
      "C:\\Users\\cauba\\AppData\\Local\\Temp\\ipykernel_5988\\3359186712.py:4: FutureWarning: `torch.cuda.amp.GradScaler(args...)` is deprecated. Please use `torch.amp.GradScaler('cuda', args...)` instead.\n",
      "  scaler = GradScaler() if use_amp else None\n"
     ]
    },
    {
     "name": "stdout",
     "output_type": "stream",
     "text": [
      "\n",
      "▶️ Phase: fold5_finetune | epochs=20 | lr=0.0001 | weight_decay=0.0001\n",
      "\n",
      "--- Epoch 1/20 ---\n"
     ]
    },
    {
     "name": "stderr",
     "output_type": "stream",
     "text": [
      "C:\\Users\\cauba\\AppData\\Local\\Temp\\ipykernel_5988\\3359186712.py:23: FutureWarning: `torch.cuda.amp.autocast(args...)` is deprecated. Please use `torch.amp.autocast('cuda', args...)` instead.\n",
      "  with autocast():\n"
     ]
    },
    {
     "name": "stdout",
     "output_type": "stream",
     "text": [
      "Batch 0/21 | Loss: 0.3561 | Acc: 0.9062\n",
      "Batch 5/21 | Loss: 0.2991 | Acc: 0.8802\n",
      "Batch 10/21 | Loss: 0.3155 | Acc: 0.8580\n",
      "Batch 15/21 | Loss: 0.3258 | Acc: 0.8574\n",
      "Batch 20/21 | Loss: 0.3254 | Acc: 0.8597\n",
      "Epoch 01 | Train Loss: 0.3254, Acc: 0.8597 | Val Loss: 0.2516, Acc: 0.9273, P: 0.9253, R: 0.9253, F1: 0.9253\n",
      "\n",
      "--- Epoch 2/20 ---\n"
     ]
    },
    {
     "name": "stderr",
     "output_type": "stream",
     "text": [
      "C:\\Users\\cauba\\AppData\\Local\\Temp\\ipykernel_5988\\3359186712.py:23: FutureWarning: `torch.cuda.amp.autocast(args...)` is deprecated. Please use `torch.amp.autocast('cuda', args...)` instead.\n",
      "  with autocast():\n"
     ]
    },
    {
     "name": "stdout",
     "output_type": "stream",
     "text": [
      "Batch 0/21 | Loss: 0.1966 | Acc: 0.9062\n",
      "Batch 5/21 | Loss: 0.2063 | Acc: 0.9062\n",
      "Batch 10/21 | Loss: 0.1740 | Acc: 0.9205\n",
      "Batch 15/21 | Loss: 0.1773 | Acc: 0.9199\n",
      "Batch 20/21 | Loss: 0.1791 | Acc: 0.9246\n",
      "Epoch 02 | Train Loss: 0.1791, Acc: 0.9246 | Val Loss: 0.2400, Acc: 0.9152, P: 0.9115, R: 0.9210, F1: 0.9140\n",
      "\n",
      "--- Epoch 3/20 ---\n"
     ]
    },
    {
     "name": "stderr",
     "output_type": "stream",
     "text": [
      "C:\\Users\\cauba\\AppData\\Local\\Temp\\ipykernel_5988\\3359186712.py:23: FutureWarning: `torch.cuda.amp.autocast(args...)` is deprecated. Please use `torch.amp.autocast('cuda', args...)` instead.\n",
      "  with autocast():\n"
     ]
    },
    {
     "name": "stdout",
     "output_type": "stream",
     "text": [
      "Batch 0/21 | Loss: 0.0794 | Acc: 1.0000\n",
      "Batch 5/21 | Loss: 0.1332 | Acc: 0.9583\n",
      "Batch 10/21 | Loss: 0.1352 | Acc: 0.9545\n",
      "Batch 15/21 | Loss: 0.1596 | Acc: 0.9434\n",
      "Batch 20/21 | Loss: 0.1624 | Acc: 0.9442\n",
      "Epoch 03 | Train Loss: 0.1624, Acc: 0.9442 | Val Loss: 0.2679, Acc: 0.9212, P: 0.9242, R: 0.9139, F1: 0.9181\n",
      "\n",
      "--- Epoch 4/20 ---\n"
     ]
    },
    {
     "name": "stderr",
     "output_type": "stream",
     "text": [
      "C:\\Users\\cauba\\AppData\\Local\\Temp\\ipykernel_5988\\3359186712.py:23: FutureWarning: `torch.cuda.amp.autocast(args...)` is deprecated. Please use `torch.amp.autocast('cuda', args...)` instead.\n",
      "  with autocast():\n"
     ]
    },
    {
     "name": "stdout",
     "output_type": "stream",
     "text": [
      "Batch 0/21 | Loss: 0.1139 | Acc: 0.9375\n",
      "Batch 5/21 | Loss: 0.0982 | Acc: 0.9531\n",
      "Batch 10/21 | Loss: 0.0875 | Acc: 0.9659\n",
      "Batch 15/21 | Loss: 0.0872 | Acc: 0.9648\n",
      "Batch 20/21 | Loss: 0.0811 | Acc: 0.9683\n",
      "Epoch 04 | Train Loss: 0.0811, Acc: 0.9683 | Val Loss: 0.2651, Acc: 0.9333, P: 0.9402, R: 0.9244, F1: 0.9304\n",
      "\n",
      "--- Epoch 5/20 ---\n"
     ]
    },
    {
     "name": "stderr",
     "output_type": "stream",
     "text": [
      "C:\\Users\\cauba\\AppData\\Local\\Temp\\ipykernel_5988\\3359186712.py:23: FutureWarning: `torch.cuda.amp.autocast(args...)` is deprecated. Please use `torch.amp.autocast('cuda', args...)` instead.\n",
      "  with autocast():\n"
     ]
    },
    {
     "name": "stdout",
     "output_type": "stream",
     "text": [
      "Batch 0/21 | Loss: 0.0821 | Acc: 0.9688\n",
      "Batch 5/21 | Loss: 0.0889 | Acc: 0.9635\n",
      "Batch 10/21 | Loss: 0.0666 | Acc: 0.9716\n",
      "Batch 15/21 | Loss: 0.0657 | Acc: 0.9727\n",
      "Batch 20/21 | Loss: 0.0708 | Acc: 0.9729\n",
      "Epoch 05 | Train Loss: 0.0708, Acc: 0.9729 | Val Loss: 0.2407, Acc: 0.9152, P: 0.9117, R: 0.9149, F1: 0.9132\n",
      "\n",
      "--- Epoch 6/20 ---\n"
     ]
    },
    {
     "name": "stderr",
     "output_type": "stream",
     "text": [
      "C:\\Users\\cauba\\AppData\\Local\\Temp\\ipykernel_5988\\3359186712.py:23: FutureWarning: `torch.cuda.amp.autocast(args...)` is deprecated. Please use `torch.amp.autocast('cuda', args...)` instead.\n",
      "  with autocast():\n"
     ]
    },
    {
     "name": "stdout",
     "output_type": "stream",
     "text": [
      "Batch 0/21 | Loss: 0.0224 | Acc: 1.0000\n",
      "Batch 5/21 | Loss: 0.0370 | Acc: 0.9844\n",
      "Batch 10/21 | Loss: 0.0484 | Acc: 0.9773\n",
      "Batch 15/21 | Loss: 0.0666 | Acc: 0.9746\n",
      "Batch 20/21 | Loss: 0.0656 | Acc: 0.9744\n",
      "Epoch 06 | Train Loss: 0.0656, Acc: 0.9744 | Val Loss: 0.2461, Acc: 0.9212, P: 0.9198, R: 0.9180, F1: 0.9189\n",
      "\n",
      "--- Epoch 7/20 ---\n"
     ]
    },
    {
     "name": "stderr",
     "output_type": "stream",
     "text": [
      "C:\\Users\\cauba\\AppData\\Local\\Temp\\ipykernel_5988\\3359186712.py:23: FutureWarning: `torch.cuda.amp.autocast(args...)` is deprecated. Please use `torch.amp.autocast('cuda', args...)` instead.\n",
      "  with autocast():\n"
     ]
    },
    {
     "name": "stdout",
     "output_type": "stream",
     "text": [
      "Batch 0/21 | Loss: 0.0329 | Acc: 1.0000\n",
      "Batch 5/21 | Loss: 0.0257 | Acc: 0.9948\n",
      "Batch 10/21 | Loss: 0.0383 | Acc: 0.9830\n",
      "Batch 15/21 | Loss: 0.0409 | Acc: 0.9824\n",
      "Batch 20/21 | Loss: 0.0417 | Acc: 0.9834\n",
      "Epoch 07 | Train Loss: 0.0417, Acc: 0.9834 | Val Loss: 0.2797, Acc: 0.9212, P: 0.9242, R: 0.9139, F1: 0.9181\n",
      "\n",
      "--- Epoch 8/20 ---\n"
     ]
    },
    {
     "name": "stderr",
     "output_type": "stream",
     "text": [
      "C:\\Users\\cauba\\AppData\\Local\\Temp\\ipykernel_5988\\3359186712.py:23: FutureWarning: `torch.cuda.amp.autocast(args...)` is deprecated. Please use `torch.amp.autocast('cuda', args...)` instead.\n",
      "  with autocast():\n"
     ]
    },
    {
     "name": "stdout",
     "output_type": "stream",
     "text": [
      "Batch 0/21 | Loss: 0.0022 | Acc: 1.0000\n",
      "Batch 5/21 | Loss: 0.0293 | Acc: 0.9896\n",
      "Batch 10/21 | Loss: 0.0312 | Acc: 0.9886\n",
      "Batch 15/21 | Loss: 0.0276 | Acc: 0.9922\n",
      "Batch 20/21 | Loss: 0.0263 | Acc: 0.9925\n",
      "Epoch 08 | Train Loss: 0.0263, Acc: 0.9925 | Val Loss: 0.2896, Acc: 0.9333, P: 0.9370, R: 0.9264, F1: 0.9307\n",
      "\n",
      "--- Epoch 9/20 ---\n"
     ]
    },
    {
     "name": "stderr",
     "output_type": "stream",
     "text": [
      "C:\\Users\\cauba\\AppData\\Local\\Temp\\ipykernel_5988\\3359186712.py:23: FutureWarning: `torch.cuda.amp.autocast(args...)` is deprecated. Please use `torch.amp.autocast('cuda', args...)` instead.\n",
      "  with autocast():\n"
     ]
    },
    {
     "name": "stdout",
     "output_type": "stream",
     "text": [
      "Batch 0/21 | Loss: 0.0084 | Acc: 1.0000\n",
      "Batch 5/21 | Loss: 0.0436 | Acc: 0.9844\n",
      "Batch 10/21 | Loss: 0.0340 | Acc: 0.9886\n",
      "Batch 15/21 | Loss: 0.0338 | Acc: 0.9883\n",
      "Batch 20/21 | Loss: 0.0339 | Acc: 0.9864\n",
      "Epoch 09 | Train Loss: 0.0339, Acc: 0.9864 | Val Loss: 0.3055, Acc: 0.9394, P: 0.9449, R: 0.9316, F1: 0.9369\n",
      "\n",
      "--- Epoch 10/20 ---\n"
     ]
    },
    {
     "name": "stderr",
     "output_type": "stream",
     "text": [
      "C:\\Users\\cauba\\AppData\\Local\\Temp\\ipykernel_5988\\3359186712.py:23: FutureWarning: `torch.cuda.amp.autocast(args...)` is deprecated. Please use `torch.amp.autocast('cuda', args...)` instead.\n",
      "  with autocast():\n"
     ]
    },
    {
     "name": "stdout",
     "output_type": "stream",
     "text": [
      "Batch 0/21 | Loss: 0.0075 | Acc: 1.0000\n",
      "Batch 5/21 | Loss: 0.0262 | Acc: 0.9896\n",
      "Batch 10/21 | Loss: 0.0524 | Acc: 0.9830\n",
      "Batch 15/21 | Loss: 0.0492 | Acc: 0.9824\n",
      "Batch 20/21 | Loss: 0.0477 | Acc: 0.9819\n",
      "Epoch 10 | Train Loss: 0.0477, Acc: 0.9819 | Val Loss: 0.3150, Acc: 0.9212, P: 0.9217, R: 0.9160, F1: 0.9185\n",
      "\n",
      "--- Epoch 11/20 ---\n"
     ]
    },
    {
     "name": "stderr",
     "output_type": "stream",
     "text": [
      "C:\\Users\\cauba\\AppData\\Local\\Temp\\ipykernel_5988\\3359186712.py:23: FutureWarning: `torch.cuda.amp.autocast(args...)` is deprecated. Please use `torch.amp.autocast('cuda', args...)` instead.\n",
      "  with autocast():\n"
     ]
    },
    {
     "name": "stdout",
     "output_type": "stream",
     "text": [
      "Batch 0/21 | Loss: 0.0081 | Acc: 1.0000\n",
      "Batch 5/21 | Loss: 0.0411 | Acc: 0.9844\n",
      "Batch 10/21 | Loss: 0.0464 | Acc: 0.9830\n",
      "Batch 15/21 | Loss: 0.0575 | Acc: 0.9766\n",
      "Batch 20/21 | Loss: 0.0624 | Acc: 0.9744\n",
      "Epoch 11 | Train Loss: 0.0624, Acc: 0.9744 | Val Loss: 0.2360, Acc: 0.9394, P: 0.9365, R: 0.9398, F1: 0.9380\n",
      "\n",
      "--- Epoch 12/20 ---\n"
     ]
    },
    {
     "name": "stderr",
     "output_type": "stream",
     "text": [
      "C:\\Users\\cauba\\AppData\\Local\\Temp\\ipykernel_5988\\3359186712.py:23: FutureWarning: `torch.cuda.amp.autocast(args...)` is deprecated. Please use `torch.amp.autocast('cuda', args...)` instead.\n",
      "  with autocast():\n"
     ]
    },
    {
     "name": "stdout",
     "output_type": "stream",
     "text": [
      "Batch 0/21 | Loss: 0.0242 | Acc: 1.0000\n",
      "Batch 5/21 | Loss: 0.0574 | Acc: 0.9948\n",
      "Batch 10/21 | Loss: 0.0482 | Acc: 0.9915\n",
      "Batch 15/21 | Loss: 0.0418 | Acc: 0.9922\n",
      "Batch 20/21 | Loss: 0.0432 | Acc: 0.9910\n",
      "Epoch 12 | Train Loss: 0.0432, Acc: 0.9910 | Val Loss: 0.2503, Acc: 0.9455, P: 0.9448, R: 0.9429, F1: 0.9438\n",
      "\n",
      "--- Epoch 13/20 ---\n"
     ]
    },
    {
     "name": "stderr",
     "output_type": "stream",
     "text": [
      "C:\\Users\\cauba\\AppData\\Local\\Temp\\ipykernel_5988\\3359186712.py:23: FutureWarning: `torch.cuda.amp.autocast(args...)` is deprecated. Please use `torch.amp.autocast('cuda', args...)` instead.\n",
      "  with autocast():\n"
     ]
    },
    {
     "name": "stdout",
     "output_type": "stream",
     "text": [
      "Batch 0/21 | Loss: 0.0016 | Acc: 1.0000\n",
      "Batch 5/21 | Loss: 0.0164 | Acc: 0.9896\n",
      "Batch 10/21 | Loss: 0.0116 | Acc: 0.9943\n",
      "Batch 15/21 | Loss: 0.0165 | Acc: 0.9922\n",
      "Batch 20/21 | Loss: 0.0155 | Acc: 0.9925\n",
      "Epoch 13 | Train Loss: 0.0155, Acc: 0.9925 | Val Loss: 0.3109, Acc: 0.9091, P: 0.9050, R: 0.9117, F1: 0.9074\n",
      "\n",
      "--- Epoch 14/20 ---\n"
     ]
    },
    {
     "name": "stderr",
     "output_type": "stream",
     "text": [
      "C:\\Users\\cauba\\AppData\\Local\\Temp\\ipykernel_5988\\3359186712.py:23: FutureWarning: `torch.cuda.amp.autocast(args...)` is deprecated. Please use `torch.amp.autocast('cuda', args...)` instead.\n",
      "  with autocast():\n"
     ]
    },
    {
     "name": "stdout",
     "output_type": "stream",
     "text": [
      "Batch 0/21 | Loss: 0.0096 | Acc: 1.0000\n",
      "Batch 5/21 | Loss: 0.0248 | Acc: 0.9896\n",
      "Batch 10/21 | Loss: 0.0202 | Acc: 0.9915\n",
      "Batch 15/21 | Loss: 0.0209 | Acc: 0.9902\n",
      "Batch 20/21 | Loss: 0.0215 | Acc: 0.9879\n",
      "Epoch 14 | Train Loss: 0.0215, Acc: 0.9879 | Val Loss: 0.2805, Acc: 0.9515, P: 0.9502, R: 0.9502, F1: 0.9502\n",
      "\n",
      "--- Epoch 15/20 ---\n"
     ]
    },
    {
     "name": "stderr",
     "output_type": "stream",
     "text": [
      "C:\\Users\\cauba\\AppData\\Local\\Temp\\ipykernel_5988\\3359186712.py:23: FutureWarning: `torch.cuda.amp.autocast(args...)` is deprecated. Please use `torch.amp.autocast('cuda', args...)` instead.\n",
      "  with autocast():\n"
     ]
    },
    {
     "name": "stdout",
     "output_type": "stream",
     "text": [
      "Batch 0/21 | Loss: 0.0006 | Acc: 1.0000\n",
      "Batch 5/21 | Loss: 0.0056 | Acc: 1.0000\n",
      "Batch 10/21 | Loss: 0.0125 | Acc: 0.9972\n",
      "Batch 15/21 | Loss: 0.0405 | Acc: 0.9922\n",
      "Batch 20/21 | Loss: 0.0452 | Acc: 0.9894\n",
      "Epoch 15 | Train Loss: 0.0452, Acc: 0.9894 | Val Loss: 0.4463, Acc: 0.9273, P: 0.9444, R: 0.9130, F1: 0.9230\n",
      "\n",
      "--- Epoch 16/20 ---\n"
     ]
    },
    {
     "name": "stderr",
     "output_type": "stream",
     "text": [
      "C:\\Users\\cauba\\AppData\\Local\\Temp\\ipykernel_5988\\3359186712.py:23: FutureWarning: `torch.cuda.amp.autocast(args...)` is deprecated. Please use `torch.amp.autocast('cuda', args...)` instead.\n",
      "  with autocast():\n"
     ]
    },
    {
     "name": "stdout",
     "output_type": "stream",
     "text": [
      "Batch 0/21 | Loss: 0.0364 | Acc: 0.9688\n",
      "Batch 5/21 | Loss: 0.0418 | Acc: 0.9896\n",
      "Batch 10/21 | Loss: 0.0302 | Acc: 0.9915\n",
      "Batch 15/21 | Loss: 0.0292 | Acc: 0.9922\n",
      "Batch 20/21 | Loss: 0.0255 | Acc: 0.9940\n",
      "Epoch 16 | Train Loss: 0.0255, Acc: 0.9940 | Val Loss: 0.2831, Acc: 0.9455, P: 0.9571, R: 0.9348, F1: 0.9427\n",
      "\n",
      "--- Epoch 17/20 ---\n"
     ]
    },
    {
     "name": "stderr",
     "output_type": "stream",
     "text": [
      "C:\\Users\\cauba\\AppData\\Local\\Temp\\ipykernel_5988\\3359186712.py:23: FutureWarning: `torch.cuda.amp.autocast(args...)` is deprecated. Please use `torch.amp.autocast('cuda', args...)` instead.\n",
      "  with autocast():\n"
     ]
    },
    {
     "name": "stdout",
     "output_type": "stream",
     "text": [
      "Batch 0/21 | Loss: 0.0180 | Acc: 1.0000\n",
      "Batch 5/21 | Loss: 0.0089 | Acc: 1.0000\n",
      "Batch 10/21 | Loss: 0.0073 | Acc: 1.0000\n",
      "Batch 15/21 | Loss: 0.0242 | Acc: 0.9961\n",
      "Batch 20/21 | Loss: 0.0306 | Acc: 0.9925\n",
      "Epoch 17 | Train Loss: 0.0306, Acc: 0.9925 | Val Loss: 0.2735, Acc: 0.9515, P: 0.9577, R: 0.9441, F1: 0.9495\n",
      "\n",
      "--- Epoch 18/20 ---\n"
     ]
    },
    {
     "name": "stderr",
     "output_type": "stream",
     "text": [
      "C:\\Users\\cauba\\AppData\\Local\\Temp\\ipykernel_5988\\3359186712.py:23: FutureWarning: `torch.cuda.amp.autocast(args...)` is deprecated. Please use `torch.amp.autocast('cuda', args...)` instead.\n",
      "  with autocast():\n"
     ]
    },
    {
     "name": "stdout",
     "output_type": "stream",
     "text": [
      "Batch 0/21 | Loss: 0.0089 | Acc: 1.0000\n",
      "Batch 5/21 | Loss: 0.0058 | Acc: 1.0000\n",
      "Batch 10/21 | Loss: 0.0069 | Acc: 1.0000\n",
      "Batch 15/21 | Loss: 0.0168 | Acc: 0.9980\n",
      "Batch 20/21 | Loss: 0.0155 | Acc: 0.9985\n",
      "Epoch 18 | Train Loss: 0.0155, Acc: 0.9985 | Val Loss: 0.2502, Acc: 0.9576, P: 0.9625, R: 0.9513, F1: 0.9559\n",
      "\n",
      "--- Epoch 19/20 ---\n"
     ]
    },
    {
     "name": "stderr",
     "output_type": "stream",
     "text": [
      "C:\\Users\\cauba\\AppData\\Local\\Temp\\ipykernel_5988\\3359186712.py:23: FutureWarning: `torch.cuda.amp.autocast(args...)` is deprecated. Please use `torch.amp.autocast('cuda', args...)` instead.\n",
      "  with autocast():\n"
     ]
    },
    {
     "name": "stdout",
     "output_type": "stream",
     "text": [
      "Batch 0/21 | Loss: 0.0358 | Acc: 0.9688\n",
      "Batch 5/21 | Loss: 0.0205 | Acc: 0.9948\n",
      "Batch 10/21 | Loss: 0.0134 | Acc: 0.9972\n",
      "Batch 15/21 | Loss: 0.0115 | Acc: 0.9980\n",
      "Batch 20/21 | Loss: 0.0140 | Acc: 0.9970\n",
      "Epoch 19 | Train Loss: 0.0140, Acc: 0.9970 | Val Loss: 0.2405, Acc: 0.9394, P: 0.9377, R: 0.9377, F1: 0.9377\n",
      "\n",
      "--- Epoch 20/20 ---\n"
     ]
    },
    {
     "name": "stderr",
     "output_type": "stream",
     "text": [
      "C:\\Users\\cauba\\AppData\\Local\\Temp\\ipykernel_5988\\3359186712.py:23: FutureWarning: `torch.cuda.amp.autocast(args...)` is deprecated. Please use `torch.amp.autocast('cuda', args...)` instead.\n",
      "  with autocast():\n"
     ]
    },
    {
     "name": "stdout",
     "output_type": "stream",
     "text": [
      "Batch 0/21 | Loss: 0.0086 | Acc: 1.0000\n",
      "Batch 5/21 | Loss: 0.0118 | Acc: 0.9948\n",
      "Batch 10/21 | Loss: 0.0083 | Acc: 0.9972\n",
      "Batch 15/21 | Loss: 0.0174 | Acc: 0.9941\n",
      "Batch 20/21 | Loss: 0.0154 | Acc: 0.9955\n",
      "Epoch 20 | Train Loss: 0.0154, Acc: 0.9955 | Val Loss: 0.2685, Acc: 0.9333, P: 0.9299, R: 0.9346, F1: 0.9319\n"
     ]
    },
    {
     "name": "stderr",
     "output_type": "stream",
     "text": [
      "C:\\Users\\cauba\\AppData\\Local\\Temp\\ipykernel_5988\\3359186712.py:135: FutureWarning: You are using `torch.load` with `weights_only=False` (the current default value), which uses the default pickle module implicitly. It is possible to construct malicious pickle data which will execute arbitrary code during unpickling (See https://github.com/pytorch/pytorch/blob/main/SECURITY.md#untrusted-models for more details). In a future release, the default value for `weights_only` will be flipped to `True`. This limits the functions that could be executed during unpickling. Arbitrary objects will no longer be allowed to be loaded via this mode unless they are explicitly allowlisted by the user via `torch.serialization.add_safe_globals`. We recommend you start setting `weights_only=True` for any use case where you don't have full control of the loaded file. Please open an issue on GitHub for any issues related to this experimental feature.\n",
      "  model.load_state_dict(torch.load(best_state_ft, map_location=device))\n"
     ]
    },
    {
     "name": "stdout",
     "output_type": "stream",
     "text": [
      "\n",
      "📄 Saved results: models\\convnext_tiny\\convnext_tiny_kfold_results.csv\n"
     ]
    },
    {
     "data": {
      "image/png": "[encoded data removed]",
      "text/plain": [
       "<Figure size 600x400 with 1 Axes>"
      ]
     },
     "metadata": {},
     "output_type": "display_data"
    }
   ],
   "source": [
    "model_name = \"convnext_tiny\" \n",
    "k = 5                \n",
    "epochs_frozen = 10     \n",
    "epochs_ft = 20          \n",
    "batch_size = 32\n",
    "img_size = (224, 224)\n",
    "base_lr = 1e-3\n",
    "ft_lr = 1e-4\n",
    "weight_decay = 1e-4     \n",
    "pretrained = True\n",
    "\n",
    "run_kfold_training(\n",
    "    model_name=model_name,\n",
    "    dataset_path=dataset_path,\n",
    "    k=k,\n",
    "    epochs_frozen=epochs_frozen,\n",
    "    epochs_ft=epochs_ft,\n",
    "    batch_size=batch_size,\n",
    "    img_size=img_size,\n",
    "    base_lr=base_lr,\n",
    "    ft_lr=ft_lr,\n",
    "    weight_decay=weight_decay,\n",
    "    pretrained=pretrained\n",
    ")\n"
   ]
  },
  {
   "cell_type": "markdown",
   "id": "967ddfad",
   "metadata": {},
   "source": [
    "- ViT-B16"
   ]
  },
  {
   "cell_type": "code",
   "execution_count": null,
   "id": "2012977f",
   "metadata": {},
   "outputs": [],
   "source": []
  },
  {
   "cell_type": "markdown",
   "id": "fdf24c8c",
   "metadata": {},
   "source": [
    "- CoatNeT"
   ]
  },
  {
   "cell_type": "code",
   "execution_count": null,
   "id": "22a95c8b",
   "metadata": {},
   "outputs": [],
   "source": []
  }
 ],
 "metadata": {
  "kernelspec": {
   "display_name": "Python 3",
   "language": "python",
   "name": "python3"
  },
  "language_info": {
   "codemirror_mode": {
    "name": "ipython",
    "version": 3
   },
   "file_extension": ".py",
   "mimetype": "text/x-python",
   "name": "python",
   "nbconvert_exporter": "python",
   "pygments_lexer": "ipython3",
   "version": "3.11.0"
  }
 },
 "nbformat": 4,
 "nbformat_minor": 5
}
